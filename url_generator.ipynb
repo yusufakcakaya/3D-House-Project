{
 "cells": [
  {
   "cell_type": "code",
   "execution_count": 7,
   "id": "ce2f5b66",
   "metadata": {},
   "outputs": [],
   "source": [
    "import rasterio\n",
    "import pandas as pd\n"
   ]
  },
  {
   "cell_type": "code",
   "execution_count": 2,
   "id": "04d9af37",
   "metadata": {},
   "outputs": [],
   "source": [
    "list_of_url = []\n",
    "for i in range(1,44):\n",
    "    page_num = str(i)\n",
    "    if i < 10:\n",
    "        url = (\n",
    "            \"zip+https://downloadagiv.blob.core.windows.net/dhm-vlaanderen-ii-dsm-raster-1m/DHMVIIDSMRAS1m_k0\" + page_num \n",
    "                + '.zip!/GeoTIFF/DHMVIIDSMRAS1m_k0'+ page_num + '.tif'\n",
    "            )\n",
    "        list_of_url.append(url)\n",
    "    else: \n",
    "        url = (\n",
    "            \"zip+https://downloadagiv.blob.core.windows.net/dhm-vlaanderen-ii-dsm-raster-1m/DHMVIIDSMRAS1m_k\" + page_num \n",
    "                + '.zip!/GeoTIFF/DHMVIIDSMRAS1m_k'+ page_num + '.tif'\n",
    "            )\n",
    "        list_of_url.append(url)\n",
    "        \n"
   ]
  },
  {
   "cell_type": "code",
   "execution_count": 3,
   "id": "80e51a25",
   "metadata": {},
   "outputs": [
    {
     "data": {
      "text/plain": [
       "['zip+https://downloadagiv.blob.core.windows.net/dhm-vlaanderen-ii-dsm-raster-1m/DHMVIIDSMRAS1m_k01.zip!/GeoTIFF/DHMVIIDSMRAS1m_k01.tif',\n",
       " 'zip+https://downloadagiv.blob.core.windows.net/dhm-vlaanderen-ii-dsm-raster-1m/DHMVIIDSMRAS1m_k02.zip!/GeoTIFF/DHMVIIDSMRAS1m_k02.tif',\n",
       " 'zip+https://downloadagiv.blob.core.windows.net/dhm-vlaanderen-ii-dsm-raster-1m/DHMVIIDSMRAS1m_k03.zip!/GeoTIFF/DHMVIIDSMRAS1m_k03.tif',\n",
       " 'zip+https://downloadagiv.blob.core.windows.net/dhm-vlaanderen-ii-dsm-raster-1m/DHMVIIDSMRAS1m_k04.zip!/GeoTIFF/DHMVIIDSMRAS1m_k04.tif',\n",
       " 'zip+https://downloadagiv.blob.core.windows.net/dhm-vlaanderen-ii-dsm-raster-1m/DHMVIIDSMRAS1m_k05.zip!/GeoTIFF/DHMVIIDSMRAS1m_k05.tif',\n",
       " 'zip+https://downloadagiv.blob.core.windows.net/dhm-vlaanderen-ii-dsm-raster-1m/DHMVIIDSMRAS1m_k06.zip!/GeoTIFF/DHMVIIDSMRAS1m_k06.tif',\n",
       " 'zip+https://downloadagiv.blob.core.windows.net/dhm-vlaanderen-ii-dsm-raster-1m/DHMVIIDSMRAS1m_k07.zip!/GeoTIFF/DHMVIIDSMRAS1m_k07.tif',\n",
       " 'zip+https://downloadagiv.blob.core.windows.net/dhm-vlaanderen-ii-dsm-raster-1m/DHMVIIDSMRAS1m_k08.zip!/GeoTIFF/DHMVIIDSMRAS1m_k08.tif',\n",
       " 'zip+https://downloadagiv.blob.core.windows.net/dhm-vlaanderen-ii-dsm-raster-1m/DHMVIIDSMRAS1m_k09.zip!/GeoTIFF/DHMVIIDSMRAS1m_k09.tif',\n",
       " 'zip+https://downloadagiv.blob.core.windows.net/dhm-vlaanderen-ii-dsm-raster-1m/DHMVIIDSMRAS1m_k10.zip!/GeoTIFF/DHMVIIDSMRAS1m_k10.tif',\n",
       " 'zip+https://downloadagiv.blob.core.windows.net/dhm-vlaanderen-ii-dsm-raster-1m/DHMVIIDSMRAS1m_k11.zip!/GeoTIFF/DHMVIIDSMRAS1m_k11.tif',\n",
       " 'zip+https://downloadagiv.blob.core.windows.net/dhm-vlaanderen-ii-dsm-raster-1m/DHMVIIDSMRAS1m_k12.zip!/GeoTIFF/DHMVIIDSMRAS1m_k12.tif',\n",
       " 'zip+https://downloadagiv.blob.core.windows.net/dhm-vlaanderen-ii-dsm-raster-1m/DHMVIIDSMRAS1m_k13.zip!/GeoTIFF/DHMVIIDSMRAS1m_k13.tif',\n",
       " 'zip+https://downloadagiv.blob.core.windows.net/dhm-vlaanderen-ii-dsm-raster-1m/DHMVIIDSMRAS1m_k14.zip!/GeoTIFF/DHMVIIDSMRAS1m_k14.tif',\n",
       " 'zip+https://downloadagiv.blob.core.windows.net/dhm-vlaanderen-ii-dsm-raster-1m/DHMVIIDSMRAS1m_k15.zip!/GeoTIFF/DHMVIIDSMRAS1m_k15.tif',\n",
       " 'zip+https://downloadagiv.blob.core.windows.net/dhm-vlaanderen-ii-dsm-raster-1m/DHMVIIDSMRAS1m_k16.zip!/GeoTIFF/DHMVIIDSMRAS1m_k16.tif',\n",
       " 'zip+https://downloadagiv.blob.core.windows.net/dhm-vlaanderen-ii-dsm-raster-1m/DHMVIIDSMRAS1m_k17.zip!/GeoTIFF/DHMVIIDSMRAS1m_k17.tif',\n",
       " 'zip+https://downloadagiv.blob.core.windows.net/dhm-vlaanderen-ii-dsm-raster-1m/DHMVIIDSMRAS1m_k18.zip!/GeoTIFF/DHMVIIDSMRAS1m_k18.tif',\n",
       " 'zip+https://downloadagiv.blob.core.windows.net/dhm-vlaanderen-ii-dsm-raster-1m/DHMVIIDSMRAS1m_k19.zip!/GeoTIFF/DHMVIIDSMRAS1m_k19.tif',\n",
       " 'zip+https://downloadagiv.blob.core.windows.net/dhm-vlaanderen-ii-dsm-raster-1m/DHMVIIDSMRAS1m_k20.zip!/GeoTIFF/DHMVIIDSMRAS1m_k20.tif',\n",
       " 'zip+https://downloadagiv.blob.core.windows.net/dhm-vlaanderen-ii-dsm-raster-1m/DHMVIIDSMRAS1m_k21.zip!/GeoTIFF/DHMVIIDSMRAS1m_k21.tif',\n",
       " 'zip+https://downloadagiv.blob.core.windows.net/dhm-vlaanderen-ii-dsm-raster-1m/DHMVIIDSMRAS1m_k22.zip!/GeoTIFF/DHMVIIDSMRAS1m_k22.tif',\n",
       " 'zip+https://downloadagiv.blob.core.windows.net/dhm-vlaanderen-ii-dsm-raster-1m/DHMVIIDSMRAS1m_k23.zip!/GeoTIFF/DHMVIIDSMRAS1m_k23.tif',\n",
       " 'zip+https://downloadagiv.blob.core.windows.net/dhm-vlaanderen-ii-dsm-raster-1m/DHMVIIDSMRAS1m_k24.zip!/GeoTIFF/DHMVIIDSMRAS1m_k24.tif',\n",
       " 'zip+https://downloadagiv.blob.core.windows.net/dhm-vlaanderen-ii-dsm-raster-1m/DHMVIIDSMRAS1m_k25.zip!/GeoTIFF/DHMVIIDSMRAS1m_k25.tif',\n",
       " 'zip+https://downloadagiv.blob.core.windows.net/dhm-vlaanderen-ii-dsm-raster-1m/DHMVIIDSMRAS1m_k26.zip!/GeoTIFF/DHMVIIDSMRAS1m_k26.tif',\n",
       " 'zip+https://downloadagiv.blob.core.windows.net/dhm-vlaanderen-ii-dsm-raster-1m/DHMVIIDSMRAS1m_k27.zip!/GeoTIFF/DHMVIIDSMRAS1m_k27.tif',\n",
       " 'zip+https://downloadagiv.blob.core.windows.net/dhm-vlaanderen-ii-dsm-raster-1m/DHMVIIDSMRAS1m_k28.zip!/GeoTIFF/DHMVIIDSMRAS1m_k28.tif',\n",
       " 'zip+https://downloadagiv.blob.core.windows.net/dhm-vlaanderen-ii-dsm-raster-1m/DHMVIIDSMRAS1m_k29.zip!/GeoTIFF/DHMVIIDSMRAS1m_k29.tif',\n",
       " 'zip+https://downloadagiv.blob.core.windows.net/dhm-vlaanderen-ii-dsm-raster-1m/DHMVIIDSMRAS1m_k30.zip!/GeoTIFF/DHMVIIDSMRAS1m_k30.tif',\n",
       " 'zip+https://downloadagiv.blob.core.windows.net/dhm-vlaanderen-ii-dsm-raster-1m/DHMVIIDSMRAS1m_k31.zip!/GeoTIFF/DHMVIIDSMRAS1m_k31.tif',\n",
       " 'zip+https://downloadagiv.blob.core.windows.net/dhm-vlaanderen-ii-dsm-raster-1m/DHMVIIDSMRAS1m_k32.zip!/GeoTIFF/DHMVIIDSMRAS1m_k32.tif',\n",
       " 'zip+https://downloadagiv.blob.core.windows.net/dhm-vlaanderen-ii-dsm-raster-1m/DHMVIIDSMRAS1m_k33.zip!/GeoTIFF/DHMVIIDSMRAS1m_k33.tif',\n",
       " 'zip+https://downloadagiv.blob.core.windows.net/dhm-vlaanderen-ii-dsm-raster-1m/DHMVIIDSMRAS1m_k34.zip!/GeoTIFF/DHMVIIDSMRAS1m_k34.tif',\n",
       " 'zip+https://downloadagiv.blob.core.windows.net/dhm-vlaanderen-ii-dsm-raster-1m/DHMVIIDSMRAS1m_k35.zip!/GeoTIFF/DHMVIIDSMRAS1m_k35.tif',\n",
       " 'zip+https://downloadagiv.blob.core.windows.net/dhm-vlaanderen-ii-dsm-raster-1m/DHMVIIDSMRAS1m_k36.zip!/GeoTIFF/DHMVIIDSMRAS1m_k36.tif',\n",
       " 'zip+https://downloadagiv.blob.core.windows.net/dhm-vlaanderen-ii-dsm-raster-1m/DHMVIIDSMRAS1m_k37.zip!/GeoTIFF/DHMVIIDSMRAS1m_k37.tif',\n",
       " 'zip+https://downloadagiv.blob.core.windows.net/dhm-vlaanderen-ii-dsm-raster-1m/DHMVIIDSMRAS1m_k38.zip!/GeoTIFF/DHMVIIDSMRAS1m_k38.tif',\n",
       " 'zip+https://downloadagiv.blob.core.windows.net/dhm-vlaanderen-ii-dsm-raster-1m/DHMVIIDSMRAS1m_k39.zip!/GeoTIFF/DHMVIIDSMRAS1m_k39.tif',\n",
       " 'zip+https://downloadagiv.blob.core.windows.net/dhm-vlaanderen-ii-dsm-raster-1m/DHMVIIDSMRAS1m_k40.zip!/GeoTIFF/DHMVIIDSMRAS1m_k40.tif',\n",
       " 'zip+https://downloadagiv.blob.core.windows.net/dhm-vlaanderen-ii-dsm-raster-1m/DHMVIIDSMRAS1m_k41.zip!/GeoTIFF/DHMVIIDSMRAS1m_k41.tif',\n",
       " 'zip+https://downloadagiv.blob.core.windows.net/dhm-vlaanderen-ii-dsm-raster-1m/DHMVIIDSMRAS1m_k42.zip!/GeoTIFF/DHMVIIDSMRAS1m_k42.tif',\n",
       " 'zip+https://downloadagiv.blob.core.windows.net/dhm-vlaanderen-ii-dsm-raster-1m/DHMVIIDSMRAS1m_k43.zip!/GeoTIFF/DHMVIIDSMRAS1m_k43.tif']"
      ]
     },
     "execution_count": 3,
     "metadata": {},
     "output_type": "execute_result"
    }
   ],
   "source": [
    "list_of_url\n"
   ]
  },
  {
   "cell_type": "code",
   "execution_count": 4,
   "id": "26a9a5d5",
   "metadata": {},
   "outputs": [
    {
     "name": "stdout",
     "output_type": "stream",
     "text": [
      "43\n"
     ]
    }
   ],
   "source": [
    "print(len(list_of_url))"
   ]
  },
  {
   "cell_type": "code",
   "execution_count": 5,
   "id": "7d229e2d",
   "metadata": {},
   "outputs": [
    {
     "name": "stdout",
     "output_type": "stream",
     "text": [
      "1\n",
      "2\n",
      "3\n",
      "4\n",
      "5\n",
      "6\n",
      "7\n",
      "8\n",
      "9\n",
      "10\n",
      "11\n",
      "12\n",
      "13\n",
      "14\n",
      "15\n",
      "16\n",
      "17\n",
      "18\n",
      "19\n",
      "20\n",
      "21\n",
      "22\n",
      "23\n",
      "24\n",
      "25\n",
      "26\n",
      "27\n",
      "28\n",
      "29\n",
      "30\n",
      "31\n",
      "32\n",
      "33\n",
      "34\n",
      "35\n",
      "36\n",
      "37\n",
      "38\n",
      "39\n",
      "40\n",
      "41\n",
      "42\n",
      "43\n"
     ]
    }
   ],
   "source": [
    "list_of_bounds = []\n",
    "for i in range(len(list_of_url) ):\n",
    "    print(i + 1)\n",
    "    open_tif = rasterio.open(list_of_url[i])\n",
    "    bounds={'File Number': i + 1,\n",
    "            'Left Bound': open_tif.bounds.left,\n",
    "            'Right Bound': open_tif.bounds.right,\n",
    "            'Top Bound': open_tif.bounds.top,\n",
    "            'Bottom Bound': open_tif.bounds.bottom\n",
    "             }\n",
    "    list_of_bounds.append(bounds)\n",
    "    \n",
    "    "
   ]
  },
  {
   "cell_type": "code",
   "execution_count": 9,
   "id": "2215e4d6",
   "metadata": {},
   "outputs": [],
   "source": [
    "df = pd.DataFrame(list_of_bounds)\n",
    "df.replace(\"\", None, inplace=True)\n",
    "\n",
    "# Saving the dataframe into a CSV file \n",
    "\n",
    "df.to_csv(\"list_of_bounds.csv\", mode=\"a\", header=None, index=False)"
   ]
  }
 ],
 "metadata": {
  "kernelspec": {
   "display_name": "myenv",
   "language": "python",
   "name": "myenv"
  },
  "language_info": {
   "codemirror_mode": {
    "name": "ipython",
    "version": 3
   },
   "file_extension": ".py",
   "mimetype": "text/x-python",
   "name": "python",
   "nbconvert_exporter": "python",
   "pygments_lexer": "ipython3",
   "version": "3.8.8"
  }
 },
 "nbformat": 4,
 "nbformat_minor": 5
}
