{
 "cells": [
  {
   "cell_type": "markdown",
   "id": "db8e225d",
   "metadata": {},
   "source": [
    "#### Import libraries "
   ]
  },
  {
   "cell_type": "code",
   "execution_count": 1,
   "id": "ce2f5b66",
   "metadata": {},
   "outputs": [],
   "source": [
    "import rasterio\n",
    "import pandas as pd\n"
   ]
  },
  {
   "cell_type": "markdown",
   "id": "ae75b524",
   "metadata": {},
   "source": [
    "#### Generating urls DSM\n",
    "\n",
    "- Url links have been pulled from this website [DSM](http://www.geopunt.be/download?container=dhm-vlaanderen-ii-dsm-raster-1m&title=Digitaal%20Hoogtemodel%20Vlaanderen%20II,%20DSM,%20raster,%201m)\n"
   ]
  },
  {
   "cell_type": "code",
   "execution_count": 5,
   "id": "04d9af37",
   "metadata": {},
   "outputs": [],
   "source": [
    "# All url links saved to open in zip \n",
    "\n",
    "list_of_url_DSM = []\n",
    "for i in range(1,44):\n",
    "    page_num = str(i)\n",
    "    if i < 10:\n",
    "        url = (\n",
    "            \"zip+https://downloadagiv.blob.core.windows.net/dhm-vlaanderen-ii-dsm-raster-1m/DHMVIIDSMRAS1m_k0\" + page_num \n",
    "                + '.zip!/GeoTIFF/DHMVIIDSMRAS1m_k0'+ page_num + '.tif'\n",
    "            )\n",
    "        list_of_url_DSM.append(url)\n",
    "    else: \n",
    "        url = (\n",
    "            \"zip+https://downloadagiv.blob.core.windows.net/dhm-vlaanderen-ii-dsm-raster-1m/DHMVIIDSMRAS1m_k\" + page_num \n",
    "                + '.zip!/GeoTIFF/DHMVIIDSMRAS1m_k'+ page_num + '.tif'\n",
    "            )\n",
    "        list_of_url_DSM.append(url)\n",
    "        \n"
   ]
  },
  {
   "cell_type": "code",
   "execution_count": 11,
   "id": "80e51a25",
   "metadata": {
    "scrolled": false
   },
   "outputs": [
    {
     "data": {
      "text/plain": [
       "'zip+https://downloadagiv.blob.core.windows.net/dhm-vlaanderen-ii-dsm-raster-1m/DHMVIIDSMRAS1m_k01.zip!/GeoTIFF/DHMVIIDSMRAS1m_k01.tif'"
      ]
     },
     "execution_count": 11,
     "metadata": {},
     "output_type": "execute_result"
    }
   ],
   "source": [
    "# Checking the links\n",
    "list_of_url_DSM[0]\n"
   ]
  },
  {
   "cell_type": "markdown",
   "id": "50616b04",
   "metadata": {},
   "source": [
    "#### Generating urls DTM\n",
    "\n",
    "- Url links have been pulled from this website [DTM](http://www.geopunt.be/download?container=dhm-vlaanderen-ii-dtm-raster-1m&title=Digitaal%20Hoogtemodel%20Vlaanderen%20II,%20DTM,%20raster,%201m)\n"
   ]
  },
  {
   "cell_type": "code",
   "execution_count": 12,
   "id": "ab46b52b",
   "metadata": {},
   "outputs": [],
   "source": [
    "list_of_url_DTM = []\n",
    "for i in range(1,44):\n",
    "    page_num = str(i)\n",
    "    if i < 10:\n",
    "        url = (\n",
    "            \"zip+https://downloadagiv.blob.core.windows.net/dhm-vlaanderen-ii-dtm-raster-1m/DHMVIIDTMRAS1m_k0\" + page_num \n",
    "                + '.zip!/GeoTIFF/DHMVIIDTMRAS1m_k0'+ page_num + '.tif'\n",
    "            )\n",
    "        list_of_url_DTM.append(url)\n",
    "    else: \n",
    "        url = (\n",
    "            \"zip+https://downloadagiv.blob.core.windows.net/dhm-vlaanderen-ii-dtm-raster-1m/DHMVIIDTMRAS1m_k\" + page_num \n",
    "                + '.zip!/GeoTIFF/DHMVIIDTMRAS1m_k'+ page_num + '.tif'\n",
    "            )\n",
    "        list_of_url_DTM.append(url)\n"
   ]
  },
  {
   "cell_type": "code",
   "execution_count": 13,
   "id": "857c2c74",
   "metadata": {},
   "outputs": [
    {
     "data": {
      "text/plain": [
       "'zip+https://downloadagiv.blob.core.windows.net/dhm-vlaanderen-ii-dtm-raster-1m/DHMVIIDTMRAS1m_k01.zip!/GeoTIFF/DHMVIIDTMRAS1m_k01.tif'"
      ]
     },
     "execution_count": 13,
     "metadata": {},
     "output_type": "execute_result"
    }
   ],
   "source": [
    "list_of_url_DTM[0]"
   ]
  },
  {
   "cell_type": "code",
   "execution_count": 9,
   "id": "26a9a5d5",
   "metadata": {},
   "outputs": [
    {
     "name": "stdout",
     "output_type": "stream",
     "text": [
      "43\n"
     ]
    }
   ],
   "source": [
    "print(len(list_of_url_DSM))"
   ]
  },
  {
   "cell_type": "code",
   "execution_count": 16,
   "id": "7d229e2d",
   "metadata": {},
   "outputs": [
    {
     "name": "stdout",
     "output_type": "stream",
     "text": [
      "1\n",
      "2\n",
      "3\n",
      "4\n",
      "5\n",
      "6\n",
      "7\n",
      "8\n",
      "9\n",
      "10\n",
      "11\n",
      "12\n",
      "13\n",
      "14\n",
      "15\n",
      "16\n",
      "17\n",
      "18\n",
      "19\n",
      "20\n",
      "21\n",
      "22\n",
      "23\n",
      "24\n",
      "25\n",
      "26\n",
      "27\n",
      "28\n",
      "29\n",
      "30\n",
      "31\n",
      "32\n",
      "33\n",
      "34\n",
      "35\n",
      "36\n",
      "37\n",
      "38\n",
      "39\n",
      "40\n",
      "41\n",
      "42\n",
      "43\n"
     ]
    }
   ],
   "source": [
    "# with the ``` rasterio.open ``` read tif files\n",
    "list_of_bounds = []\n",
    "for i in range(len(list_of_url_DSM) ):\n",
    "    print(i + 1)\n",
    "    open_tif = rasterio.open(list_of_url_DSM[i])\n",
    "    bounds={'File Number': i + 1,\n",
    "            'Left Bound': open_tif.bounds.left,\n",
    "            'Right Bound': open_tif.bounds.right,\n",
    "            'Top Bound': open_tif.bounds.top,\n",
    "            'Bottom Bound': open_tif.bounds.bottom,\n",
    "            'Url DSM': list_of_url_DSM[i],\n",
    "            'Url DTM': list_of_url_DTM[i]\n",
    "             }\n",
    "# adding bounds dictionary  to list_of_bounds list\n",
    "    list_of_bounds.append(bounds)\n",
    "    \n",
    "    "
   ]
  },
  {
   "cell_type": "code",
   "execution_count": 18,
   "id": "2215e4d6",
   "metadata": {},
   "outputs": [],
   "source": [
    "# creating data frame with pandas\n",
    "\n",
    "df = pd.DataFrame(list_of_bounds)\n",
    "df.replace(\"\", None, inplace=True)\n",
    "\n",
    "# Saving the dataframe into a CSV file \n",
    "\n",
    "df.to_csv(\"list_of_bounds.csv\", \n",
    "          mode=\"a\", \n",
    "          header=[\"File Number\", \"Left Bound\", \"Right Bound\", \"Top Bound\", \"Bottom Bound\", \"Url DSM\", \"Url DTM\"],\n",
    "          index=False)"
   ]
  },
  {
   "cell_type": "code",
   "execution_count": null,
   "id": "8d076482",
   "metadata": {},
   "outputs": [],
   "source": []
  }
 ],
 "metadata": {
  "kernelspec": {
   "display_name": "myenv",
   "language": "python",
   "name": "myenv"
  },
  "language_info": {
   "codemirror_mode": {
    "name": "ipython",
    "version": 3
   },
   "file_extension": ".py",
   "mimetype": "text/x-python",
   "name": "python",
   "nbconvert_exporter": "python",
   "pygments_lexer": "ipython3",
   "version": "3.8.8"
  }
 },
 "nbformat": 4,
 "nbformat_minor": 5
}
