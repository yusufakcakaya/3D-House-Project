{
 "cells": [
  {
   "cell_type": "markdown",
   "id": "7acc8529",
   "metadata": {},
   "source": [
    "### IMPORT LIBRARIES"
   ]
  },
  {
   "cell_type": "code",
   "execution_count": 22,
   "id": "50e91338",
   "metadata": {},
   "outputs": [],
   "source": [
    "import requests\n",
    "import matplotlib.pyplot as plt\n",
    "import pandas as pd\n",
    "import rasterio\n",
    "from rasterio.mask import mask\n",
    "import shapely.geometry as geo\n",
    "import plotly.graph_objects as go\n",
    "import numpy as np\n"
   ]
  },
  {
   "cell_type": "markdown",
   "id": "25ba523d",
   "metadata": {},
   "source": [
    "### WELCOME TO 3D HOUSE PROJECT"
   ]
  },
  {
   "cell_type": "code",
   "execution_count": 2,
   "id": "c1b12a17",
   "metadata": {},
   "outputs": [
    {
     "name": "stdout",
     "output_type": "stream",
     "text": [
      "Welcome to 3D House Modelling Project \n",
      "Please enter your adress!\n"
     ]
    }
   ],
   "source": [
    "print('Welcome to 3D House Modelling Project \\nPlease enter your adress!')\n"
   ]
  },
  {
   "cell_type": "code",
   "execution_count": 101,
   "id": "cfdcf731",
   "metadata": {},
   "outputs": [],
   "source": [
    "def get_adress():\n",
    "    street_name = input('Enter your street name: ')\n",
    "    house_number = int(input('Enter your house number: '))\n",
    "    post_code = int(input('Enter your post code: '))\n",
    "    \n",
    "    adress ={'straatnaam':street_name ,\n",
    "             'huisnummer':house_number , \n",
    "             'postcode': post_code}\n",
    "    return adress"
   ]
  },
  {
   "cell_type": "markdown",
   "id": "138faa71",
   "metadata": {},
   "source": [
    "### REQUEST THE INFORMATION OF X, Y and POLYGON VALUES WITH API\n",
    "[API](https://docs.basisregisters.vlaanderen.be/docs/api-documentation.html#section/Technische-Info/Foutmeldingen)"
   ]
  },
  {
   "cell_type": "code",
   "execution_count": 113,
   "id": "53fdbf53",
   "metadata": {},
   "outputs": [],
   "source": [
    "def get_coordinate():\n",
    "    adress = get_adress()\n",
    "    response_API = requests.get('https://api.basisregisters.vlaanderen.be/v1/adresmatch', adress).json()\n",
    "\n",
    "\n",
    "    coordinates = response_API['adresMatches'][0]['adresPositie']['point']['coordinates']\n",
    "    x_coordinate = coordinates[0]\n",
    "    y_coordinate = coordinates[1]\n",
    "\n",
    "    gebouweenheden = requests.get(response_API['adresMatches'][0]['adresseerbareObjecten'][0]['detail']).json()\n",
    "    gebouw = requests.get(gebouweenheden['gebouw']['detail']).json()\n",
    "    polygon_list = gebouw['geometriePolygoon']['polygon']['coordinates'][0]\n",
    "\n",
    "    print(\"X coordinate is \", x_coordinate)\n",
    "    print(\"Y coordinate is \", y_coordinate)\n",
    "    return polygon_list"
   ]
  },
  {
   "cell_type": "code",
   "execution_count": 124,
   "id": "4fae12f4",
   "metadata": {},
   "outputs": [
    {
     "data": {
      "text/plain": [
       "148689.43"
      ]
     },
     "execution_count": 124,
     "metadata": {},
     "output_type": "execute_result"
    }
   ],
   "source": [
    "x_coordinate"
   ]
  },
  {
   "cell_type": "markdown",
   "id": "a0f47648",
   "metadata": {},
   "source": [
    "### GET POLYGON VALUES"
   ]
  },
  {
   "cell_type": "code",
   "execution_count": 47,
   "id": "c3d807d7",
   "metadata": {},
   "outputs": [
    {
     "data": {
      "image/png": "[encoded data removed]",
      "text/plain": [
       "<Figure size 432x288 with 1 Axes>"
      ]
     },
     "metadata": {
      "needs_background": "light"
     },
     "output_type": "display_data"
    }
   ],
   "source": [
    "#Create lists of x and y values of the polygon\n",
    "x_pol, y_pol = zip(*polygon_list)\n",
    "\n",
    "#Plot the shape of the polygon to see what we can expect as the shape of the house\n",
    "plt.figure()\n",
    "plt.plot(x_pol,y_pol) \n",
    "plt.show()\n"
   ]
  },
  {
   "cell_type": "markdown",
   "id": "4f9bbb5a",
   "metadata": {},
   "source": [
    "### GET POLYGON"
   ]
  },
  {
   "cell_type": "code",
   "execution_count": 115,
   "id": "ed0d3cac",
   "metadata": {},
   "outputs": [],
   "source": [
    "def get_polygon():\n",
    "    poly = geo.Polygon(get_coordinate())\n",
    "    return poly"
   ]
  },
  {
   "cell_type": "code",
   "execution_count": 116,
   "id": "16640c57",
   "metadata": {},
   "outputs": [
    {
     "name": "stdout",
     "output_type": "stream",
     "text": [
      "Enter your street name: Berkenrodelei \n",
      "Enter your house number: 28\n",
      "Enter your post code: 2660\n",
      "X coordinate is  148689.43\n",
      "Y coordinate is  207610.79\n"
     ]
    },
    {
     "data": {
      "image/svg+xml": [
       "<svg xmlns=\"http://www.w3.org/2000/svg\" xmlns:xlink=\"http://www.w3.org/1999/xlink\" width=\"100.0\" height=\"100.0\" viewBox=\"148673.19827721387 207594.53927697733 31.522058261034545 36.49722626566654\" preserveAspectRatio=\"xMinYMin meet\"><g transform=\"matrix(1,0,0,-1,0,415225.57578022033)\"><path fill-rule=\"evenodd\" fill=\"#66cc99\" stroke=\"#555555\" stroke-width=\"0.7299445253133308\" opacity=\"0.6\" d=\"M 148680.76698634028,207596.58997009695 L 148686.49735434353,207597.82094609737 L 148686.8091623485,207596.65243409574 L 148687.98196234554,207595.89102609828 L 148693.924234353,207597.16065809876 L 148694.5040103495,207598.35707410052 L 148703.36858635396,207600.23470610008 L 148702.2110823542,207606.14094610512 L 148703.08423435688,207606.3143861033 L 148701.2550503537,207614.57217811048 L 148695.42215435207,207613.29185811058 L 148694.9758183509,207615.96373011172 L 148693.53313034773,207615.66728211194 L 148693.13236235082,207617.87912211195 L 148694.49754635245,207618.13006611168 L 148693.1088103503,207625.02888211608 L 148690.26861834526,207624.48475411534 L 148689.12826634943,207629.68475412205 L 148674.55002633482,207626.52302611992 L 148675.8069863394,207620.2009781152 L 148685.32647434622,207622.0936501138 L 148685.57421834767,207620.4508981146 L 148686.53537034243,207619.66325011477 L 148687.64500234276,207619.80949011445 L 148688.5996903479,207615.2645941116 L 148689.53639435023,207615.40648211166 L 148690.20538634807,207612.146706108 L 148678.0019943416,207609.46798610687 L 148680.76698634028,207596.58997009695 z\" /></g></svg>"
      ],
      "text/plain": [
       "<shapely.geometry.polygon.Polygon at 0x7f87d6d9afd0>"
      ]
     },
     "execution_count": 116,
     "metadata": {},
     "output_type": "execute_result"
    }
   ],
   "source": [
    "get_polygon()"
   ]
  },
  {
   "cell_type": "markdown",
   "id": "ed93e90b",
   "metadata": {},
   "source": [
    "### READ .CSV"
   ]
  },
  {
   "cell_type": "code",
   "execution_count": 120,
   "id": "d8239110",
   "metadata": {},
   "outputs": [],
   "source": [
    "def read_csv(url: str):\n",
    "    get_polygon()\n",
    "    df = pd.read_csv(url) \n",
    "    \n",
    "    bound_file = df[(df['Left Bound'] < x_coordinate) & (df['Right Bound'] > x_coordinate)\n",
    "                 & ((df['Bottom Bound'] < y_coordinate) & (df['Top Bound'] > y_coordinate))]\n",
    "    \n",
    "    file_number = bound_file['File Number'].iloc[0]\n",
    "\n",
    "    url_DSM = bound_file['Url DSM'].iloc[0]\n",
    "    url_DTM = bound_file['Url DTM'].iloc[0]\n",
    "    return file_number"
   ]
  },
  {
   "cell_type": "code",
   "execution_count": 125,
   "id": "fa998d8f",
   "metadata": {
    "scrolled": true
   },
   "outputs": [
    {
     "name": "stdout",
     "output_type": "stream",
     "text": [
      "Enter your street name: Botestraat\n",
      "Enter your house number: 23\n",
      "Enter your post code: 9032\n",
      "X coordinate is  103765.15\n",
      "Y coordinate is  197618.24\n"
     ]
    },
    {
     "data": {
      "text/plain": [
       "15"
      ]
     },
     "execution_count": 125,
     "metadata": {},
     "output_type": "execute_result"
    }
   ],
   "source": [
    "read_csv('list_of_bounds.csv')"
   ]
  },
  {
   "cell_type": "code",
   "execution_count": 126,
   "id": "618fe842",
   "metadata": {},
   "outputs": [
    {
     "data": {
      "text/plain": [
       "148689.43"
      ]
     },
     "execution_count": 126,
     "metadata": {},
     "output_type": "execute_result"
    }
   ],
   "source": [
    "x_coordinate"
   ]
  },
  {
   "cell_type": "markdown",
   "id": "0d8289e4",
   "metadata": {},
   "source": [
    "### FINDING CORRECT FILE NUMBER"
   ]
  },
  {
   "cell_type": "code",
   "execution_count": 122,
   "id": "765bb2c4",
   "metadata": {},
   "outputs": [
    {
     "data": {
      "text/html": [
       "<div>\n",
       "<style scoped>\n",
       "    .dataframe tbody tr th:only-of-type {\n",
       "        vertical-align: middle;\n",
       "    }\n",
       "\n",
       "    .dataframe tbody tr th {\n",
       "        vertical-align: top;\n",
       "    }\n",
       "\n",
       "    .dataframe thead th {\n",
       "        text-align: right;\n",
       "    }\n",
       "</style>\n",
       "<table border=\"1\" class=\"dataframe\">\n",
       "  <thead>\n",
       "    <tr style=\"text-align: right;\">\n",
       "      <th></th>\n",
       "      <th>File Number</th>\n",
       "      <th>Left Bound</th>\n",
       "      <th>Right Bound</th>\n",
       "      <th>Top Bound</th>\n",
       "      <th>Bottom Bound</th>\n",
       "      <th>Url DSM</th>\n",
       "      <th>Url DTM</th>\n",
       "    </tr>\n",
       "  </thead>\n",
       "  <tbody>\n",
       "    <tr>\n",
       "      <th>14</th>\n",
       "      <td>15</td>\n",
       "      <td>130000.0</td>\n",
       "      <td>162000.0</td>\n",
       "      <td>218000.0</td>\n",
       "      <td>198000.0</td>\n",
       "      <td>zip+https://downloadagiv.blob.core.windows.net...</td>\n",
       "      <td>zip+https://downloadagiv.blob.core.windows.net...</td>\n",
       "    </tr>\n",
       "  </tbody>\n",
       "</table>\n",
       "</div>"
      ],
      "text/plain": [
       "    File Number  Left Bound  Right Bound  Top Bound  Bottom Bound  \\\n",
       "14           15    130000.0     162000.0   218000.0      198000.0   \n",
       "\n",
       "                                              Url DSM  \\\n",
       "14  zip+https://downloadagiv.blob.core.windows.net...   \n",
       "\n",
       "                                              Url DTM  \n",
       "14  zip+https://downloadagiv.blob.core.windows.net...  "
      ]
     },
     "execution_count": 122,
     "metadata": {},
     "output_type": "execute_result"
    }
   ],
   "source": [
    "#finding the file number\n",
    "\n",
    "bound_file = df[(df['Left Bound'] < x_coordinate) & (df['Right Bound'] > x_coordinate)\n",
    "             & ((df['Bottom Bound'] < y_coordinate) & (df['Top Bound'] > y_coordinate))]\n",
    "    \n",
    "file_number = bound_file['File Number'].iloc[0]\n",
    "\n",
    "url_DSM = bound_file['Url DSM'].iloc[0]\n",
    "url_DTM = bound_file['Url DTM'].iloc[0]\n",
    "bound_file"
   ]
  },
  {
   "cell_type": "markdown",
   "id": "7d0ad050",
   "metadata": {},
   "source": [
    "### MASKING\n",
    "\n",
    "#### DSM MASKING"
   ]
  },
  {
   "cell_type": "code",
   "execution_count": 55,
   "id": "8bbe2795",
   "metadata": {},
   "outputs": [],
   "source": [
    "with rasterio.open(url_DSM) as data:\n",
    "    out_dsm, out_transform_dsm = mask(data,[poly],crop= True,nodata=None,filled=True, indexes =1 )"
   ]
  },
  {
   "cell_type": "markdown",
   "id": "4b4f2765",
   "metadata": {},
   "source": [
    "#### DTM MASKING"
   ]
  },
  {
   "cell_type": "code",
   "execution_count": 58,
   "id": "0ae2c073",
   "metadata": {},
   "outputs": [],
   "source": [
    "with rasterio.open(url_DTM) as data_dtm:\n",
    "    out_dtm, out_transform_dtm = mask(data_dtm,[poly],crop= True,nodata=None,filled=True, indexes =1 )"
   ]
  },
  {
   "cell_type": "markdown",
   "id": "b8955275",
   "metadata": {},
   "source": [
    "### CHM"
   ]
  },
  {
   "cell_type": "code",
   "execution_count": 16,
   "id": "7f55dc86",
   "metadata": {},
   "outputs": [],
   "source": [
    "CHM = out_dsm - out_dtm"
   ]
  },
  {
   "cell_type": "code",
   "execution_count": 59,
   "id": "e35e5e7c",
   "metadata": {},
   "outputs": [],
   "source": [
    "CHM_Provinciesteenweg = out_dsm - out_dtm"
   ]
  },
  {
   "cell_type": "markdown",
   "id": "adc940a0",
   "metadata": {},
   "source": [
    "### 3D AXES"
   ]
  },
  {
   "cell_type": "code",
   "execution_count": 98,
   "id": "90d526be",
   "metadata": {},
   "outputs": [
    {
     "data": {
      "application/vnd.plotly.v1+json": {
       "config": {
        "plotlyServerURL": "https://plot.ly"
       },
       "data": [
        {
         "colorscale": [
          [
           0,
           "rgb(0, 128, 128)"
          ],
          [
           0.16666666666666666,
           "rgb(112, 164, 148)"
          ],
          [
           0.3333333333333333,
           "rgb(180, 200, 168)"
          ],
          [
           0.5,
           "rgb(246, 237, 189)"
          ],
          [
           0.6666666666666666,
           "rgb(237, 187, 138)"
          ],
          [
           0.8333333333333334,
           "rgb(222, 138, 90)"
          ],
          [
           1,
           "rgb(202, 86, 44)"
          ]
         ],
         "opacity": 0.8,
         "type": "surface",
         "z": [
          [
           0,
           0,
           0,
           0,
           0,
           0,
           0,
           0,
           0,
           0,
           0,
           6.939999580383301,
           0,
           0,
           0,
           0
          ],
          [
           0,
           0,
           0,
           0,
           0,
           0,
           0,
           0,
           0,
           0,
           7.25,
           6.909998893737793,
           6.8899993896484375,
           0,
           0,
           0
          ],
          [
           0,
           0,
           0,
           0,
           0,
           0,
           0,
           0,
           0,
           7.319998741149902,
           6.989999771118164,
           7,
           6.959999084472656,
           1.0500001907348633,
           6.970001220703125,
           0
          ],
          [
           0,
           0,
           0,
           0,
           0,
           0,
           0,
           0,
           0,
           7.050000190734863,
           7.039999961853027,
           7.010000228881836,
           6.979999542236328,
           6.979999542236328,
           6.979999542236328,
           2.770000457763672
          ],
          [
           0,
           0,
           0,
           0,
           0,
           0,
           0,
           0,
           7.050000190734863,
           7.039999961853027,
           7.220000267028809,
           7.070000648498535,
           7.010000228881836,
           6.989999771118164,
           6.989999771118164,
           0
          ],
          [
           0,
           0,
           0,
           0,
           0,
           0,
           0,
           7.299999237060547,
           7.0199995040893555,
           7,
           6.979999542236328,
           6.959999084472656,
           7.0199995040893555,
           7.010000228881836,
           0,
           0
          ],
          [
           0,
           0,
           0,
           0,
           0,
           0,
           6.149999618530273,
           7.049999237060547,
           6.999999046325684,
           6.969999313354492,
           6.949999809265137,
           6.970000267028809,
           6.909999847412109,
           5.169999122619629,
           0,
           0
          ],
          [
           0,
           0,
           0,
           0,
           0,
           0,
           7.090000152587891,
           7.020000457763672,
           7.010001182556152,
           6.979999542236328,
           6.939999580383301,
           6.870000839233398,
           6.510000228881836,
           0,
           0,
           0
          ],
          [
           0,
           0,
           0,
           0,
           0,
           7.999999046325684,
           8.15999984741211,
           7.090000152587891,
           7.029998779296875,
           7.0099992752075195,
           6.959999084472656,
           7.100000381469727,
           0,
           0,
           0,
           0
          ],
          [
           0,
           0,
           0,
           0,
           6.390000343322754,
           8.569999694824219,
           9.369998931884766,
           9.179999351501465,
           7.339999198913574,
           7.049999237060547,
           7.0199995040893555,
           0,
           0,
           0,
           0,
           0
          ],
          [
           0,
           0,
           0,
           3.6100006103515625,
           9.15999984741211,
           9.210000038146973,
           10.020000457763672,
           10.130000114440918,
           9.309999465942383,
           8.440000534057617,
           7.35999870300293,
           0,
           0,
           0,
           0,
           0
          ],
          [
           0,
           0,
           0,
           8.200000762939453,
           9.170001029968262,
           9.800000190734863,
           10.4399995803833,
           9.530000686645508,
           8.679999351501465,
           7.859999656677246,
           0,
           0,
           0,
           0,
           0,
           0
          ],
          [
           0,
           0,
           8.00999927520752,
           8.809999465942383,
           9.59999942779541,
           10.470000267028809,
           9.770000457763672,
           8.960000991821289,
           8.110000610351562,
           0,
           0,
           0,
           0,
           0,
           0,
           0
          ],
          [
           0,
           5.600000381469727,
           8.630001068115234,
           9.40999984741211,
           10.25,
           10.029999732971191,
           9.200000762939453,
           8.329999923706055,
           2.029998779296875,
           0,
           0,
           0,
           0,
           0,
           0,
           0
          ],
          [
           0,
           0,
           7.529999732971191,
           10.069999694824219,
           10.289999008178711,
           9.4399995803833,
           9.15999984741211,
           7.719999313354492,
           0,
           0,
           0,
           0,
           0,
           0,
           0,
           0
          ],
          [
           0,
           0,
           0,
           3.719999313354492,
           9.709999084472656,
           8.820000648498535,
           8.729999542236328,
           0,
           0,
           0,
           0,
           0,
           0,
           0,
           0,
           0
          ],
          [
           0,
           0,
           0,
           0,
           0,
           8.200000762939453,
           0,
           0,
           0,
           0,
           0,
           0,
           0,
           0,
           0,
           0
          ],
          [
           0,
           0,
           0,
           0,
           0,
           0,
           0,
           0,
           0,
           0,
           0,
           0,
           0,
           0,
           0,
           0
          ]
         ]
        }
       ],
       "layout": {
        "height": 700,
        "scene": {
         "xaxis": {
          "title": {
           "text": "X AXIS TITLE"
          }
         },
         "yaxis": {
          "title": {
           "text": "Y AXIS TITLE"
          }
         },
         "zaxis": {
          "title": {
           "text": "Z AXIS TITLE"
          }
         }
        },
        "template": {
         "data": {
          "bar": [
           {
            "error_x": {
             "color": "#2a3f5f"
            },
            "error_y": {
             "color": "#2a3f5f"
            },
            "marker": {
             "line": {
              "color": "#E5ECF6",
              "width": 0.5
             },
             "pattern": {
              "fillmode": "overlay",
              "size": 10,
              "solidity": 0.2
             }
            },
            "type": "bar"
           }
          ],
          "barpolar": [
           {
            "marker": {
             "line": {
              "color": "#E5ECF6",
              "width": 0.5
             },
             "pattern": {
              "fillmode": "overlay",
              "size": 10,
              "solidity": 0.2
             }
            },
            "type": "barpolar"
           }
          ],
          "carpet": [
           {
            "aaxis": {
             "endlinecolor": "#2a3f5f",
             "gridcolor": "white",
             "linecolor": "white",
             "minorgridcolor": "white",
             "startlinecolor": "#2a3f5f"
            },
            "baxis": {
             "endlinecolor": "#2a3f5f",
             "gridcolor": "white",
             "linecolor": "white",
             "minorgridcolor": "white",
             "startlinecolor": "#2a3f5f"
            },
            "type": "carpet"
           }
          ],
          "choropleth": [
           {
            "colorbar": {
             "outlinewidth": 0,
             "ticks": ""
            },
            "type": "choropleth"
           }
          ],
          "contour": [
           {
            "colorbar": {
             "outlinewidth": 0,
             "ticks": ""
            },
            "colorscale": [
             [
              0,
              "#0d0887"
             ],
             [
              0.1111111111111111,
              "#46039f"
             ],
             [
              0.2222222222222222,
              "#7201a8"
             ],
             [
              0.3333333333333333,
              "#9c179e"
             ],
             [
              0.4444444444444444,
              "#bd3786"
             ],
             [
              0.5555555555555556,
              "#d8576b"
             ],
             [
              0.6666666666666666,
              "#ed7953"
             ],
             [
              0.7777777777777778,
              "#fb9f3a"
             ],
             [
              0.8888888888888888,
              "#fdca26"
             ],
             [
              1,
              "#f0f921"
             ]
            ],
            "type": "contour"
           }
          ],
          "contourcarpet": [
           {
            "colorbar": {
             "outlinewidth": 0,
             "ticks": ""
            },
            "type": "contourcarpet"
           }
          ],
          "heatmap": [
           {
            "colorbar": {
             "outlinewidth": 0,
             "ticks": ""
            },
            "colorscale": [
             [
              0,
              "#0d0887"
             ],
             [
              0.1111111111111111,
              "#46039f"
             ],
             [
              0.2222222222222222,
              "#7201a8"
             ],
             [
              0.3333333333333333,
              "#9c179e"
             ],
             [
              0.4444444444444444,
              "#bd3786"
             ],
             [
              0.5555555555555556,
              "#d8576b"
             ],
             [
              0.6666666666666666,
              "#ed7953"
             ],
             [
              0.7777777777777778,
              "#fb9f3a"
             ],
             [
              0.8888888888888888,
              "#fdca26"
             ],
             [
              1,
              "#f0f921"
             ]
            ],
            "type": "heatmap"
           }
          ],
          "heatmapgl": [
           {
            "colorbar": {
             "outlinewidth": 0,
             "ticks": ""
            },
            "colorscale": [
             [
              0,
              "#0d0887"
             ],
             [
              0.1111111111111111,
              "#46039f"
             ],
             [
              0.2222222222222222,
              "#7201a8"
             ],
             [
              0.3333333333333333,
              "#9c179e"
             ],
             [
              0.4444444444444444,
              "#bd3786"
             ],
             [
              0.5555555555555556,
              "#d8576b"
             ],
             [
              0.6666666666666666,
              "#ed7953"
             ],
             [
              0.7777777777777778,
              "#fb9f3a"
             ],
             [
              0.8888888888888888,
              "#fdca26"
             ],
             [
              1,
              "#f0f921"
             ]
            ],
            "type": "heatmapgl"
           }
          ],
          "histogram": [
           {
            "marker": {
             "pattern": {
              "fillmode": "overlay",
              "size": 10,
              "solidity": 0.2
             }
            },
            "type": "histogram"
           }
          ],
          "histogram2d": [
           {
            "colorbar": {
             "outlinewidth": 0,
             "ticks": ""
            },
            "colorscale": [
             [
              0,
              "#0d0887"
             ],
             [
              0.1111111111111111,
              "#46039f"
             ],
             [
              0.2222222222222222,
              "#7201a8"
             ],
             [
              0.3333333333333333,
              "#9c179e"
             ],
             [
              0.4444444444444444,
              "#bd3786"
             ],
             [
              0.5555555555555556,
              "#d8576b"
             ],
             [
              0.6666666666666666,
              "#ed7953"
             ],
             [
              0.7777777777777778,
              "#fb9f3a"
             ],
             [
              0.8888888888888888,
              "#fdca26"
             ],
             [
              1,
              "#f0f921"
             ]
            ],
            "type": "histogram2d"
           }
          ],
          "histogram2dcontour": [
           {
            "colorbar": {
             "outlinewidth": 0,
             "ticks": ""
            },
            "colorscale": [
             [
              0,
              "#0d0887"
             ],
             [
              0.1111111111111111,
              "#46039f"
             ],
             [
              0.2222222222222222,
              "#7201a8"
             ],
             [
              0.3333333333333333,
              "#9c179e"
             ],
             [
              0.4444444444444444,
              "#bd3786"
             ],
             [
              0.5555555555555556,
              "#d8576b"
             ],
             [
              0.6666666666666666,
              "#ed7953"
             ],
             [
              0.7777777777777778,
              "#fb9f3a"
             ],
             [
              0.8888888888888888,
              "#fdca26"
             ],
             [
              1,
              "#f0f921"
             ]
            ],
            "type": "histogram2dcontour"
           }
          ],
          "mesh3d": [
           {
            "colorbar": {
             "outlinewidth": 0,
             "ticks": ""
            },
            "type": "mesh3d"
           }
          ],
          "parcoords": [
           {
            "line": {
             "colorbar": {
              "outlinewidth": 0,
              "ticks": ""
             }
            },
            "type": "parcoords"
           }
          ],
          "pie": [
           {
            "automargin": true,
            "type": "pie"
           }
          ],
          "scatter": [
           {
            "marker": {
             "colorbar": {
              "outlinewidth": 0,
              "ticks": ""
             }
            },
            "type": "scatter"
           }
          ],
          "scatter3d": [
           {
            "line": {
             "colorbar": {
              "outlinewidth": 0,
              "ticks": ""
             }
            },
            "marker": {
             "colorbar": {
              "outlinewidth": 0,
              "ticks": ""
             }
            },
            "type": "scatter3d"
           }
          ],
          "scattercarpet": [
           {
            "marker": {
             "colorbar": {
              "outlinewidth": 0,
              "ticks": ""
             }
            },
            "type": "scattercarpet"
           }
          ],
          "scattergeo": [
           {
            "marker": {
             "colorbar": {
              "outlinewidth": 0,
              "ticks": ""
             }
            },
            "type": "scattergeo"
           }
          ],
          "scattergl": [
           {
            "marker": {
             "colorbar": {
              "outlinewidth": 0,
              "ticks": ""
             }
            },
            "type": "scattergl"
           }
          ],
          "scattermapbox": [
           {
            "marker": {
             "colorbar": {
              "outlinewidth": 0,
              "ticks": ""
             }
            },
            "type": "scattermapbox"
           }
          ],
          "scatterpolar": [
           {
            "marker": {
             "colorbar": {
              "outlinewidth": 0,
              "ticks": ""
             }
            },
            "type": "scatterpolar"
           }
          ],
          "scatterpolargl": [
           {
            "marker": {
             "colorbar": {
              "outlinewidth": 0,
              "ticks": ""
             }
            },
            "type": "scatterpolargl"
           }
          ],
          "scatterternary": [
           {
            "marker": {
             "colorbar": {
              "outlinewidth": 0,
              "ticks": ""
             }
            },
            "type": "scatterternary"
           }
          ],
          "surface": [
           {
            "colorbar": {
             "outlinewidth": 0,
             "ticks": ""
            },
            "colorscale": [
             [
              0,
              "#0d0887"
             ],
             [
              0.1111111111111111,
              "#46039f"
             ],
             [
              0.2222222222222222,
              "#7201a8"
             ],
             [
              0.3333333333333333,
              "#9c179e"
             ],
             [
              0.4444444444444444,
              "#bd3786"
             ],
             [
              0.5555555555555556,
              "#d8576b"
             ],
             [
              0.6666666666666666,
              "#ed7953"
             ],
             [
              0.7777777777777778,
              "#fb9f3a"
             ],
             [
              0.8888888888888888,
              "#fdca26"
             ],
             [
              1,
              "#f0f921"
             ]
            ],
            "type": "surface"
           }
          ],
          "table": [
           {
            "cells": {
             "fill": {
              "color": "#EBF0F8"
             },
             "line": {
              "color": "white"
             }
            },
            "header": {
             "fill": {
              "color": "#C8D4E3"
             },
             "line": {
              "color": "white"
             }
            },
            "type": "table"
           }
          ]
         },
         "layout": {
          "annotationdefaults": {
           "arrowcolor": "#2a3f5f",
           "arrowhead": 0,
           "arrowwidth": 1
          },
          "autotypenumbers": "strict",
          "coloraxis": {
           "colorbar": {
            "outlinewidth": 0,
            "ticks": ""
           }
          },
          "colorscale": {
           "diverging": [
            [
             0,
             "#8e0152"
            ],
            [
             0.1,
             "#c51b7d"
            ],
            [
             0.2,
             "#de77ae"
            ],
            [
             0.3,
             "#f1b6da"
            ],
            [
             0.4,
             "#fde0ef"
            ],
            [
             0.5,
             "#f7f7f7"
            ],
            [
             0.6,
             "#e6f5d0"
            ],
            [
             0.7,
             "#b8e186"
            ],
            [
             0.8,
             "#7fbc41"
            ],
            [
             0.9,
             "#4d9221"
            ],
            [
             1,
             "#276419"
            ]
           ],
           "sequential": [
            [
             0,
             "#0d0887"
            ],
            [
             0.1111111111111111,
             "#46039f"
            ],
            [
             0.2222222222222222,
             "#7201a8"
            ],
            [
             0.3333333333333333,
             "#9c179e"
            ],
            [
             0.4444444444444444,
             "#bd3786"
            ],
            [
             0.5555555555555556,
             "#d8576b"
            ],
            [
             0.6666666666666666,
             "#ed7953"
            ],
            [
             0.7777777777777778,
             "#fb9f3a"
            ],
            [
             0.8888888888888888,
             "#fdca26"
            ],
            [
             1,
             "#f0f921"
            ]
           ],
           "sequentialminus": [
            [
             0,
             "#0d0887"
            ],
            [
             0.1111111111111111,
             "#46039f"
            ],
            [
             0.2222222222222222,
             "#7201a8"
            ],
            [
             0.3333333333333333,
             "#9c179e"
            ],
            [
             0.4444444444444444,
             "#bd3786"
            ],
            [
             0.5555555555555556,
             "#d8576b"
            ],
            [
             0.6666666666666666,
             "#ed7953"
            ],
            [
             0.7777777777777778,
             "#fb9f3a"
            ],
            [
             0.8888888888888888,
             "#fdca26"
            ],
            [
             1,
             "#f0f921"
            ]
           ]
          },
          "colorway": [
           "#636efa",
           "#EF553B",
           "#00cc96",
           "#ab63fa",
           "#FFA15A",
           "#19d3f3",
           "#FF6692",
           "#B6E880",
           "#FF97FF",
           "#FECB52"
          ],
          "font": {
           "color": "#2a3f5f"
          },
          "geo": {
           "bgcolor": "white",
           "lakecolor": "white",
           "landcolor": "#E5ECF6",
           "showlakes": true,
           "showland": true,
           "subunitcolor": "white"
          },
          "hoverlabel": {
           "align": "left"
          },
          "hovermode": "closest",
          "mapbox": {
           "style": "light"
          },
          "paper_bgcolor": "white",
          "plot_bgcolor": "#E5ECF6",
          "polar": {
           "angularaxis": {
            "gridcolor": "white",
            "linecolor": "white",
            "ticks": ""
           },
           "bgcolor": "#E5ECF6",
           "radialaxis": {
            "gridcolor": "white",
            "linecolor": "white",
            "ticks": ""
           }
          },
          "scene": {
           "xaxis": {
            "backgroundcolor": "#E5ECF6",
            "gridcolor": "white",
            "gridwidth": 2,
            "linecolor": "white",
            "showbackground": true,
            "ticks": "",
            "zerolinecolor": "white"
           },
           "yaxis": {
            "backgroundcolor": "#E5ECF6",
            "gridcolor": "white",
            "gridwidth": 2,
            "linecolor": "white",
            "showbackground": true,
            "ticks": "",
            "zerolinecolor": "white"
           },
           "zaxis": {
            "backgroundcolor": "#E5ECF6",
            "gridcolor": "white",
            "gridwidth": 2,
            "linecolor": "white",
            "showbackground": true,
            "ticks": "",
            "zerolinecolor": "white"
           }
          },
          "shapedefaults": {
           "line": {
            "color": "#2a3f5f"
           }
          },
          "ternary": {
           "aaxis": {
            "gridcolor": "white",
            "linecolor": "white",
            "ticks": ""
           },
           "baxis": {
            "gridcolor": "white",
            "linecolor": "white",
            "ticks": ""
           },
           "bgcolor": "#E5ECF6",
           "caxis": {
            "gridcolor": "white",
            "linecolor": "white",
            "ticks": ""
           }
          },
          "title": {
           "x": 0.05
          },
          "xaxis": {
           "automargin": true,
           "gridcolor": "white",
           "linecolor": "white",
           "ticks": "",
           "title": {
            "standoff": 15
           },
           "zerolinecolor": "white",
           "zerolinewidth": 2
          },
          "yaxis": {
           "automargin": true,
           "gridcolor": "white",
           "linecolor": "white",
           "ticks": "",
           "title": {
            "standoff": 15
           },
           "zerolinecolor": "white",
           "zerolinewidth": 2
          }
         }
        },
        "width": 700
       }
      },
      "text/html": [
       "<div>                            <div id=\"0408d43b-929d-4cc0-bb9d-dcfa5d28cc9a\" class=\"plotly-graph-div\" style=\"height:700px; width:700px;\"></div>            <script type=\"text/javascript\">                require([\"plotly\"], function(Plotly) {                    window.PLOTLYENV=window.PLOTLYENV || {};                                    if (document.getElementById(\"0408d43b-929d-4cc0-bb9d-dcfa5d28cc9a\")) {                    Plotly.newPlot(                        \"0408d43b-929d-4cc0-bb9d-dcfa5d28cc9a\",                        [{\"colorscale\":[[0.0,\"rgb(0, 128, 128)\"],[0.16666666666666666,\"rgb(112, 164, 148)\"],[0.3333333333333333,\"rgb(180, 200, 168)\"],[0.5,\"rgb(246, 237, 189)\"],[0.6666666666666666,\"rgb(237, 187, 138)\"],[0.8333333333333334,\"rgb(222, 138, 90)\"],[1.0,\"rgb(202, 86, 44)\"]],\"opacity\":0.8,\"type\":\"surface\",\"z\":[[0.0,0.0,0.0,0.0,0.0,0.0,0.0,0.0,0.0,0.0,0.0,6.939999580383301,0.0,0.0,0.0,0.0],[0.0,0.0,0.0,0.0,0.0,0.0,0.0,0.0,0.0,0.0,7.25,6.909998893737793,6.8899993896484375,0.0,0.0,0.0],[0.0,0.0,0.0,0.0,0.0,0.0,0.0,0.0,0.0,7.319998741149902,6.989999771118164,7.0,6.959999084472656,1.0500001907348633,6.970001220703125,0.0],[0.0,0.0,0.0,0.0,0.0,0.0,0.0,0.0,0.0,7.050000190734863,7.039999961853027,7.010000228881836,6.979999542236328,6.979999542236328,6.979999542236328,2.770000457763672],[0.0,0.0,0.0,0.0,0.0,0.0,0.0,0.0,7.050000190734863,7.039999961853027,7.220000267028809,7.070000648498535,7.010000228881836,6.989999771118164,6.989999771118164,0.0],[0.0,0.0,0.0,0.0,0.0,0.0,0.0,7.299999237060547,7.0199995040893555,7.0,6.979999542236328,6.959999084472656,7.0199995040893555,7.010000228881836,0.0,0.0],[0.0,0.0,0.0,0.0,0.0,0.0,6.149999618530273,7.049999237060547,6.999999046325684,6.969999313354492,6.949999809265137,6.970000267028809,6.909999847412109,5.169999122619629,0.0,0.0],[0.0,0.0,0.0,0.0,0.0,0.0,7.090000152587891,7.020000457763672,7.010001182556152,6.979999542236328,6.939999580383301,6.870000839233398,6.510000228881836,0.0,0.0,0.0],[0.0,0.0,0.0,0.0,0.0,7.999999046325684,8.15999984741211,7.090000152587891,7.029998779296875,7.0099992752075195,6.959999084472656,7.100000381469727,0.0,0.0,0.0,0.0],[0.0,0.0,0.0,0.0,6.390000343322754,8.569999694824219,9.369998931884766,9.179999351501465,7.339999198913574,7.049999237060547,7.0199995040893555,0.0,0.0,0.0,0.0,0.0],[0.0,0.0,0.0,3.6100006103515625,9.15999984741211,9.210000038146973,10.020000457763672,10.130000114440918,9.309999465942383,8.440000534057617,7.35999870300293,0.0,0.0,0.0,0.0,0.0],[0.0,0.0,0.0,8.200000762939453,9.170001029968262,9.800000190734863,10.4399995803833,9.530000686645508,8.679999351501465,7.859999656677246,0.0,0.0,0.0,0.0,0.0,0.0],[0.0,0.0,8.00999927520752,8.809999465942383,9.59999942779541,10.470000267028809,9.770000457763672,8.960000991821289,8.110000610351562,0.0,0.0,0.0,0.0,0.0,0.0,0.0],[0.0,5.600000381469727,8.630001068115234,9.40999984741211,10.25,10.029999732971191,9.200000762939453,8.329999923706055,2.029998779296875,0.0,0.0,0.0,0.0,0.0,0.0,0.0],[0.0,0.0,7.529999732971191,10.069999694824219,10.289999008178711,9.4399995803833,9.15999984741211,7.719999313354492,0.0,0.0,0.0,0.0,0.0,0.0,0.0,0.0],[0.0,0.0,0.0,3.719999313354492,9.709999084472656,8.820000648498535,8.729999542236328,0.0,0.0,0.0,0.0,0.0,0.0,0.0,0.0,0.0],[0.0,0.0,0.0,0.0,0.0,8.200000762939453,0.0,0.0,0.0,0.0,0.0,0.0,0.0,0.0,0.0,0.0],[0.0,0.0,0.0,0.0,0.0,0.0,0.0,0.0,0.0,0.0,0.0,0.0,0.0,0.0,0.0,0.0]]}],                        {\"height\":700,\"scene\":{\"xaxis\":{\"title\":{\"text\":\"X AXIS TITLE\"}},\"yaxis\":{\"title\":{\"text\":\"Y AXIS TITLE\"}},\"zaxis\":{\"title\":{\"text\":\"Z AXIS TITLE\"}}},\"template\":{\"data\":{\"bar\":[{\"error_x\":{\"color\":\"#2a3f5f\"},\"error_y\":{\"color\":\"#2a3f5f\"},\"marker\":{\"line\":{\"color\":\"#E5ECF6\",\"width\":0.5},\"pattern\":{\"fillmode\":\"overlay\",\"size\":10,\"solidity\":0.2}},\"type\":\"bar\"}],\"barpolar\":[{\"marker\":{\"line\":{\"color\":\"#E5ECF6\",\"width\":0.5},\"pattern\":{\"fillmode\":\"overlay\",\"size\":10,\"solidity\":0.2}},\"type\":\"barpolar\"}],\"carpet\":[{\"aaxis\":{\"endlinecolor\":\"#2a3f5f\",\"gridcolor\":\"white\",\"linecolor\":\"white\",\"minorgridcolor\":\"white\",\"startlinecolor\":\"#2a3f5f\"},\"baxis\":{\"endlinecolor\":\"#2a3f5f\",\"gridcolor\":\"white\",\"linecolor\":\"white\",\"minorgridcolor\":\"white\",\"startlinecolor\":\"#2a3f5f\"},\"type\":\"carpet\"}],\"choropleth\":[{\"colorbar\":{\"outlinewidth\":0,\"ticks\":\"\"},\"type\":\"choropleth\"}],\"contour\":[{\"colorbar\":{\"outlinewidth\":0,\"ticks\":\"\"},\"colorscale\":[[0.0,\"#0d0887\"],[0.1111111111111111,\"#46039f\"],[0.2222222222222222,\"#7201a8\"],[0.3333333333333333,\"#9c179e\"],[0.4444444444444444,\"#bd3786\"],[0.5555555555555556,\"#d8576b\"],[0.6666666666666666,\"#ed7953\"],[0.7777777777777778,\"#fb9f3a\"],[0.8888888888888888,\"#fdca26\"],[1.0,\"#f0f921\"]],\"type\":\"contour\"}],\"contourcarpet\":[{\"colorbar\":{\"outlinewidth\":0,\"ticks\":\"\"},\"type\":\"contourcarpet\"}],\"heatmap\":[{\"colorbar\":{\"outlinewidth\":0,\"ticks\":\"\"},\"colorscale\":[[0.0,\"#0d0887\"],[0.1111111111111111,\"#46039f\"],[0.2222222222222222,\"#7201a8\"],[0.3333333333333333,\"#9c179e\"],[0.4444444444444444,\"#bd3786\"],[0.5555555555555556,\"#d8576b\"],[0.6666666666666666,\"#ed7953\"],[0.7777777777777778,\"#fb9f3a\"],[0.8888888888888888,\"#fdca26\"],[1.0,\"#f0f921\"]],\"type\":\"heatmap\"}],\"heatmapgl\":[{\"colorbar\":{\"outlinewidth\":0,\"ticks\":\"\"},\"colorscale\":[[0.0,\"#0d0887\"],[0.1111111111111111,\"#46039f\"],[0.2222222222222222,\"#7201a8\"],[0.3333333333333333,\"#9c179e\"],[0.4444444444444444,\"#bd3786\"],[0.5555555555555556,\"#d8576b\"],[0.6666666666666666,\"#ed7953\"],[0.7777777777777778,\"#fb9f3a\"],[0.8888888888888888,\"#fdca26\"],[1.0,\"#f0f921\"]],\"type\":\"heatmapgl\"}],\"histogram\":[{\"marker\":{\"pattern\":{\"fillmode\":\"overlay\",\"size\":10,\"solidity\":0.2}},\"type\":\"histogram\"}],\"histogram2d\":[{\"colorbar\":{\"outlinewidth\":0,\"ticks\":\"\"},\"colorscale\":[[0.0,\"#0d0887\"],[0.1111111111111111,\"#46039f\"],[0.2222222222222222,\"#7201a8\"],[0.3333333333333333,\"#9c179e\"],[0.4444444444444444,\"#bd3786\"],[0.5555555555555556,\"#d8576b\"],[0.6666666666666666,\"#ed7953\"],[0.7777777777777778,\"#fb9f3a\"],[0.8888888888888888,\"#fdca26\"],[1.0,\"#f0f921\"]],\"type\":\"histogram2d\"}],\"histogram2dcontour\":[{\"colorbar\":{\"outlinewidth\":0,\"ticks\":\"\"},\"colorscale\":[[0.0,\"#0d0887\"],[0.1111111111111111,\"#46039f\"],[0.2222222222222222,\"#7201a8\"],[0.3333333333333333,\"#9c179e\"],[0.4444444444444444,\"#bd3786\"],[0.5555555555555556,\"#d8576b\"],[0.6666666666666666,\"#ed7953\"],[0.7777777777777778,\"#fb9f3a\"],[0.8888888888888888,\"#fdca26\"],[1.0,\"#f0f921\"]],\"type\":\"histogram2dcontour\"}],\"mesh3d\":[{\"colorbar\":{\"outlinewidth\":0,\"ticks\":\"\"},\"type\":\"mesh3d\"}],\"parcoords\":[{\"line\":{\"colorbar\":{\"outlinewidth\":0,\"ticks\":\"\"}},\"type\":\"parcoords\"}],\"pie\":[{\"automargin\":true,\"type\":\"pie\"}],\"scatter\":[{\"marker\":{\"colorbar\":{\"outlinewidth\":0,\"ticks\":\"\"}},\"type\":\"scatter\"}],\"scatter3d\":[{\"line\":{\"colorbar\":{\"outlinewidth\":0,\"ticks\":\"\"}},\"marker\":{\"colorbar\":{\"outlinewidth\":0,\"ticks\":\"\"}},\"type\":\"scatter3d\"}],\"scattercarpet\":[{\"marker\":{\"colorbar\":{\"outlinewidth\":0,\"ticks\":\"\"}},\"type\":\"scattercarpet\"}],\"scattergeo\":[{\"marker\":{\"colorbar\":{\"outlinewidth\":0,\"ticks\":\"\"}},\"type\":\"scattergeo\"}],\"scattergl\":[{\"marker\":{\"colorbar\":{\"outlinewidth\":0,\"ticks\":\"\"}},\"type\":\"scattergl\"}],\"scattermapbox\":[{\"marker\":{\"colorbar\":{\"outlinewidth\":0,\"ticks\":\"\"}},\"type\":\"scattermapbox\"}],\"scatterpolar\":[{\"marker\":{\"colorbar\":{\"outlinewidth\":0,\"ticks\":\"\"}},\"type\":\"scatterpolar\"}],\"scatterpolargl\":[{\"marker\":{\"colorbar\":{\"outlinewidth\":0,\"ticks\":\"\"}},\"type\":\"scatterpolargl\"}],\"scatterternary\":[{\"marker\":{\"colorbar\":{\"outlinewidth\":0,\"ticks\":\"\"}},\"type\":\"scatterternary\"}],\"surface\":[{\"colorbar\":{\"outlinewidth\":0,\"ticks\":\"\"},\"colorscale\":[[0.0,\"#0d0887\"],[0.1111111111111111,\"#46039f\"],[0.2222222222222222,\"#7201a8\"],[0.3333333333333333,\"#9c179e\"],[0.4444444444444444,\"#bd3786\"],[0.5555555555555556,\"#d8576b\"],[0.6666666666666666,\"#ed7953\"],[0.7777777777777778,\"#fb9f3a\"],[0.8888888888888888,\"#fdca26\"],[1.0,\"#f0f921\"]],\"type\":\"surface\"}],\"table\":[{\"cells\":{\"fill\":{\"color\":\"#EBF0F8\"},\"line\":{\"color\":\"white\"}},\"header\":{\"fill\":{\"color\":\"#C8D4E3\"},\"line\":{\"color\":\"white\"}},\"type\":\"table\"}]},\"layout\":{\"annotationdefaults\":{\"arrowcolor\":\"#2a3f5f\",\"arrowhead\":0,\"arrowwidth\":1},\"autotypenumbers\":\"strict\",\"coloraxis\":{\"colorbar\":{\"outlinewidth\":0,\"ticks\":\"\"}},\"colorscale\":{\"diverging\":[[0,\"#8e0152\"],[0.1,\"#c51b7d\"],[0.2,\"#de77ae\"],[0.3,\"#f1b6da\"],[0.4,\"#fde0ef\"],[0.5,\"#f7f7f7\"],[0.6,\"#e6f5d0\"],[0.7,\"#b8e186\"],[0.8,\"#7fbc41\"],[0.9,\"#4d9221\"],[1,\"#276419\"]],\"sequential\":[[0.0,\"#0d0887\"],[0.1111111111111111,\"#46039f\"],[0.2222222222222222,\"#7201a8\"],[0.3333333333333333,\"#9c179e\"],[0.4444444444444444,\"#bd3786\"],[0.5555555555555556,\"#d8576b\"],[0.6666666666666666,\"#ed7953\"],[0.7777777777777778,\"#fb9f3a\"],[0.8888888888888888,\"#fdca26\"],[1.0,\"#f0f921\"]],\"sequentialminus\":[[0.0,\"#0d0887\"],[0.1111111111111111,\"#46039f\"],[0.2222222222222222,\"#7201a8\"],[0.3333333333333333,\"#9c179e\"],[0.4444444444444444,\"#bd3786\"],[0.5555555555555556,\"#d8576b\"],[0.6666666666666666,\"#ed7953\"],[0.7777777777777778,\"#fb9f3a\"],[0.8888888888888888,\"#fdca26\"],[1.0,\"#f0f921\"]]},\"colorway\":[\"#636efa\",\"#EF553B\",\"#00cc96\",\"#ab63fa\",\"#FFA15A\",\"#19d3f3\",\"#FF6692\",\"#B6E880\",\"#FF97FF\",\"#FECB52\"],\"font\":{\"color\":\"#2a3f5f\"},\"geo\":{\"bgcolor\":\"white\",\"lakecolor\":\"white\",\"landcolor\":\"#E5ECF6\",\"showlakes\":true,\"showland\":true,\"subunitcolor\":\"white\"},\"hoverlabel\":{\"align\":\"left\"},\"hovermode\":\"closest\",\"mapbox\":{\"style\":\"light\"},\"paper_bgcolor\":\"white\",\"plot_bgcolor\":\"#E5ECF6\",\"polar\":{\"angularaxis\":{\"gridcolor\":\"white\",\"linecolor\":\"white\",\"ticks\":\"\"},\"bgcolor\":\"#E5ECF6\",\"radialaxis\":{\"gridcolor\":\"white\",\"linecolor\":\"white\",\"ticks\":\"\"}},\"scene\":{\"xaxis\":{\"backgroundcolor\":\"#E5ECF6\",\"gridcolor\":\"white\",\"gridwidth\":2,\"linecolor\":\"white\",\"showbackground\":true,\"ticks\":\"\",\"zerolinecolor\":\"white\"},\"yaxis\":{\"backgroundcolor\":\"#E5ECF6\",\"gridcolor\":\"white\",\"gridwidth\":2,\"linecolor\":\"white\",\"showbackground\":true,\"ticks\":\"\",\"zerolinecolor\":\"white\"},\"zaxis\":{\"backgroundcolor\":\"#E5ECF6\",\"gridcolor\":\"white\",\"gridwidth\":2,\"linecolor\":\"white\",\"showbackground\":true,\"ticks\":\"\",\"zerolinecolor\":\"white\"}},\"shapedefaults\":{\"line\":{\"color\":\"#2a3f5f\"}},\"ternary\":{\"aaxis\":{\"gridcolor\":\"white\",\"linecolor\":\"white\",\"ticks\":\"\"},\"baxis\":{\"gridcolor\":\"white\",\"linecolor\":\"white\",\"ticks\":\"\"},\"bgcolor\":\"#E5ECF6\",\"caxis\":{\"gridcolor\":\"white\",\"linecolor\":\"white\",\"ticks\":\"\"}},\"title\":{\"x\":0.05},\"xaxis\":{\"automargin\":true,\"gridcolor\":\"white\",\"linecolor\":\"white\",\"ticks\":\"\",\"title\":{\"standoff\":15},\"zerolinecolor\":\"white\",\"zerolinewidth\":2},\"yaxis\":{\"automargin\":true,\"gridcolor\":\"white\",\"linecolor\":\"white\",\"ticks\":\"\",\"title\":{\"standoff\":15},\"zerolinecolor\":\"white\",\"zerolinewidth\":2}}},\"width\":700},                        {\"responsive\": true}                    ).then(function(){\n",
       "                            \n",
       "var gd = document.getElementById('0408d43b-929d-4cc0-bb9d-dcfa5d28cc9a');\n",
       "var x = new MutationObserver(function (mutations, observer) {{\n",
       "        var display = window.getComputedStyle(gd).display;\n",
       "        if (!display || display === 'none') {{\n",
       "            console.log([gd, 'removed!']);\n",
       "            Plotly.purge(gd);\n",
       "            observer.disconnect();\n",
       "        }}\n",
       "}});\n",
       "\n",
       "// Listen for the removal of the full notebook cells\n",
       "var notebookContainer = gd.closest('#notebook-container');\n",
       "if (notebookContainer) {{\n",
       "    x.observe(notebookContainer, {childList: true});\n",
       "}}\n",
       "\n",
       "// Listen for the clearing of the current output cell\n",
       "var outputEl = gd.closest('.output');\n",
       "if (outputEl) {{\n",
       "    x.observe(outputEl, {childList: true});\n",
       "}}\n",
       "\n",
       "                        })                };                });            </script>        </div>"
      ]
     },
     "metadata": {},
     "output_type": "display_data"
    }
   ],
   "source": [
    "fig = go.Figure(data=go.Surface (z= CHM_Provinciesteenweg , opacity=0.8, colorscale='geyser'))\n",
    "                  \n",
    "\n",
    "fig.update_layout(scene = dict(\n",
    "                    xaxis_title='X AXIS TITLE',\n",
    "                    yaxis_title='Y AXIS TITLE',\n",
    "                    zaxis_title='Z AXIS TITLE'),\n",
    "                    width=700,\n",
    "                    height = 700\n",
    "                  )\n",
    "\n",
    "fig.show()\n"
   ]
  },
  {
   "cell_type": "code",
   "execution_count": 56,
   "id": "44ef403b",
   "metadata": {
    "scrolled": true
   },
   "outputs": [
    {
     "data": {
      "application/vnd.plotly.v1+json": {
       "config": {
        "plotlyServerURL": "https://plot.ly"
       },
       "data": [
        {
         "colorscale": [
          [
           0,
           "rgb(75, 41, 145)"
          ],
          [
           0.16666666666666666,
           "rgb(135, 44, 162)"
          ],
          [
           0.3333333333333333,
           "rgb(192, 54, 157)"
          ],
          [
           0.5,
           "rgb(234, 79, 136)"
          ],
          [
           0.6666666666666666,
           "rgb(250, 120, 118)"
          ],
          [
           0.8333333333333334,
           "rgb(246, 169, 122)"
          ],
          [
           1,
           "rgb(237, 217, 163)"
          ]
         ],
         "opacity": 0.8,
         "type": "surface",
         "z": [
          [
           0,
           0,
           0,
           0,
           0,
           0,
           0,
           0,
           0,
           0,
           0,
           0,
           0,
           0,
           0,
           0,
           0,
           0,
           0,
           0,
           0,
           0,
           0,
           0,
           0,
           0,
           0,
           0,
           0,
           0,
           0,
           0,
           0,
           0,
           0,
           0,
           0,
           0,
           0,
           0,
           0,
           0,
           0,
           0,
           0,
           0,
           0,
           0,
           0,
           0,
           0,
           0,
           0,
           0
          ],
          [
           0,
           0,
           0,
           0,
           0,
           0,
           0,
           0,
           0,
           0,
           0,
           0,
           0,
           0,
           0,
           0,
           0,
           0,
           29.439998626708984,
           28.720001220703125,
           0,
           0,
           0,
           0,
           0,
           0,
           0,
           0,
           0,
           0,
           0,
           0,
           0,
           0,
           0,
           0,
           0,
           0,
           0,
           0,
           0,
           0,
           0,
           0,
           0,
           0,
           0,
           0,
           0,
           0,
           0,
           0,
           0,
           0
          ],
          [
           0,
           0,
           0,
           0,
           0,
           0,
           0,
           0,
           0,
           0,
           0,
           0,
           0,
           0,
           0,
           0,
           3.753361225128174,
           28.50938606262207,
           28.537254333496094,
           28.541149139404297,
           19.959999084472656,
           0,
           0,
           0,
           0,
           0,
           0,
           0,
           0,
           0,
           0,
           0,
           0,
           0,
           0,
           0,
           0,
           0,
           0,
           0,
           0,
           0,
           0,
           0,
           0,
           0,
           0,
           0,
           0,
           0,
           0,
           0,
           0,
           0
          ],
          [
           0,
           0,
           0,
           0,
           0,
           0,
           0,
           0,
           0,
           0,
           0,
           0,
           0,
           0,
           21.855525970458984,
           35.500953674316406,
           35.48738098144531,
           28.51357078552246,
           28.517822265625,
           28.525352478027344,
           28.548526763916016,
           0,
           0,
           0,
           0,
           0,
           0,
           0,
           0,
           0,
           0,
           0,
           0,
           0,
           0,
           0,
           0,
           0,
           0,
           0,
           0,
           0,
           0,
           0,
           0,
           0,
           0,
           0,
           0,
           0,
           0,
           0,
           0,
           0
          ],
          [
           0,
           0,
           0,
           0,
           0,
           0,
           0,
           0,
           0,
           0,
           0,
           0,
           0,
           34.825469970703125,
           34.734642028808594,
           34.730804443359375,
           34.726356506347656,
           30.404146194458008,
           28.559173583984375,
           28.56657600402832,
           28.569026947021484,
           28.575538635253906,
           0,
           0,
           0,
           0,
           0,
           0,
           0,
           0,
           0,
           0,
           0,
           0,
           0,
           0,
           0,
           0,
           0,
           0,
           0,
           0,
           0,
           0,
           0,
           0,
           0,
           0,
           0,
           0,
           0,
           0,
           0,
           0
          ],
          [
           0,
           0,
           0,
           0,
           0,
           0,
           0,
           0,
           0,
           0,
           0,
           24.126283645629883,
           34.682071685791016,
           34.689815521240234,
           34.700218200683594,
           34.71787643432617,
           34.73490905761719,
           35.3635139465332,
           28.56885528564453,
           28.557598114013672,
           28.5714054107666,
           28.582557678222656,
           0,
           0,
           0,
           0,
           0,
           0,
           0,
           0,
           0,
           0,
           0,
           0,
           0,
           0,
           0,
           0,
           0,
           0,
           0,
           0,
           0,
           0,
           0,
           0,
           0,
           0,
           0,
           0,
           0,
           0,
           0,
           0
          ],
          [
           0,
           0,
           0,
           0,
           0,
           0,
           0,
           0,
           0,
           33.125099182128906,
           35.10287857055664,
           34.72583770751953,
           33.130950927734375,
           34.69625473022461,
           34.71734619140625,
           34.72772979736328,
           34.72222137451172,
           34.74364471435547,
           35.18492126464844,
           28.553503036499023,
           29.31728744506836,
           30.57657241821289,
           35.53659439086914,
           0,
           0,
           0,
           0,
           0,
           0,
           0,
           0,
           0,
           0,
           0,
           0,
           0,
           0,
           0,
           0,
           0,
           0,
           0,
           0,
           0,
           0,
           0,
           0,
           0,
           0,
           0,
           0,
           0,
           0,
           0
          ],
          [
           0,
           0,
           0,
           0,
           0,
           0,
           0,
           27.840360641479492,
           35.541358947753906,
           34.72083282470703,
           34.73896408081055,
           34.745296478271484,
           34.73908996582031,
           34.725242614746094,
           34.73687744140625,
           34.7484130859375,
           34.743953704833984,
           34.75605010986328,
           34.78814697265625,
           35.52780532836914,
           31.212013244628906,
           34.78175735473633,
           34.802650451660156,
           0,
           0,
           0,
           0,
           0,
           0,
           0,
           0,
           0,
           0,
           0,
           0,
           0,
           0,
           0,
           0,
           0,
           0,
           0,
           0,
           0,
           0,
           0,
           0,
           0,
           0,
           0,
           0,
           0,
           0,
           0
          ],
          [
           0,
           0,
           0,
           0,
           0,
           0,
           35.495452880859375,
           34.64653396606445,
           34.67634201049805,
           34.71544647216797,
           34.722373962402344,
           34.73760986328125,
           34.74093246459961,
           34.746891021728516,
           34.728389739990234,
           34.75899887084961,
           34.73522186279297,
           34.74687576293945,
           34.74872589111328,
           34.76807403564453,
           34.761436462402344,
           34.751060485839844,
           34.80712127685547,
           33.520240783691406,
           0,
           0,
           0,
           0,
           0,
           0,
           0,
           0,
           0,
           0,
           0,
           0,
           0,
           0,
           0,
           0,
           0,
           0,
           0,
           0,
           0,
           0,
           0,
           0,
           0,
           0,
           0,
           0,
           0,
           0
          ],
          [
           0,
           0,
           0,
           0,
           34.33145523071289,
           34.72599792480469,
           34.69816589355469,
           34.668495178222656,
           34.701576232910156,
           34.71699523925781,
           34.74435043334961,
           34.75962448120117,
           34.72153091430664,
           34.770084381103516,
           34.761924743652344,
           34.78297805786133,
           34.75957489013672,
           34.77143859863281,
           34.773704528808594,
           34.78032684326172,
           34.789772033691406,
           34.80084991455078,
           34.80304718017578,
           34.816368103027344,
           31.20693588256836,
           0,
           0,
           0,
           0,
           0,
           0,
           0,
           0,
           0,
           0,
           0,
           0,
           0,
           0,
           0,
           0,
           0,
           0,
           0,
           0,
           0,
           0,
           0,
           0,
           0,
           0,
           0,
           0,
           0
          ],
          [
           0,
           0,
           28.48999786376953,
           28.469642639160156,
           35.11290740966797,
           34.69694900512695,
           34.698795318603516,
           34.68901824951172,
           34.68708801269531,
           34.716453552246094,
           34.742027282714844,
           34.75550079345703,
           34.745643615722656,
           34.75627517700195,
           34.752811431884766,
           34.73323440551758,
           34.73069381713867,
           34.72824478149414,
           34.73885726928711,
           34.76556396484375,
           34.78301239013672,
           34.76262283325195,
           34.7527961730957,
           34.78634262084961,
           35.35910415649414,
           0,
           0,
           0,
           0,
           0,
           0,
           0,
           0,
           0,
           0,
           0,
           0,
           0,
           0,
           0,
           0,
           0,
           0,
           0,
           0,
           0,
           0,
           0,
           0,
           0,
           0,
           0,
           0,
           0
          ],
          [
           23.389999389648438,
           29.350000381469727,
           28.48999786376953,
           28.489795684814453,
           30.72271728515625,
           31.088275909423828,
           34.709693908691406,
           34.70969772338867,
           34.707237243652344,
           34.735435485839844,
           34.76469421386719,
           34.77981185913086,
           34.77192306518555,
           34.75394821166992,
           34.74195861816406,
           34.753990173339844,
           34.74276351928711,
           34.751861572265625,
           34.78306579589844,
           34.80347442626953,
           36.56983184814453,
           35.48419952392578,
           34.775997161865234,
           34.805912017822266,
           34.81895446777344,
           32.44374084472656,
           0,
           0,
           0,
           0,
           0,
           0,
           0,
           0,
           0,
           0,
           0,
           0,
           0,
           0,
           0,
           0,
           0,
           0,
           0,
           0,
           0,
           0,
           0,
           0,
           0,
           0,
           0,
           0
          ],
          [
           0,
           19.940000534057617,
           28.509998321533203,
           28.4864444732666,
           28.488628387451172,
           35.193084716796875,
           34.714176177978516,
           34.71709442138672,
           34.72431182861328,
           34.73262023925781,
           34.756065368652344,
           34.77930450439453,
           34.752559661865234,
           34.754913330078125,
           34.737483978271484,
           34.74805450439453,
           34.749267578125,
           34.77454376220703,
           34.78746032714844,
           37.82127380371094,
           38.60781478881836,
           38.60759353637695,
           34.77051544189453,
           34.800987243652344,
           34.77804946899414,
           34.830562591552734,
           0,
           0,
           0,
           0,
           0,
           0,
           0,
           0,
           0,
           0,
           0,
           0,
           0,
           0,
           0,
           0,
           0,
           0,
           0,
           0,
           0,
           0,
           0,
           0,
           0,
           0,
           0,
           0
          ],
          [
           0,
           0,
           28.489999771118164,
           28.491647720336914,
           28.484149932861328,
           28.63974380493164,
           33.89101791381836,
           34.73094177246094,
           34.747798919677734,
           34.746150970458984,
           34.7324333190918,
           34.765342712402344,
           34.738075256347656,
           34.7198600769043,
           34.70420837402344,
           34.70587158203125,
           34.734134674072266,
           38.72665786743164,
           38.579261779785156,
           38.587791442871094,
           38.584129333496094,
           38.586204528808594,
           38.80504608154297,
           34.75276184082031,
           34.755126953125,
           34.787208557128906,
           35.570186614990234,
           0,
           0,
           0,
           0,
           0,
           0,
           0,
           0,
           0,
           0,
           0,
           0,
           0,
           0,
           0,
           0,
           0,
           0,
           0,
           0,
           0,
           0,
           0,
           0,
           0,
           0,
           0
          ],
          [
           0,
           0,
           28.510000228881836,
           28.512435913085938,
           28.50387191772461,
           30.15364646911621,
           35.484893798828125,
           34.73480224609375,
           34.73119354248047,
           34.72958755493164,
           34.742156982421875,
           34.74616622924805,
           34.76170349121094,
           34.723968505859375,
           34.69636535644531,
           35.23616409301758,
           38.59748840332031,
           38.58555221557617,
           38.588741302490234,
           38.57160568237305,
           38.547935485839844,
           38.547760009765625,
           38.597930908203125,
           35.14586639404297,
           34.74835968017578,
           34.7813720703125,
           34.80487060546875,
           0,
           0,
           0,
           0,
           0,
           0,
           0,
           0,
           0,
           0,
           0,
           0,
           0,
           0,
           0,
           0,
           0,
           0,
           0,
           0,
           0,
           0,
           0,
           0,
           0,
           0,
           0
          ],
          [
           0,
           0,
           0,
           28.534839630126953,
           30.825578689575195,
           35.45475387573242,
           34.735652923583984,
           34.74542236328125,
           34.741302490234375,
           34.72981262207031,
           34.735496520996094,
           34.739280700683594,
           34.73094940185547,
           36.23212814331055,
           38.573394775390625,
           38.57651901245117,
           38.55962371826172,
           38.5495719909668,
           38.52632522583008,
           38.525455474853516,
           38.520538330078125,
           38.519798278808594,
           38.549381256103516,
           38.88615798950195,
           34.69913864135742,
           34.751564025878906,
           34.802490234375,
           35.446224212646484,
           0,
           0,
           0,
           0,
           0,
           0,
           0,
           0,
           0,
           0,
           0,
           0,
           0,
           0,
           0,
           0,
           0,
           0,
           0,
           0,
           0,
           0,
           0,
           0,
           0,
           0
          ],
          [
           0,
           0,
           0,
           15.079248428344727,
           34.787906646728516,
           34.74555969238281,
           34.725921630859375,
           34.705596923828125,
           34.754791259765625,
           34.763126373291016,
           34.76475143432617,
           34.75822067260742,
           38.302146911621094,
           38.570411682128906,
           38.574790954589844,
           38.57861328125,
           38.55951690673828,
           38.542762756347656,
           38.54481887817383,
           38.544795989990234,
           38.55033493041992,
           38.55044937133789,
           38.56088638305664,
           38.61867904663086,
           34.778419494628906,
           34.782230377197266,
           34.81597137451172,
           34.839271545410156,
           31.95587158203125,
           0,
           0,
           0,
           0,
           0,
           0,
           0,
           0,
           0,
           0,
           0,
           0,
           0,
           0,
           0,
           0,
           0,
           0,
           0,
           0,
           0,
           0,
           0,
           0,
           0
          ],
          [
           0,
           0,
           0,
           0,
           34.937774658203125,
           34.72697448730469,
           34.73377227783203,
           34.71345901489258,
           26.99811363220215,
           34.75684356689453,
           38.97813034057617,
           38.55791473388672,
           38.54278564453125,
           38.555152893066406,
           38.525123596191406,
           38.529518127441406,
           38.53066635131836,
           38.521820068359375,
           38.512977600097656,
           38.527957916259766,
           38.52256393432617,
           38.52150344848633,
           38.53065490722656,
           38.611690521240234,
           38.61543273925781,
           37.87750244140625,
           34.74142074584961,
           34.766971588134766,
           35.215614318847656,
           0,
           0,
           0,
           0,
           0,
           0,
           0,
           0,
           0,
           0,
           0,
           0,
           0,
           0,
           0,
           0,
           0,
           0,
           0,
           0,
           0,
           0,
           0,
           0,
           0
          ],
          [
           0,
           0,
           0,
           0,
           0,
           34.77145767211914,
           34.731178283691406,
           34.70066452026367,
           35.19495391845703,
           38.56975555419922,
           38.61067581176758,
           38.543941497802734,
           38.52933120727539,
           38.529850006103516,
           38.52034378051758,
           38.52085494995117,
           38.53137969970703,
           38.52191162109375,
           38.5224494934082,
           38.532981872558594,
           39.11740493774414,
           38.74833679199219,
           38.57844543457031,
           38.55461120605469,
           38.568359375,
           38.552032470703125,
           34.7060546875,
           34.75996398925781,
           34.778892517089844,
           33.718467712402344,
           0,
           0,
           0,
           0,
           0,
           0,
           0,
           0,
           0,
           0,
           0,
           0,
           0,
           0,
           0,
           0,
           0,
           0,
           0,
           0,
           0,
           0,
           0,
           0
          ],
          [
           0,
           0,
           0,
           0,
           0,
           34.485694885253906,
           34.755741119384766,
           34.72393035888672,
           34.707603454589844,
           38.58665084838867,
           38.56731414794922,
           38.720458984375,
           38.52601623535156,
           38.514854431152344,
           38.50692367553711,
           38.51761245727539,
           38.51830291748047,
           38.52899169921875,
           38.53968048095703,
           38.550357818603516,
           38.57188034057617,
           39.468162536621094,
           38.90818405151367,
           38.537330627441406,
           38.56117630004883,
           38.613426208496094,
           34.737266540527344,
           34.76015853881836,
           34.73923110961914,
           34.798095703125,
           0,
           0,
           0,
           0,
           0,
           0,
           0,
           0,
           0,
           0,
           0,
           0,
           0,
           0,
           0,
           0,
           0,
           0,
           0,
           0,
           0,
           0,
           0,
           0
          ],
          [
           0,
           0,
           0,
           0,
           0,
           0,
           34.75069808959961,
           34.71043395996094,
           34.70412826538086,
           34.8433723449707,
           38.57768630981445,
           38.530418395996094,
           38.53215026855469,
           38.53081512451172,
           38.50950622558594,
           38.52959060668945,
           38.54966735839844,
           39.669734954833984,
           39.677284240722656,
           39.66862487792969,
           39.479942321777344,
           39.02519989013672,
           38.54559326171875,
           38.55243682861328,
           38.53605651855469,
           38.567626953125,
           38.89111328125,
           34.73330307006836,
           34.73263168334961,
           34.76983642578125,
           33.81502151489258,
           0,
           0,
           0,
           0,
           0,
           0,
           0,
           0,
           0,
           0,
           0,
           0,
           0,
           0,
           0,
           0,
           0,
           0,
           0,
           0,
           0,
           0,
           0
          ],
          [
           0,
           0,
           0,
           0,
           0,
           0,
           18.731143951416016,
           34.731903076171875,
           34.707820892333984,
           34.687217712402344,
           31.29739761352539,
           38.55023193359375,
           38.522216796875,
           38.521148681640625,
           38.53312301635742,
           38.6806640625,
           39.00117111206055,
           39.65714645385742,
           38.52898406982422,
           39.9456901550293,
           38.527225494384766,
           38.5362663269043,
           38.546661376953125,
           38.54707336425781,
           38.538909912109375,
           38.5577392578125,
           38.57133865356445,
           34.96357345581055,
           34.72296142578125,
           34.7706184387207,
           33.10598373413086,
           0,
           0,
           0,
           0,
           0,
           0,
           0,
           0,
           0,
           0,
           0,
           0,
           0,
           0,
           0,
           0,
           0,
           0,
           0,
           0,
           0,
           0,
           0
          ],
          [
           0,
           0,
           0,
           0,
           0,
           0,
           0,
           34.76560974121094,
           34.72835159301758,
           34.687381744384766,
           12.927167892456055,
           38.569854736328125,
           38.541770935058594,
           38.56052017211914,
           38.532325744628906,
           38.643314361572266,
           39.47311019897461,
           39.47024917602539,
           38.841285705566406,
           40.04267501831055,
           38.582557678222656,
           38.53243637084961,
           38.55232620239258,
           38.57221984863281,
           38.53886413574219,
           38.536949157714844,
           38.550743103027344,
           38.192832946777344,
           34.72249984741211,
           34.74043273925781,
           34.74540710449219,
           35.541969299316406,
           0,
           0,
           0,
           0,
           0,
           0,
           0,
           0,
           0,
           0,
           0,
           0,
           0,
           0,
           0,
           0,
           0,
           0,
           0,
           0,
           0,
           0
          ],
          [
           0,
           0,
           0,
           0,
           0,
           0,
           0,
           24.849367141723633,
           34.74135208129883,
           34.72096633911133,
           34.681278228759766,
           37.15321350097656,
           38.555137634277344,
           38.543941497802734,
           38.545692443847656,
           38.86284637451172,
           39.36526107788086,
           39.0191650390625,
           38.579524993896484,
           38.7598876953125,
           38.96025466918945,
           38.57062530517578,
           38.56100082397461,
           38.58137512207031,
           38.571746826171875,
           38.57001495361328,
           38.55392837524414,
           38.53704071044922,
           35.636661529541016,
           34.83374786376953,
           36.72892379760742,
           36.40583801269531,
           19.6977481842041,
           0,
           0,
           0,
           0,
           0,
           0,
           0,
           0,
           0,
           0,
           0,
           0,
           0,
           0,
           0,
           0,
           0,
           0,
           0,
           0,
           0
          ],
          [
           0,
           0,
           0,
           0,
           0,
           0,
           0,
           0,
           33.59121322631836,
           34.72102737426758,
           34.7010498046875,
           34.652862548828125,
           38.57086181640625,
           38.54899215698242,
           38.551937103271484,
           38.535560607910156,
           38.63457107543945,
           38.5455322265625,
           38.555572509765625,
           38.6256103515625,
           38.57565689086914,
           38.575706481933594,
           38.56575012207031,
           38.585792541503906,
           39.165828704833984,
           38.56702423095703,
           38.558387756347656,
           38.54034423828125,
           38.560279846191406,
           34.94676208496094,
           35.012813568115234,
           35.749298095703125,
           30.411272048950195,
           0,
           0,
           0,
           0,
           0,
           0,
           0,
           0,
           0,
           0,
           0,
           0,
           0,
           0,
           0,
           0,
           0,
           0,
           0,
           0,
           0
          ],
          [
           0,
           0,
           0,
           0,
           0,
           0,
           0,
           0,
           0,
           34.731056213378906,
           34.700904846191406,
           34.69594955444336,
           34.99476623535156,
           38.5676383972168,
           38.55945587158203,
           38.52822494506836,
           38.684749603271484,
           38.567264556884766,
           38.557464599609375,
           38.57766342163086,
           38.557865142822266,
           38.56806564331055,
           38.598262786865234,
           38.599998474121094,
           39.66999816894531,
           38.589996337890625,
           38.58145523071289,
           38.56355667114258,
           38.54483413696289,
           37.89138412475586,
           35.43641662597656,
           36.3930549621582,
           34.77468490600586,
           22.956283569335938,
           0,
           0,
           0,
           0,
           0,
           0,
           0,
           0,
           0,
           0,
           0,
           0,
           0,
           0,
           0,
           0,
           0,
           0,
           0,
           0
          ],
          [
           0,
           0,
           0,
           0,
           0,
           0,
           0,
           0,
           0,
           35.544559478759766,
           34.7246208190918,
           34.69663619995117,
           34.6884651184082,
           38.5972900390625,
           38.54907989501953,
           38.53790283203125,
           38.55440139770508,
           38.59005355834961,
           38.58210372924805,
           38.57278060913086,
           38.583457946777344,
           38.596195220947266,
           38.60663986206055,
           38.62708282470703,
           39.477516174316406,
           39.667945861816406,
           38.600257873535156,
           38.603759765625,
           38.56362533569336,
           38.60052490234375,
           34.875762939453125,
           35.418861389160156,
           36.79927444458008,
           30.033958435058594,
           0,
           0,
           0,
           0,
           0,
           0,
           0,
           0,
           0,
           0,
           0,
           0,
           0,
           0,
           0,
           0,
           0,
           0,
           0,
           0
          ],
          [
           0,
           0,
           0,
           0,
           0,
           0,
           0,
           0,
           0,
           0,
           34.73894119262695,
           34.73046112060547,
           34.702171325683594,
           34.7208366394043,
           38.57257843017578,
           38.551212310791016,
           38.55778503417969,
           38.573204040527344,
           38.581871032714844,
           38.58460235595703,
           38.60459899902344,
           38.614593505859375,
           38.604591369628906,
           38.62458801269531,
           38.62694549560547,
           38.626739501953125,
           38.61652374267578,
           38.6077995300293,
           38.577938079833984,
           38.571693420410156,
           38.306488037109375,
           34.872798919677734,
           34.89408493041992,
           36.73975372314453,
           35.53340530395508,
           0,
           0,
           0,
           0,
           0,
           0,
           0,
           0,
           0,
           0,
           0,
           0,
           0,
           0,
           0,
           0,
           0,
           0,
           0
          ],
          [
           0,
           0,
           0,
           0,
           0,
           0,
           0,
           0,
           0,
           0,
           33.25254440307617,
           34.734249114990234,
           34.741981506347656,
           34.7107048034668,
           38.782386779785156,
           38.55107879638672,
           38.5475959777832,
           38.54638671875,
           39.48044204711914,
           39.67784881591797,
           38.608154296875,
           38.628456115722656,
           38.64158248901367,
           38.66167449951172,
           38.65176010131836,
           39.16183853149414,
           39.55191421508789,
           38.61027908325195,
           38.57155227661133,
           38.567626953125,
           38.572608947753906,
           6.409118175506592,
           35.46943664550781,
           16.195396423339844,
           34.96918487548828,
           0,
           0,
           0,
           0,
           0,
           0,
           0,
           0,
           0,
           0,
           0,
           0,
           0,
           0,
           0,
           0,
           0,
           0,
           0
          ],
          [
           0,
           0,
           0,
           0,
           0,
           0,
           0,
           0,
           0,
           0,
           0,
           35.14375305175781,
           34.74537658691406,
           34.744102478027344,
           27.77583122253418,
           38.568321228027344,
           38.54462814331055,
           38.54955291748047,
           38.583709716796875,
           39.67670440673828,
           39.290809631347656,
           38.66132736206055,
           38.70183563232422,
           38.932342529296875,
           38.69284439086914,
           38.63260269165039,
           38.63258743286133,
           39.51253890991211,
           38.592437744140625,
           38.59890365600586,
           38.56278991699219,
           38.67982864379883,
           20.98116111755371,
           35.02484893798828,
           36.78392791748047,
           35.5597038269043,
           0,
           0,
           0,
           0,
           0,
           0,
           0,
           0,
           0,
           0,
           0,
           0,
           0,
           0,
           0,
           0,
           0,
           0
          ],
          [
           0,
           0,
           0,
           0,
           0,
           0,
           0,
           0,
           0,
           0,
           0,
           35.24085998535156,
           34.76341247558594,
           34.725337982177734,
           23.00665855407715,
           38.615150451660156,
           35.53143310546875,
           38.546539306640625,
           38.584373474121094,
           38.92764663696289,
           38.658775329589844,
           38.63959884643555,
           38.680416107177734,
           39.011497497558594,
           38.7518424987793,
           38.652156829833984,
           38.602447509765625,
           39.71271514892578,
           38.781009674072266,
           38.60969924926758,
           38.68540954589844,
           38.650516510009766,
           36.391212463378906,
           35.0267219543457,
           35.04594802856445,
           34.77223205566406,
           32.73381042480469,
           0,
           0,
           0,
           0,
           0,
           0,
           0,
           0,
           0,
           0,
           0,
           0,
           0,
           0,
           0,
           0,
           0
          ],
          [
           0,
           0,
           0,
           0,
           0,
           0,
           0,
           0,
           0,
           0,
           0,
           0,
           31.826541900634766,
           35.48525619506836,
           34.75688171386719,
           28.16522979736328,
           38.57561492919922,
           38.55017852783203,
           38.59425354003906,
           38.627723693847656,
           38.65178680419922,
           39.00285720825195,
           38.632225036621094,
           38.65159225463867,
           38.62095260620117,
           38.590309143066406,
           38.57725524902344,
           39.69681167602539,
           39.69639205932617,
           38.759098052978516,
           38.56211853027344,
           38.56916046142578,
           38.62054443359375,
           34.83658981323242,
           36.64641571044922,
           36.73371124267578,
           34.28468322753906,
           0,
           0,
           0,
           0,
           0,
           0,
           0,
           0,
           0,
           0,
           0,
           0,
           0,
           0,
           0,
           0,
           0
          ],
          [
           0,
           0,
           0,
           0,
           0,
           0,
           0,
           0,
           0,
           0,
           0,
           0,
           0,
           34.76529312133789,
           34.74702453613281,
           25.16565704345703,
           36.601993560791016,
           38.54704666137695,
           38.551246643066406,
           38.59700393676758,
           38.82265853881836,
           38.61870574951172,
           38.59945297241211,
           39.02018737792969,
           38.5980339050293,
           38.56892395019531,
           38.569820404052734,
           38.5907096862793,
           39.91826629638672,
           38.96940994262695,
           38.585391998291016,
           38.572723388671875,
           38.584129333496094,
           37.23031234741211,
           35.0703125,
           35.13541793823242,
           36.878536224365234,
           35.34761047363281,
           0,
           0,
           0,
           0,
           0,
           0,
           0,
           0,
           0,
           0,
           0,
           0,
           0,
           0,
           0,
           0
          ],
          [
           0,
           0,
           0,
           0,
           0,
           0,
           0,
           0,
           0,
           0,
           0,
           0,
           0,
           35.539703369140625,
           34.7609977722168,
           34.75936508178711,
           23.155916213989258,
           38.5836296081543,
           38.537628173828125,
           38.57111358642578,
           38.56632995605469,
           39.63561248779297,
           39.68498992919922,
           38.60627365112305,
           38.59756088256836,
           38.57883071899414,
           38.600074768066406,
           39.177337646484375,
           39.91883087158203,
           39.42029571533203,
           38.59515380859375,
           38.57280731201172,
           38.594364166259766,
           38.61080551147461,
           35.098575592041016,
           35.6196403503418,
           34.7860107421875,
           34.875980377197266,
           0,
           0,
           0,
           0,
           0,
           0,
           0,
           0,
           0,
           0,
           0,
           0,
           0,
           0,
           0,
           0
          ],
          [
           0,
           0,
           0,
           0,
           0,
           0,
           0,
           0,
           0,
           0,
           0,
           0,
           0,
           0,
           34.781044006347656,
           34.77300262451172,
           34.77910614013672,
           17.573808670043945,
           38.54771041870117,
           38.531036376953125,
           38.53285598754883,
           38.572303771972656,
           39.65840148925781,
           39.19921112060547,
           38.56999588012695,
           38.625770568847656,
           38.746883392333984,
           39.56800079345703,
           39.89911651611328,
           39.770233154296875,
           39.28136444091797,
           38.60260772705078,
           38.58454895019531,
           38.80411148071289,
           34.95725631713867,
           34.704124450683594,
           34.756591796875,
           36.83767318725586,
           35.581016540527344,
           0,
           0,
           0,
           0,
           0,
           0,
           0,
           0,
           0,
           0,
           0,
           0,
           0,
           0,
           0
          ],
          [
           0,
           0,
           0,
           0,
           0,
           0,
           0,
           0,
           0,
           0,
           0,
           0,
           0,
           0,
           35.545650482177734,
           34.763614654541016,
           34.78976058959961,
           34.754146575927734,
           38.34415817260742,
           38.53785705566406,
           38.51319122314453,
           38.53266143798828,
           39.28666687011719,
           38.59025955200195,
           40.025577545166016,
           39.03681945800781,
           39.178062438964844,
           38.61930465698242,
           38.56055450439453,
           39.90181350708008,
           39.923095703125,
           38.71282958984375,
           36.8008918762207,
           38.14025115966797,
           38.1596565246582,
           35.15660858154297,
           36.096126556396484,
           35.15788269042969,
           34.88344192504883,
           0,
           0,
           0,
           0,
           0,
           0,
           0,
           0,
           0,
           0,
           0,
           0,
           0,
           0,
           0
          ],
          [
           0,
           0,
           0,
           0,
           0,
           0,
           0,
           0,
           0,
           0,
           0,
           0,
           0,
           0,
           0,
           26.48101043701172,
           34.77924728393555,
           34.77387619018555,
           34.74779510498047,
           38.561153411865234,
           38.51682662963867,
           38.51620101928711,
           38.563289642333984,
           38.61913299560547,
           39.899559020996094,
           39.88999938964844,
           38.57044219970703,
           38.540889739990234,
           38.551353454589844,
           39.6316032409668,
           39.3177375793457,
           35.701175689697266,
           37.98103713989258,
           38.946834564208984,
           38.86195373535156,
           38.869728088378906,
           35.0323486328125,
           36.814308166503906,
           34.768733978271484,
           32.88907241821289,
           0,
           0,
           0,
           0,
           0,
           0,
           0,
           0,
           0,
           0,
           0,
           0,
           0,
           0
          ],
          [
           0,
           0,
           0,
           0,
           0,
           0,
           0,
           0,
           0,
           0,
           0,
           0,
           0,
           0,
           0,
           33.13612747192383,
           34.76248550415039,
           34.767215728759766,
           34.751461029052734,
           35.80522537231445,
           38.54021453857422,
           38.542293548583984,
           38.566650390625,
           39.21196746826172,
           39.54523849487305,
           39.895851135253906,
           38.54646301269531,
           38.55887985229492,
           38.53876495361328,
           34.82868957519531,
           35.75776672363281,
           38.41814422607422,
           38.87045669555664,
           38.86707305908203,
           38.8772087097168,
           38.86506271362305,
           34.826454162597656,
           34.84894943237305,
           34.77490997314453,
           31.295026779174805,
           33.21873092651367,
           0,
           0,
           0,
           0,
           0,
           0,
           0,
           0,
           0,
           0,
           0,
           0,
           0
          ],
          [
           0,
           0,
           0,
           0,
           0,
           0,
           0,
           0,
           0,
           0,
           0,
           0,
           0,
           0,
           0,
           0,
           35.3634147644043,
           34.754634857177734,
           34.74452209472656,
           34.7591438293457,
           38.55583190917969,
           38.535804748535156,
           38.5501708984375,
           38.545955657958984,
           39.88456726074219,
           39.900291442871094,
           38.65110778808594,
           40.39194869995117,
           36.1304817199707,
           37.731815338134766,
           38.87574005126953,
           38.87760925292969,
           38.88948059082031,
           38.87872314453125,
           38.88923645019531,
           38.905094146728516,
           38.898826599121094,
           34.76133728027344,
           34.767215728759766,
           34.80120849609375,
           34.21507263183594,
           0,
           0,
           0,
           0,
           0,
           0,
           0,
           0,
           0,
           0,
           0,
           0,
           0
          ],
          [
           0,
           0,
           0,
           0,
           0,
           0,
           0,
           0,
           0,
           0,
           0,
           0,
           0,
           0,
           0,
           0,
           0,
           34.772037506103516,
           34.74239730834961,
           34.76571273803711,
           34.88239669799805,
           38.572357177734375,
           38.567100524902344,
           38.58763885498047,
           38.77546310424805,
           36.67321014404297,
           38.08988952636719,
           38.117584228515625,
           38.879920959472656,
           38.87173843383789,
           38.86355972290039,
           38.86539077758789,
           38.88724136352539,
           38.90009689331055,
           38.92113494873047,
           38.90989303588867,
           38.90364074707031,
           36.64129638671875,
           34.75658416748047,
           34.79822540283203,
           34.809608459472656,
           32.42238998413086,
           0,
           0,
           0,
           0,
           0,
           0,
           0,
           0,
           0,
           0,
           0,
           0
          ],
          [
           0,
           0,
           0,
           0,
           0,
           0,
           0,
           0,
           0,
           0,
           0,
           0,
           0,
           0,
           0,
           0,
           0,
           35.394813537597656,
           34.748741149902344,
           34.7515869140625,
           34.729278564453125,
           38.69565200805664,
           38.60969543457031,
           38.99470520019531,
           37.52265167236328,
           37.70049285888672,
           38.94567108154297,
           38.836185455322266,
           38.85670471191406,
           38.84722137451172,
           38.84772872924805,
           38.84822463989258,
           38.864051818847656,
           38.88551712036133,
           38.87269592285156,
           38.87233352661133,
           38.859859466552734,
           38.871978759765625,
           34.74651336669922,
           34.767478942871094,
           34.79542541503906,
           34.91664505004883,
           0,
           0,
           0,
           0,
           0,
           0,
           0,
           0,
           0,
           0,
           0,
           0
          ],
          [
           0,
           0,
           0,
           0,
           0,
           0,
           0,
           0,
           0,
           0,
           0,
           0,
           0,
           0,
           0,
           0,
           0,
           0,
           34.766849517822266,
           34.763763427734375,
           34.74214172363281,
           38.33189010620117,
           38.68567657470703,
           38.2612190246582,
           39.00269317626953,
           38.84169006347656,
           38.84217834472656,
           38.86650085449219,
           38.848411560058594,
           38.84032440185547,
           38.865203857421875,
           38.87806701660156,
           38.87091064453125,
           38.89107894897461,
           38.881282806396484,
           38.89522171020508,
           38.89765167236328,
           38.899391174316406,
           37.206787109375,
           34.79607391357422,
           34.83070373535156,
           34.84201431274414,
           35.632713317871094,
           0,
           0,
           0,
           0,
           0,
           0,
           0,
           0,
           0,
           0,
           0
          ],
          [
           0,
           0,
           0,
           0,
           0,
           0,
           0,
           0,
           0,
           0,
           0,
           0,
           0,
           0,
           0,
           0,
           0,
           0,
           35.58526611328125,
           34.776371002197266,
           34.74393081665039,
           34.72322082519531,
           38.20487976074219,
           38.85359573364258,
           38.85234832763672,
           38.850990295410156,
           38.85125732421875,
           38.83988571166992,
           38.88129806518555,
           38.874942779541016,
           38.87775421142578,
           38.879608154296875,
           38.8790397644043,
           38.910423278808594,
           38.91178894042969,
           38.922874450683594,
           38.946998596191406,
           38.93934631347656,
           38.954803466796875,
           35.2040901184082,
           34.81862258911133,
           34.8355712890625,
           32.074405670166016,
           0,
           0,
           0,
           0,
           0,
           0,
           0,
           0,
           0,
           0,
           0
          ],
          [
           0,
           0,
           0,
           0,
           0,
           0,
           0,
           0,
           0,
           0,
           0,
           0,
           0,
           0,
           0,
           0,
           0,
           0,
           0,
           34.761573791503906,
           34.73529815673828,
           34.7047119140625,
           34.810890197753906,
           38.8471794128418,
           38.845863342285156,
           38.85439682006836,
           38.844566345214844,
           38.85225296020508,
           38.892333984375,
           38.87596893310547,
           38.896297454833984,
           38.88749694824219,
           38.898685455322266,
           38.88987731933594,
           38.94014358520508,
           38.94131851196289,
           38.944583892822266,
           38.93695068359375,
           38.952213287353516,
           38.960304260253906,
           34.79437255859375,
           34.81205368041992,
           34.82218551635742,
           35.194244384765625,
           0,
           0,
           0,
           0,
           0,
           0,
           0,
           0,
           0,
           0
          ],
          [
           0,
           0,
           0,
           0,
           0,
           0,
           0,
           0,
           0,
           0,
           0,
           0,
           0,
           0,
           0,
           0,
           0,
           0,
           0,
           0,
           34.74835205078125,
           34.71897888183594,
           34.743995666503906,
           38.930110931396484,
           38.85899353027344,
           38.847679138183594,
           38.856502532958984,
           38.84870910644531,
           38.847164154052734,
           38.85873031616211,
           38.86857223510742,
           38.86841583251953,
           38.904537200927734,
           38.905521392822266,
           38.92650604248047,
           38.91747283935547,
           38.93278503417969,
           38.90663528442383,
           38.8998908996582,
           38.90665817260742,
           34.779788970947266,
           34.797584533691406,
           34.8079948425293,
           34.810611724853516,
           33.84506607055664,
           0,
           0,
           0,
           0,
           0,
           0,
           0,
           0,
           0
          ],
          [
           0,
           0,
           0,
           0,
           0,
           0,
           0,
           0,
           0,
           0,
           0,
           0,
           0,
           0,
           0,
           0,
           0,
           0,
           0,
           0,
           32.93240737915039,
           34.743080139160156,
           34.7278938293457,
           34.71779251098633,
           38.87174987792969,
           38.86620330810547,
           38.856563568115234,
           38.85513687133789,
           38.853675842285156,
           38.87443542480469,
           38.898719787597656,
           38.91063690185547,
           38.91254806518555,
           38.92445373535156,
           38.92634582519531,
           38.91285705566406,
           38.92322540283203,
           38.9312744140625,
           38.924888610839844,
           38.91924285888672,
           38.94405746459961,
           34.79366683959961,
           34.824588775634766,
           34.812721252441406,
           35.45505142211914,
           0,
           0,
           0,
           0,
           0,
           0,
           0,
           0,
           0
          ],
          [
           0,
           0,
           0,
           0,
           0,
           0,
           0,
           0,
           0,
           0,
           0,
           0,
           0,
           0,
           0,
           0,
           0,
           0,
           0,
           0,
           0,
           34.775596618652344,
           34.780452728271484,
           34.736427307128906,
           37.88482666015625,
           38.89306640625,
           38.86322784423828,
           38.8614616394043,
           38.88026809692383,
           38.8868293762207,
           38.9007682800293,
           38.901241302490234,
           38.92169952392578,
           38.890567779541016,
           38.90959548950195,
           38.90862274169922,
           38.90766525268555,
           38.89958953857422,
           38.920982360839844,
           38.907711029052734,
           38.90864181518555,
           36.37706756591797,
           34.78712463378906,
           34.79979705810547,
           34.811588287353516,
           30.447715759277344,
           0,
           0,
           0,
           0,
           0,
           0,
           0,
           0
          ],
          [
           0,
           0,
           0,
           0,
           0,
           0,
           0,
           0,
           0,
           0,
           0,
           0,
           0,
           0,
           0,
           0,
           0,
           0,
           0,
           0,
           0,
           35.10654067993164,
           34.7818717956543,
           34.756591796875,
           34.764854431152344,
           38.89295959472656,
           38.88095474243164,
           38.940242767333984,
           38.88957595825195,
           38.87594223022461,
           38.918521881103516,
           38.890716552734375,
           38.88956069946289,
           38.898399353027344,
           38.89725112915039,
           38.886104583740234,
           38.902809143066406,
           38.90465545654297,
           38.907657623291016,
           38.910560607910156,
           38.9251708984375,
           38.92301940917969,
           34.9828987121582,
           34.7757682800293,
           34.805423736572266,
           33.28158950805664,
           0,
           0,
           0,
           0,
           0,
           0,
           0,
           0
          ],
          [
           0,
           0,
           0,
           0,
           0,
           0,
           0,
           0,
           0,
           0,
           0,
           0,
           0,
           0,
           0,
           0,
           0,
           0,
           0,
           0,
           0,
           0,
           34.82234191894531,
           34.786251068115234,
           34.75319290161133,
           38.81216812133789,
           38.923404693603516,
           39.19253921508789,
           38.911705017089844,
           38.89396667480469,
           38.90528869628906,
           38.904415130615234,
           38.90312957763672,
           38.9118537902832,
           38.91057205200195,
           38.89688491821289,
           38.90580368041992,
           38.909393310546875,
           38.9149169921875,
           38.93114471435547,
           38.93583679199219,
           34.903770446777344,
           34.853755950927734,
           34.82661056518555,
           34.77207565307617,
           34.75785446166992,
           35.54270553588867,
           0,
           0,
           0,
           0,
           0,
           0,
           0
          ],
          [
           0,
           0,
           0,
           0,
           0,
           0,
           0,
           0,
           0,
           0,
           0,
           0,
           0,
           0,
           0,
           0,
           0,
           0,
           0,
           0,
           0,
           0,
           33.536598205566406,
           34.83891677856445,
           34.80636978149414,
           34.784324645996094,
           39.045230865478516,
           38.93353271484375,
           39.110530853271484,
           38.924522399902344,
           38.91529083251953,
           38.93238067626953,
           38.921897888183594,
           38.92664337158203,
           38.92188262939453,
           38.91691207885742,
           38.924705505371094,
           38.93251037597656,
           38.94032287597656,
           37.4207878112793,
           34.95557403564453,
           36.662086486816406,
           36.76152801513672,
           35.67084503173828,
           34.749610900878906,
           34.74624252319336,
           34.790313720703125,
           0,
           0,
           0,
           0,
           0,
           0,
           0
          ],
          [
           0,
           0,
           0,
           0,
           0,
           0,
           0,
           0,
           0,
           0,
           0,
           0,
           0,
           0,
           0,
           0,
           0,
           0,
           0,
           0,
           0,
           0,
           0,
           35.18450164794922,
           34.83245086669922,
           34.81394958496094,
           38.07387924194336,
           38.95069885253906,
           39.35731506347656,
           39.09102249145508,
           38.921512603759766,
           38.93818283081055,
           38.94483184814453,
           38.93795394897461,
           38.95170974731445,
           38.94855880737305,
           38.945438385009766,
           38.143150329589844,
           35.079402923583984,
           34.938011169433594,
           36.812442779541016,
           36.68941879272461,
           36.708858489990234,
           36.786468505859375,
           34.81486511230469,
           34.751060485839844,
           35.14631652832031,
           33.474517822265625,
           0,
           0,
           0,
           0,
           0,
           0
          ],
          [
           0,
           0,
           0,
           0,
           0,
           0,
           0,
           0,
           0,
           0,
           0,
           0,
           0,
           0,
           0,
           0,
           0,
           0,
           0,
           0,
           0,
           0,
           0,
           0,
           34.85027313232422,
           34.817195892333984,
           34.80680847167969,
           37.98337173461914,
           38.95001983642578,
           39.66381072998047,
           38.94441604614258,
           38.935882568359375,
           38.94252014160156,
           38.936309814453125,
           38.94414138793945,
           38.98347091674805,
           35.02996826171875,
           35.16645812988281,
           34.712928771972656,
           36.81938934326172,
           36.77942657470703,
           36.6327018737793,
           35.73647689819336,
           34.9417839050293,
           34.989315032958984,
           35.26557159423828,
           28.530487060546875,
           28.499305725097656,
           28.49738121032715,
           0,
           0,
           0,
           0,
           0
          ],
          [
           0,
           0,
           0,
           0,
           0,
           0,
           0,
           0,
           0,
           0,
           0,
           0,
           0,
           0,
           0,
           0,
           0,
           0,
           0,
           0,
           0,
           0,
           0,
           0,
           35.07721710205078,
           34.7848014831543,
           34.79461669921875,
           35.012123107910156,
           38.9195442199707,
           38.932472229003906,
           39.300296783447266,
           38.92789077758789,
           38.896507263183594,
           38.92103576660156,
           38.549476623535156,
           34.85715866088867,
           35.10481262207031,
           34.68244171142578,
           34.6900634765625,
           34.73767852783203,
           36.52141189575195,
           35.09656524658203,
           34.868133544921875,
           35.503501892089844,
           28.68010139465332,
           28.486541748046875,
           28.490724563598633,
           28.469226837158203,
           28.459007263183594,
           0,
           0,
           0,
           0,
           0
          ],
          [
           0,
           0,
           0,
           0,
           0,
           0,
           0,
           0,
           0,
           0,
           0,
           0,
           0,
           0,
           0,
           0,
           0,
           0,
           0,
           0,
           0,
           0,
           0,
           0,
           0,
           34.83342361450195,
           34.823760986328125,
           34.8292121887207,
           37.371925354003906,
           38.951011657714844,
           38.96072769165039,
           38.967811584472656,
           38.658958435058594,
           36.14186477661133,
           35.146732330322266,
           34.82157516479492,
           34.74641418457031,
           36.42912292480469,
           34.89506530761719,
           34.76640701293945,
           32.75274658203125,
           35.54534912109375,
           28.99711799621582,
           28.50269317626953,
           28.49872398376465,
           28.4744930267334,
           28.47334098815918,
           28.461360931396484,
           28.438873291015625,
           28.4512939453125,
           0,
           0,
           0,
           0
          ],
          [
           0,
           0,
           0,
           0,
           0,
           0,
           0,
           0,
           0,
           0,
           0,
           0,
           0,
           0,
           0,
           0,
           0,
           0,
           0,
           0,
           0,
           0,
           0,
           0,
           0,
           34.472618103027344,
           34.802337646484375,
           34.781593322753906,
           34.79230499267578,
           38.94585418701172,
           37.882972717285156,
           35.45003890991211,
           34.93709945678711,
           34.941314697265625,
           35.047401428222656,
           36.703407287597656,
           36.56938171386719,
           36.397499084472656,
           34.392372131347656,
           34.91010665893555,
           32.523414611816406,
           30.23274040222168,
           28.478796005249023,
           28.470096588134766,
           28.454782485961914,
           28.440614700317383,
           28.43415641784668,
           28.452823638916016,
           28.440467834472656,
           28.652725219726562,
           0,
           0,
           0,
           0
          ],
          [
           0,
           0,
           0,
           0,
           0,
           0,
           0,
           0,
           0,
           0,
           0,
           0,
           0,
           0,
           0,
           0,
           0,
           0,
           0,
           0,
           0,
           0,
           0,
           0,
           0,
           0,
           34.8497200012207,
           34.841495513916016,
           34.827171325683594,
           37.076534271240234,
           34.80658721923828,
           35.26280212402344,
           35.23907470703125,
           36.62186050415039,
           36.75657653808594,
           35.271209716796875,
           34.90281677246094,
           34.792240142822266,
           35.53205871582031,
           28.528919219970703,
           28.487815856933594,
           28.504440307617188,
           28.440031051635742,
           28.455486297607422,
           28.42909812927246,
           28.4250431060791,
           28.448143005371094,
           28.43682098388672,
           28.60375213623047,
           29.17715072631836,
           0,
           0,
           0,
           0
          ],
          [
           0,
           0,
           0,
           0,
           0,
           0,
           0,
           0,
           0,
           0,
           0,
           0,
           0,
           0,
           0,
           0,
           0,
           0,
           0,
           0,
           0,
           0,
           0,
           0,
           0,
           0,
           33.216339111328125,
           34.84706497192383,
           34.82903289794922,
           34.812339782714844,
           34.79257583618164,
           34.768951416015625,
           36.42531967163086,
           34.788047790527344,
           34.78936767578125,
           34.920894622802734,
           35.33573913574219,
           32.41877365112305,
           28.509044647216797,
           28.46474838256836,
           28.460689544677734,
           28.446929931640625,
           28.583425521850586,
           28.427898406982422,
           28.43000030517578,
           28.415727615356445,
           28.588254928588867,
           28.425962448120117,
           21.532482147216797,
           16.12311553955078,
           0,
           0,
           0,
           0
          ],
          [
           0,
           0,
           0,
           0,
           0,
           0,
           0,
           0,
           0,
           0,
           0,
           0,
           0,
           0,
           0,
           0,
           0,
           0,
           0,
           0,
           0,
           0,
           0,
           0,
           0,
           0,
           0,
           34.72727966308594,
           34.799861907958984,
           34.79367446899414,
           34.774417877197266,
           34.751258850097656,
           34.758060455322266,
           34.82820510864258,
           35.12424087524414,
           29.719459533691406,
           28.504541397094727,
           28.49687957763672,
           28.48128318786621,
           28.43523597717285,
           28.432720184326172,
           28.430377960205078,
           28.418153762817383,
           28.41008186340332,
           28.55019187927246,
           28.425966262817383,
           23.467058181762695,
           16.092939376831055,
           16.078922271728516,
           16.098690032958984,
           16.118003845214844,
           0,
           0,
           0
          ],
          [
           0,
           0,
           0,
           0,
           0,
           0,
           0,
           0,
           0,
           0,
           0,
           0,
           0,
           0,
           0,
           0,
           0,
           0,
           0,
           0,
           0,
           0,
           0,
           0,
           0,
           0,
           0,
           30.80057144165039,
           34.807674407958984,
           34.781471252441406,
           34.762027740478516,
           34.751197814941406,
           35.01213455200195,
           34.542354583740234,
           28.502483367919922,
           28.487594604492188,
           28.472549438476562,
           28.47463607788086,
           28.447696685791016,
           28.413105010986328,
           28.425500869750977,
           28.41225814819336,
           28.389080047607422,
           28.39588737487793,
           24.394145965576172,
           16.080148696899414,
           16.06995391845703,
           16.059249877929688,
           16.064987182617188,
           16.058408737182617,
           16.07789421081543,
           9.750000953674316,
           0,
           0
          ],
          [
           0,
           0,
           0,
           0,
           0,
           0,
           0,
           0,
           0,
           0,
           0,
           0,
           0,
           0,
           0,
           0,
           0,
           0,
           0,
           0,
           0,
           0,
           0,
           0,
           0,
           0,
           0,
           0,
           35.018272399902344,
           34.768798828125,
           34.88289260864258,
           34.53938674926758,
           28.521984100341797,
           28.505382537841797,
           28.490577697753906,
           28.465137481689453,
           28.518604278564453,
           28.44899559020996,
           28.44491195678711,
           28.39899253845215,
           28.415752410888672,
           28.392803192138672,
           29.045467376708984,
           20.35212516784668,
           16.0717716217041,
           16.054826736450195,
           16.05373764038086,
           16.063270568847656,
           16.058408737182617,
           16.04680633544922,
           16.048118591308594,
           16.079998016357422,
           0,
           0
          ],
          [
           0,
           0,
           0,
           0,
           0,
           0,
           0,
           0,
           0,
           0,
           0,
           0,
           0,
           0,
           0,
           0,
           0,
           0,
           0,
           0,
           0,
           0,
           0,
           0,
           0,
           0,
           0,
           0,
           0,
           33.22624206542969,
           28.650915145874023,
           28.511642456054688,
           28.496700286865234,
           28.478330612182617,
           28.4616756439209,
           28.454687118530273,
           28.43743896484375,
           28.480993270874023,
           28.39828872680664,
           28.389989852905273,
           28.702905654907227,
           16.259519577026367,
           16.066364288330078,
           16.069355010986328,
           16.058460235595703,
           16.04940414428711,
           16.047229766845703,
           16.037551879882812,
           16.01278305053711,
           16.03097152709961,
           16.040000915527344,
           16.060001373291016,
           16.09000015258789,
           0
          ],
          [
           0,
           0,
           0,
           0,
           0,
           0,
           0,
           0,
           0,
           0,
           0,
           0,
           0,
           0,
           0,
           0,
           0,
           0,
           0,
           0,
           0,
           0,
           0,
           0,
           0,
           0,
           0,
           0,
           0,
           28.532089233398438,
           28.52021026611328,
           28.501102447509766,
           28.486007690429688,
           28.47732925415039,
           28.460342407226562,
           28.443056106567383,
           28.391590118408203,
           28.389379501342773,
           28.36674690246582,
           21.198436737060547,
           16.091352462768555,
           16.06783103942871,
           16.071868896484375,
           16.061676025390625,
           16.041080474853516,
           16.016071319580078,
           16.01858901977539,
           16.00895881652832,
           16.01369857788086,
           16.012226104736328,
           16.020000457763672,
           16.020000457763672,
           16.059999465942383,
           0
          ],
          [
           0,
           0,
           0,
           0,
           0,
           0,
           0,
           0,
           0,
           0,
           0,
           0,
           0,
           0,
           0,
           0,
           0,
           0,
           0,
           0,
           0,
           0,
           0,
           0,
           0,
           0,
           0,
           0,
           0,
           0,
           28.5147647857666,
           28.489341735839844,
           28.493507385253906,
           28.474050521850586,
           28.439834594726562,
           28.422924041748047,
           28.50737953186035,
           26.10469627380371,
           16.59169578552246,
           16.103050231933594,
           16.075712203979492,
           16.061620712280273,
           16.064960479736328,
           16.034337997436523,
           16.013425827026367,
           15.988100051879883,
           15.977531433105469,
           15.982940673828125,
           15.990415573120117,
           15.997640609741211,
           16.020000457763672,
           16.010000228881836,
           14.270000457763672,
           16.920000076293945
          ],
          [
           0,
           0,
           0,
           0,
           0,
           0,
           0,
           0,
           0,
           0,
           0,
           0,
           0,
           0,
           0,
           0,
           0,
           0,
           0,
           0,
           0,
           0,
           0,
           0,
           0,
           0,
           0,
           0,
           0,
           0,
           28.50602912902832,
           28.4797420501709,
           28.46027946472168,
           28.465084075927734,
           28.56813621520996,
           28.814828872680664,
           16.174978256225586,
           16.151962280273438,
           16.09880828857422,
           16.090057373046875,
           16.074356079101562,
           16.058320999145508,
           16.051172256469727,
           16.050325393676758,
           16.02923583984375,
           16.0001277923584,
           15.963529586791992,
           15.96757698059082,
           15.969747543334961,
           15.975472450256348,
           16,
           14.379999160766602,
           0,
           0
          ],
          [
           0,
           0,
           0,
           0,
           0,
           0,
           0,
           0,
           0,
           0,
           0,
           0,
           0,
           0,
           0,
           0,
           0,
           0,
           0,
           0,
           0,
           0,
           0,
           0,
           0,
           0,
           0,
           0,
           0,
           0,
           0,
           28.477886199951172,
           28.672683715820312,
           28.668315887451172,
           19.017494201660156,
           16.16733169555664,
           16.12782859802246,
           16.104862213134766,
           16.091663360595703,
           16.073131561279297,
           16.067495346069336,
           16.054794311523438,
           16.024274826049805,
           16.033294677734375,
           16.00240707397461,
           15.993751525878906,
           15.994179725646973,
           15.982568740844727,
           15.964405059814453,
           9.690000534057617,
           0,
           0,
           0,
           0
          ],
          [
           0,
           0,
           0,
           0,
           0,
           0,
           0,
           0,
           0,
           0,
           0,
           0,
           0,
           0,
           0,
           0,
           0,
           0,
           0,
           0,
           0,
           0,
           0,
           0,
           0,
           0,
           0,
           0,
           0,
           0,
           0,
           28.700664520263672,
           27.596895217895508,
           16.197586059570312,
           16.197040557861328,
           16.156721115112305,
           16.117177963256836,
           16.084001541137695,
           16.07071876525879,
           16.052452087402344,
           16.036985397338867,
           16.030961990356445,
           16.021217346191406,
           16.022624969482422,
           16.0213623046875,
           16.012901306152344,
           15.994028091430664,
           15.922720909118652,
           4.175959587097168,
           0,
           0,
           0,
           0,
           0
          ],
          [
           0,
           0,
           0,
           0,
           0,
           0,
           0,
           0,
           0,
           0,
           0,
           0,
           0,
           0,
           0,
           0,
           0,
           0,
           0,
           0,
           0,
           0,
           0,
           0,
           0,
           0,
           0,
           0,
           0,
           0,
           0,
           0,
           0,
           16.209741592407227,
           16.170860290527344,
           16.15041160583496,
           16.130205154418945,
           16.086475372314453,
           16.07273292541504,
           16.044933319091797,
           16.0296688079834,
           16.01363754272461,
           16.023883819580078,
           16.035436630249023,
           16.022842407226562,
           15.997491836547852,
           3.746969699859619,
           0,
           0,
           0,
           0,
           0,
           0,
           0
          ],
          [
           0,
           0,
           0,
           0,
           0,
           0,
           0,
           0,
           0,
           0,
           0,
           0,
           0,
           0,
           0,
           0,
           0,
           0,
           0,
           0,
           0,
           0,
           0,
           0,
           0,
           0,
           0,
           0,
           0,
           0,
           0,
           0,
           0,
           0,
           16.179492950439453,
           16.13871955871582,
           16.118328094482422,
           16.084640502929688,
           16.068614959716797,
           16.052114486694336,
           16.036483764648438,
           16.020000457763672,
           16.000381469726562,
           16.028343200683594,
           15.996116638183594,
           0,
           0,
           0,
           0,
           0,
           0,
           0,
           0,
           0
          ],
          [
           0,
           0,
           0,
           0,
           0,
           0,
           0,
           0,
           0,
           0,
           0,
           0,
           0,
           0,
           0,
           0,
           0,
           0,
           0,
           0,
           0,
           0,
           0,
           0,
           0,
           0,
           0,
           0,
           0,
           0,
           0,
           0,
           0,
           0,
           16.18000030517578,
           16.15999984741211,
           16.1200008392334,
           16.100000381469727,
           16.059999465942383,
           16.044815063476562,
           13.714069366455078,
           15.99859619140625,
           15.999826431274414,
           0,
           0,
           0,
           0,
           0,
           0,
           0,
           0,
           0,
           0,
           0
          ],
          [
           0,
           0,
           0,
           0,
           0,
           0,
           0,
           0,
           0,
           0,
           0,
           0,
           0,
           0,
           0,
           0,
           0,
           0,
           0,
           0,
           0,
           0,
           0,
           0,
           0,
           0,
           0,
           0,
           0,
           0,
           0,
           0,
           0,
           0,
           0,
           16.170000076293945,
           16.1299991607666,
           16.09000015258789,
           16.06999969482422,
           16.059999465942383,
           16.01999855041504,
           9.279999732971191,
           0,
           0,
           0,
           0,
           0,
           0,
           0,
           0,
           0,
           0,
           0,
           0
          ],
          [
           0,
           0,
           0,
           0,
           0,
           0,
           0,
           0,
           0,
           0,
           0,
           0,
           0,
           0,
           0,
           0,
           0,
           0,
           0,
           0,
           0,
           0,
           0,
           0,
           0,
           0,
           0,
           0,
           0,
           0,
           0,
           0,
           0,
           0,
           0,
           16.149999618530273,
           16.14000129699707,
           16.1200008392334,
           16.110000610351562,
           11.209999084472656,
           0,
           0,
           0,
           0,
           0,
           0,
           0,
           0,
           0,
           0,
           0,
           0,
           0,
           0
          ],
          [
           0,
           0,
           0,
           0,
           0,
           0,
           0,
           0,
           0,
           0,
           0,
           0,
           0,
           0,
           0,
           0,
           0,
           0,
           0,
           0,
           0,
           0,
           0,
           0,
           0,
           0,
           0,
           0,
           0,
           0,
           0,
           0,
           0,
           0,
           0,
           0,
           16.15999984741211,
           14.440000534057617,
           0,
           0,
           0,
           0,
           0,
           0,
           0,
           0,
           0,
           0,
           0,
           0,
           0,
           0,
           0,
           0
          ],
          [
           0,
           0,
           0,
           0,
           0,
           0,
           0,
           0,
           0,
           0,
           0,
           0,
           0,
           0,
           0,
           0,
           0,
           0,
           0,
           0,
           0,
           0,
           0,
           0,
           0,
           0,
           0,
           0,
           0,
           0,
           0,
           0,
           0,
           0,
           0,
           0,
           0,
           0,
           0,
           0,
           0,
           0,
           0,
           0,
           0,
           0,
           0,
           0,
           0,
           0,
           0,
           0,
           0,
           0
          ]
         ]
        }
       ],
       "layout": {
        "margin": {
         "b": 10,
         "l": 30,
         "r": 30,
         "t": 10
        },
        "scene": {
         "xaxis": {
          "title": {
           "text": "X AXIS TITLE"
          }
         },
         "yaxis": {
          "title": {
           "text": "Y AXIS TITLE"
          }
         },
         "zaxis": {
          "title": {
           "text": "Z AXIS TITLE"
          }
         }
        },
        "template": {
         "data": {
          "bar": [
           {
            "error_x": {
             "color": "#2a3f5f"
            },
            "error_y": {
             "color": "#2a3f5f"
            },
            "marker": {
             "line": {
              "color": "#E5ECF6",
              "width": 0.5
             },
             "pattern": {
              "fillmode": "overlay",
              "size": 10,
              "solidity": 0.2
             }
            },
            "type": "bar"
           }
          ],
          "barpolar": [
           {
            "marker": {
             "line": {
              "color": "#E5ECF6",
              "width": 0.5
             },
             "pattern": {
              "fillmode": "overlay",
              "size": 10,
              "solidity": 0.2
             }
            },
            "type": "barpolar"
           }
          ],
          "carpet": [
           {
            "aaxis": {
             "endlinecolor": "#2a3f5f",
             "gridcolor": "white",
             "linecolor": "white",
             "minorgridcolor": "white",
             "startlinecolor": "#2a3f5f"
            },
            "baxis": {
             "endlinecolor": "#2a3f5f",
             "gridcolor": "white",
             "linecolor": "white",
             "minorgridcolor": "white",
             "startlinecolor": "#2a3f5f"
            },
            "type": "carpet"
           }
          ],
          "choropleth": [
           {
            "colorbar": {
             "outlinewidth": 0,
             "ticks": ""
            },
            "type": "choropleth"
           }
          ],
          "contour": [
           {
            "colorbar": {
             "outlinewidth": 0,
             "ticks": ""
            },
            "colorscale": [
             [
              0,
              "#0d0887"
             ],
             [
              0.1111111111111111,
              "#46039f"
             ],
             [
              0.2222222222222222,
              "#7201a8"
             ],
             [
              0.3333333333333333,
              "#9c179e"
             ],
             [
              0.4444444444444444,
              "#bd3786"
             ],
             [
              0.5555555555555556,
              "#d8576b"
             ],
             [
              0.6666666666666666,
              "#ed7953"
             ],
             [
              0.7777777777777778,
              "#fb9f3a"
             ],
             [
              0.8888888888888888,
              "#fdca26"
             ],
             [
              1,
              "#f0f921"
             ]
            ],
            "type": "contour"
           }
          ],
          "contourcarpet": [
           {
            "colorbar": {
             "outlinewidth": 0,
             "ticks": ""
            },
            "type": "contourcarpet"
           }
          ],
          "heatmap": [
           {
            "colorbar": {
             "outlinewidth": 0,
             "ticks": ""
            },
            "colorscale": [
             [
              0,
              "#0d0887"
             ],
             [
              0.1111111111111111,
              "#46039f"
             ],
             [
              0.2222222222222222,
              "#7201a8"
             ],
             [
              0.3333333333333333,
              "#9c179e"
             ],
             [
              0.4444444444444444,
              "#bd3786"
             ],
             [
              0.5555555555555556,
              "#d8576b"
             ],
             [
              0.6666666666666666,
              "#ed7953"
             ],
             [
              0.7777777777777778,
              "#fb9f3a"
             ],
             [
              0.8888888888888888,
              "#fdca26"
             ],
             [
              1,
              "#f0f921"
             ]
            ],
            "type": "heatmap"
           }
          ],
          "heatmapgl": [
           {
            "colorbar": {
             "outlinewidth": 0,
             "ticks": ""
            },
            "colorscale": [
             [
              0,
              "#0d0887"
             ],
             [
              0.1111111111111111,
              "#46039f"
             ],
             [
              0.2222222222222222,
              "#7201a8"
             ],
             [
              0.3333333333333333,
              "#9c179e"
             ],
             [
              0.4444444444444444,
              "#bd3786"
             ],
             [
              0.5555555555555556,
              "#d8576b"
             ],
             [
              0.6666666666666666,
              "#ed7953"
             ],
             [
              0.7777777777777778,
              "#fb9f3a"
             ],
             [
              0.8888888888888888,
              "#fdca26"
             ],
             [
              1,
              "#f0f921"
             ]
            ],
            "type": "heatmapgl"
           }
          ],
          "histogram": [
           {
            "marker": {
             "pattern": {
              "fillmode": "overlay",
              "size": 10,
              "solidity": 0.2
             }
            },
            "type": "histogram"
           }
          ],
          "histogram2d": [
           {
            "colorbar": {
             "outlinewidth": 0,
             "ticks": ""
            },
            "colorscale": [
             [
              0,
              "#0d0887"
             ],
             [
              0.1111111111111111,
              "#46039f"
             ],
             [
              0.2222222222222222,
              "#7201a8"
             ],
             [
              0.3333333333333333,
              "#9c179e"
             ],
             [
              0.4444444444444444,
              "#bd3786"
             ],
             [
              0.5555555555555556,
              "#d8576b"
             ],
             [
              0.6666666666666666,
              "#ed7953"
             ],
             [
              0.7777777777777778,
              "#fb9f3a"
             ],
             [
              0.8888888888888888,
              "#fdca26"
             ],
             [
              1,
              "#f0f921"
             ]
            ],
            "type": "histogram2d"
           }
          ],
          "histogram2dcontour": [
           {
            "colorbar": {
             "outlinewidth": 0,
             "ticks": ""
            },
            "colorscale": [
             [
              0,
              "#0d0887"
             ],
             [
              0.1111111111111111,
              "#46039f"
             ],
             [
              0.2222222222222222,
              "#7201a8"
             ],
             [
              0.3333333333333333,
              "#9c179e"
             ],
             [
              0.4444444444444444,
              "#bd3786"
             ],
             [
              0.5555555555555556,
              "#d8576b"
             ],
             [
              0.6666666666666666,
              "#ed7953"
             ],
             [
              0.7777777777777778,
              "#fb9f3a"
             ],
             [
              0.8888888888888888,
              "#fdca26"
             ],
             [
              1,
              "#f0f921"
             ]
            ],
            "type": "histogram2dcontour"
           }
          ],
          "mesh3d": [
           {
            "colorbar": {
             "outlinewidth": 0,
             "ticks": ""
            },
            "type": "mesh3d"
           }
          ],
          "parcoords": [
           {
            "line": {
             "colorbar": {
              "outlinewidth": 0,
              "ticks": ""
             }
            },
            "type": "parcoords"
           }
          ],
          "pie": [
           {
            "automargin": true,
            "type": "pie"
           }
          ],
          "scatter": [
           {
            "marker": {
             "colorbar": {
              "outlinewidth": 0,
              "ticks": ""
             }
            },
            "type": "scatter"
           }
          ],
          "scatter3d": [
           {
            "line": {
             "colorbar": {
              "outlinewidth": 0,
              "ticks": ""
             }
            },
            "marker": {
             "colorbar": {
              "outlinewidth": 0,
              "ticks": ""
             }
            },
            "type": "scatter3d"
           }
          ],
          "scattercarpet": [
           {
            "marker": {
             "colorbar": {
              "outlinewidth": 0,
              "ticks": ""
             }
            },
            "type": "scattercarpet"
           }
          ],
          "scattergeo": [
           {
            "marker": {
             "colorbar": {
              "outlinewidth": 0,
              "ticks": ""
             }
            },
            "type": "scattergeo"
           }
          ],
          "scattergl": [
           {
            "marker": {
             "colorbar": {
              "outlinewidth": 0,
              "ticks": ""
             }
            },
            "type": "scattergl"
           }
          ],
          "scattermapbox": [
           {
            "marker": {
             "colorbar": {
              "outlinewidth": 0,
              "ticks": ""
             }
            },
            "type": "scattermapbox"
           }
          ],
          "scatterpolar": [
           {
            "marker": {
             "colorbar": {
              "outlinewidth": 0,
              "ticks": ""
             }
            },
            "type": "scatterpolar"
           }
          ],
          "scatterpolargl": [
           {
            "marker": {
             "colorbar": {
              "outlinewidth": 0,
              "ticks": ""
             }
            },
            "type": "scatterpolargl"
           }
          ],
          "scatterternary": [
           {
            "marker": {
             "colorbar": {
              "outlinewidth": 0,
              "ticks": ""
             }
            },
            "type": "scatterternary"
           }
          ],
          "surface": [
           {
            "colorbar": {
             "outlinewidth": 0,
             "ticks": ""
            },
            "colorscale": [
             [
              0,
              "#0d0887"
             ],
             [
              0.1111111111111111,
              "#46039f"
             ],
             [
              0.2222222222222222,
              "#7201a8"
             ],
             [
              0.3333333333333333,
              "#9c179e"
             ],
             [
              0.4444444444444444,
              "#bd3786"
             ],
             [
              0.5555555555555556,
              "#d8576b"
             ],
             [
              0.6666666666666666,
              "#ed7953"
             ],
             [
              0.7777777777777778,
              "#fb9f3a"
             ],
             [
              0.8888888888888888,
              "#fdca26"
             ],
             [
              1,
              "#f0f921"
             ]
            ],
            "type": "surface"
           }
          ],
          "table": [
           {
            "cells": {
             "fill": {
              "color": "#EBF0F8"
             },
             "line": {
              "color": "white"
             }
            },
            "header": {
             "fill": {
              "color": "#C8D4E3"
             },
             "line": {
              "color": "white"
             }
            },
            "type": "table"
           }
          ]
         },
         "layout": {
          "annotationdefaults": {
           "arrowcolor": "#2a3f5f",
           "arrowhead": 0,
           "arrowwidth": 1
          },
          "autotypenumbers": "strict",
          "coloraxis": {
           "colorbar": {
            "outlinewidth": 0,
            "ticks": ""
           }
          },
          "colorscale": {
           "diverging": [
            [
             0,
             "#8e0152"
            ],
            [
             0.1,
             "#c51b7d"
            ],
            [
             0.2,
             "#de77ae"
            ],
            [
             0.3,
             "#f1b6da"
            ],
            [
             0.4,
             "#fde0ef"
            ],
            [
             0.5,
             "#f7f7f7"
            ],
            [
             0.6,
             "#e6f5d0"
            ],
            [
             0.7,
             "#b8e186"
            ],
            [
             0.8,
             "#7fbc41"
            ],
            [
             0.9,
             "#4d9221"
            ],
            [
             1,
             "#276419"
            ]
           ],
           "sequential": [
            [
             0,
             "#0d0887"
            ],
            [
             0.1111111111111111,
             "#46039f"
            ],
            [
             0.2222222222222222,
             "#7201a8"
            ],
            [
             0.3333333333333333,
             "#9c179e"
            ],
            [
             0.4444444444444444,
             "#bd3786"
            ],
            [
             0.5555555555555556,
             "#d8576b"
            ],
            [
             0.6666666666666666,
             "#ed7953"
            ],
            [
             0.7777777777777778,
             "#fb9f3a"
            ],
            [
             0.8888888888888888,
             "#fdca26"
            ],
            [
             1,
             "#f0f921"
            ]
           ],
           "sequentialminus": [
            [
             0,
             "#0d0887"
            ],
            [
             0.1111111111111111,
             "#46039f"
            ],
            [
             0.2222222222222222,
             "#7201a8"
            ],
            [
             0.3333333333333333,
             "#9c179e"
            ],
            [
             0.4444444444444444,
             "#bd3786"
            ],
            [
             0.5555555555555556,
             "#d8576b"
            ],
            [
             0.6666666666666666,
             "#ed7953"
            ],
            [
             0.7777777777777778,
             "#fb9f3a"
            ],
            [
             0.8888888888888888,
             "#fdca26"
            ],
            [
             1,
             "#f0f921"
            ]
           ]
          },
          "colorway": [
           "#636efa",
           "#EF553B",
           "#00cc96",
           "#ab63fa",
           "#FFA15A",
           "#19d3f3",
           "#FF6692",
           "#B6E880",
           "#FF97FF",
           "#FECB52"
          ],
          "font": {
           "color": "#2a3f5f"
          },
          "geo": {
           "bgcolor": "white",
           "lakecolor": "white",
           "landcolor": "#E5ECF6",
           "showlakes": true,
           "showland": true,
           "subunitcolor": "white"
          },
          "hoverlabel": {
           "align": "left"
          },
          "hovermode": "closest",
          "mapbox": {
           "style": "light"
          },
          "paper_bgcolor": "white",
          "plot_bgcolor": "#E5ECF6",
          "polar": {
           "angularaxis": {
            "gridcolor": "white",
            "linecolor": "white",
            "ticks": ""
           },
           "bgcolor": "#E5ECF6",
           "radialaxis": {
            "gridcolor": "white",
            "linecolor": "white",
            "ticks": ""
           }
          },
          "scene": {
           "xaxis": {
            "backgroundcolor": "#E5ECF6",
            "gridcolor": "white",
            "gridwidth": 2,
            "linecolor": "white",
            "showbackground": true,
            "ticks": "",
            "zerolinecolor": "white"
           },
           "yaxis": {
            "backgroundcolor": "#E5ECF6",
            "gridcolor": "white",
            "gridwidth": 2,
            "linecolor": "white",
            "showbackground": true,
            "ticks": "",
            "zerolinecolor": "white"
           },
           "zaxis": {
            "backgroundcolor": "#E5ECF6",
            "gridcolor": "white",
            "gridwidth": 2,
            "linecolor": "white",
            "showbackground": true,
            "ticks": "",
            "zerolinecolor": "white"
           }
          },
          "shapedefaults": {
           "line": {
            "color": "#2a3f5f"
           }
          },
          "ternary": {
           "aaxis": {
            "gridcolor": "white",
            "linecolor": "white",
            "ticks": ""
           },
           "baxis": {
            "gridcolor": "white",
            "linecolor": "white",
            "ticks": ""
           },
           "bgcolor": "#E5ECF6",
           "caxis": {
            "gridcolor": "white",
            "linecolor": "white",
            "ticks": ""
           }
          },
          "title": {
           "x": 0.05
          },
          "xaxis": {
           "automargin": true,
           "gridcolor": "white",
           "linecolor": "white",
           "ticks": "",
           "title": {
            "standoff": 15
           },
           "zerolinecolor": "white",
           "zerolinewidth": 2
          },
          "yaxis": {
           "automargin": true,
           "gridcolor": "white",
           "linecolor": "white",
           "ticks": "",
           "title": {
            "standoff": 15
           },
           "zerolinecolor": "white",
           "zerolinewidth": 2
          }
         }
        },
        "width": 700
       }
      },
      "text/html": [
       "<div>                            <div id=\"e83f62ce-84e4-483d-bdae-1ee6d6c3937f\" class=\"plotly-graph-div\" style=\"height:525px; width:700px;\"></div>            <script type=\"text/javascript\">                require([\"plotly\"], function(Plotly) {                    window.PLOTLYENV=window.PLOTLYENV || {};                                    if (document.getElementById(\"e83f62ce-84e4-483d-bdae-1ee6d6c3937f\")) {                    Plotly.newPlot(                        \"e83f62ce-84e4-483d-bdae-1ee6d6c3937f\",                        [{\"colorscale\":[[0.0,\"rgb(75, 41, 145)\"],[0.16666666666666666,\"rgb(135, 44, 162)\"],[0.3333333333333333,\"rgb(192, 54, 157)\"],[0.5,\"rgb(234, 79, 136)\"],[0.6666666666666666,\"rgb(250, 120, 118)\"],[0.8333333333333334,\"rgb(246, 169, 122)\"],[1.0,\"rgb(237, 217, 163)\"]],\"opacity\":0.8,\"type\":\"surface\",\"z\":[[0.0,0.0,0.0,0.0,0.0,0.0,0.0,0.0,0.0,0.0,0.0,0.0,0.0,0.0,0.0,0.0,0.0,0.0,0.0,0.0,0.0,0.0,0.0,0.0,0.0,0.0,0.0,0.0,0.0,0.0,0.0,0.0,0.0,0.0,0.0,0.0,0.0,0.0,0.0,0.0,0.0,0.0,0.0,0.0,0.0,0.0,0.0,0.0,0.0,0.0,0.0,0.0,0.0,0.0],[0.0,0.0,0.0,0.0,0.0,0.0,0.0,0.0,0.0,0.0,0.0,0.0,0.0,0.0,0.0,0.0,0.0,0.0,29.439998626708984,28.720001220703125,0.0,0.0,0.0,0.0,0.0,0.0,0.0,0.0,0.0,0.0,0.0,0.0,0.0,0.0,0.0,0.0,0.0,0.0,0.0,0.0,0.0,0.0,0.0,0.0,0.0,0.0,0.0,0.0,0.0,0.0,0.0,0.0,0.0,0.0],[0.0,0.0,0.0,0.0,0.0,0.0,0.0,0.0,0.0,0.0,0.0,0.0,0.0,0.0,0.0,0.0,3.753361225128174,28.50938606262207,28.537254333496094,28.541149139404297,19.959999084472656,0.0,0.0,0.0,0.0,0.0,0.0,0.0,0.0,0.0,0.0,0.0,0.0,0.0,0.0,0.0,0.0,0.0,0.0,0.0,0.0,0.0,0.0,0.0,0.0,0.0,0.0,0.0,0.0,0.0,0.0,0.0,0.0,0.0],[0.0,0.0,0.0,0.0,0.0,0.0,0.0,0.0,0.0,0.0,0.0,0.0,0.0,0.0,21.855525970458984,35.500953674316406,35.48738098144531,28.51357078552246,28.517822265625,28.525352478027344,28.548526763916016,0.0,0.0,0.0,0.0,0.0,0.0,0.0,0.0,0.0,0.0,0.0,0.0,0.0,0.0,0.0,0.0,0.0,0.0,0.0,0.0,0.0,0.0,0.0,0.0,0.0,0.0,0.0,0.0,0.0,0.0,0.0,0.0,0.0],[0.0,0.0,0.0,0.0,0.0,0.0,0.0,0.0,0.0,0.0,0.0,0.0,0.0,34.825469970703125,34.734642028808594,34.730804443359375,34.726356506347656,30.404146194458008,28.559173583984375,28.56657600402832,28.569026947021484,28.575538635253906,0.0,0.0,0.0,0.0,0.0,0.0,0.0,0.0,0.0,0.0,0.0,0.0,0.0,0.0,0.0,0.0,0.0,0.0,0.0,0.0,0.0,0.0,0.0,0.0,0.0,0.0,0.0,0.0,0.0,0.0,0.0,0.0],[0.0,0.0,0.0,0.0,0.0,0.0,0.0,0.0,0.0,0.0,0.0,24.126283645629883,34.682071685791016,34.689815521240234,34.700218200683594,34.71787643432617,34.73490905761719,35.3635139465332,28.56885528564453,28.557598114013672,28.5714054107666,28.582557678222656,0.0,0.0,0.0,0.0,0.0,0.0,0.0,0.0,0.0,0.0,0.0,0.0,0.0,0.0,0.0,0.0,0.0,0.0,0.0,0.0,0.0,0.0,0.0,0.0,0.0,0.0,0.0,0.0,0.0,0.0,0.0,0.0],[0.0,0.0,0.0,0.0,0.0,0.0,0.0,0.0,0.0,33.125099182128906,35.10287857055664,34.72583770751953,33.130950927734375,34.69625473022461,34.71734619140625,34.72772979736328,34.72222137451172,34.74364471435547,35.18492126464844,28.553503036499023,29.31728744506836,30.57657241821289,35.53659439086914,0.0,0.0,0.0,0.0,0.0,0.0,0.0,0.0,0.0,0.0,0.0,0.0,0.0,0.0,0.0,0.0,0.0,0.0,0.0,0.0,0.0,0.0,0.0,0.0,0.0,0.0,0.0,0.0,0.0,0.0,0.0],[0.0,0.0,0.0,0.0,0.0,0.0,0.0,27.840360641479492,35.541358947753906,34.72083282470703,34.73896408081055,34.745296478271484,34.73908996582031,34.725242614746094,34.73687744140625,34.7484130859375,34.743953704833984,34.75605010986328,34.78814697265625,35.52780532836914,31.212013244628906,34.78175735473633,34.802650451660156,0.0,0.0,0.0,0.0,0.0,0.0,0.0,0.0,0.0,0.0,0.0,0.0,0.0,0.0,0.0,0.0,0.0,0.0,0.0,0.0,0.0,0.0,0.0,0.0,0.0,0.0,0.0,0.0,0.0,0.0,0.0],[0.0,0.0,0.0,0.0,0.0,0.0,35.495452880859375,34.64653396606445,34.67634201049805,34.71544647216797,34.722373962402344,34.73760986328125,34.74093246459961,34.746891021728516,34.728389739990234,34.75899887084961,34.73522186279297,34.74687576293945,34.74872589111328,34.76807403564453,34.761436462402344,34.751060485839844,34.80712127685547,33.520240783691406,0.0,0.0,0.0,0.0,0.0,0.0,0.0,0.0,0.0,0.0,0.0,0.0,0.0,0.0,0.0,0.0,0.0,0.0,0.0,0.0,0.0,0.0,0.0,0.0,0.0,0.0,0.0,0.0,0.0,0.0],[0.0,0.0,0.0,0.0,34.33145523071289,34.72599792480469,34.69816589355469,34.668495178222656,34.701576232910156,34.71699523925781,34.74435043334961,34.75962448120117,34.72153091430664,34.770084381103516,34.761924743652344,34.78297805786133,34.75957489013672,34.77143859863281,34.773704528808594,34.78032684326172,34.789772033691406,34.80084991455078,34.80304718017578,34.816368103027344,31.20693588256836,0.0,0.0,0.0,0.0,0.0,0.0,0.0,0.0,0.0,0.0,0.0,0.0,0.0,0.0,0.0,0.0,0.0,0.0,0.0,0.0,0.0,0.0,0.0,0.0,0.0,0.0,0.0,0.0,0.0],[0.0,0.0,28.48999786376953,28.469642639160156,35.11290740966797,34.69694900512695,34.698795318603516,34.68901824951172,34.68708801269531,34.716453552246094,34.742027282714844,34.75550079345703,34.745643615722656,34.75627517700195,34.752811431884766,34.73323440551758,34.73069381713867,34.72824478149414,34.73885726928711,34.76556396484375,34.78301239013672,34.76262283325195,34.7527961730957,34.78634262084961,35.35910415649414,0.0,0.0,0.0,0.0,0.0,0.0,0.0,0.0,0.0,0.0,0.0,0.0,0.0,0.0,0.0,0.0,0.0,0.0,0.0,0.0,0.0,0.0,0.0,0.0,0.0,0.0,0.0,0.0,0.0],[23.389999389648438,29.350000381469727,28.48999786376953,28.489795684814453,30.72271728515625,31.088275909423828,34.709693908691406,34.70969772338867,34.707237243652344,34.735435485839844,34.76469421386719,34.77981185913086,34.77192306518555,34.75394821166992,34.74195861816406,34.753990173339844,34.74276351928711,34.751861572265625,34.78306579589844,34.80347442626953,36.56983184814453,35.48419952392578,34.775997161865234,34.805912017822266,34.81895446777344,32.44374084472656,0.0,0.0,0.0,0.0,0.0,0.0,0.0,0.0,0.0,0.0,0.0,0.0,0.0,0.0,0.0,0.0,0.0,0.0,0.0,0.0,0.0,0.0,0.0,0.0,0.0,0.0,0.0,0.0],[0.0,19.940000534057617,28.509998321533203,28.4864444732666,28.488628387451172,35.193084716796875,34.714176177978516,34.71709442138672,34.72431182861328,34.73262023925781,34.756065368652344,34.77930450439453,34.752559661865234,34.754913330078125,34.737483978271484,34.74805450439453,34.749267578125,34.77454376220703,34.78746032714844,37.82127380371094,38.60781478881836,38.60759353637695,34.77051544189453,34.800987243652344,34.77804946899414,34.830562591552734,0.0,0.0,0.0,0.0,0.0,0.0,0.0,0.0,0.0,0.0,0.0,0.0,0.0,0.0,0.0,0.0,0.0,0.0,0.0,0.0,0.0,0.0,0.0,0.0,0.0,0.0,0.0,0.0],[0.0,0.0,28.489999771118164,28.491647720336914,28.484149932861328,28.63974380493164,33.89101791381836,34.73094177246094,34.747798919677734,34.746150970458984,34.7324333190918,34.765342712402344,34.738075256347656,34.7198600769043,34.70420837402344,34.70587158203125,34.734134674072266,38.72665786743164,38.579261779785156,38.587791442871094,38.584129333496094,38.586204528808594,38.80504608154297,34.75276184082031,34.755126953125,34.787208557128906,35.570186614990234,0.0,0.0,0.0,0.0,0.0,0.0,0.0,0.0,0.0,0.0,0.0,0.0,0.0,0.0,0.0,0.0,0.0,0.0,0.0,0.0,0.0,0.0,0.0,0.0,0.0,0.0,0.0],[0.0,0.0,28.510000228881836,28.512435913085938,28.50387191772461,30.15364646911621,35.484893798828125,34.73480224609375,34.73119354248047,34.72958755493164,34.742156982421875,34.74616622924805,34.76170349121094,34.723968505859375,34.69636535644531,35.23616409301758,38.59748840332031,38.58555221557617,38.588741302490234,38.57160568237305,38.547935485839844,38.547760009765625,38.597930908203125,35.14586639404297,34.74835968017578,34.7813720703125,34.80487060546875,0.0,0.0,0.0,0.0,0.0,0.0,0.0,0.0,0.0,0.0,0.0,0.0,0.0,0.0,0.0,0.0,0.0,0.0,0.0,0.0,0.0,0.0,0.0,0.0,0.0,0.0,0.0],[0.0,0.0,0.0,28.534839630126953,30.825578689575195,35.45475387573242,34.735652923583984,34.74542236328125,34.741302490234375,34.72981262207031,34.735496520996094,34.739280700683594,34.73094940185547,36.23212814331055,38.573394775390625,38.57651901245117,38.55962371826172,38.5495719909668,38.52632522583008,38.525455474853516,38.520538330078125,38.519798278808594,38.549381256103516,38.88615798950195,34.69913864135742,34.751564025878906,34.802490234375,35.446224212646484,0.0,0.0,0.0,0.0,0.0,0.0,0.0,0.0,0.0,0.0,0.0,0.0,0.0,0.0,0.0,0.0,0.0,0.0,0.0,0.0,0.0,0.0,0.0,0.0,0.0,0.0],[0.0,0.0,0.0,15.079248428344727,34.787906646728516,34.74555969238281,34.725921630859375,34.705596923828125,34.754791259765625,34.763126373291016,34.76475143432617,34.75822067260742,38.302146911621094,38.570411682128906,38.574790954589844,38.57861328125,38.55951690673828,38.542762756347656,38.54481887817383,38.544795989990234,38.55033493041992,38.55044937133789,38.56088638305664,38.61867904663086,34.778419494628906,34.782230377197266,34.81597137451172,34.839271545410156,31.95587158203125,0.0,0.0,0.0,0.0,0.0,0.0,0.0,0.0,0.0,0.0,0.0,0.0,0.0,0.0,0.0,0.0,0.0,0.0,0.0,0.0,0.0,0.0,0.0,0.0,0.0],[0.0,0.0,0.0,0.0,34.937774658203125,34.72697448730469,34.73377227783203,34.71345901489258,26.99811363220215,34.75684356689453,38.97813034057617,38.55791473388672,38.54278564453125,38.555152893066406,38.525123596191406,38.529518127441406,38.53066635131836,38.521820068359375,38.512977600097656,38.527957916259766,38.52256393432617,38.52150344848633,38.53065490722656,38.611690521240234,38.61543273925781,37.87750244140625,34.74142074584961,34.766971588134766,35.215614318847656,0.0,0.0,0.0,0.0,0.0,0.0,0.0,0.0,0.0,0.0,0.0,0.0,0.0,0.0,0.0,0.0,0.0,0.0,0.0,0.0,0.0,0.0,0.0,0.0,0.0],[0.0,0.0,0.0,0.0,0.0,34.77145767211914,34.731178283691406,34.70066452026367,35.19495391845703,38.56975555419922,38.61067581176758,38.543941497802734,38.52933120727539,38.529850006103516,38.52034378051758,38.52085494995117,38.53137969970703,38.52191162109375,38.5224494934082,38.532981872558594,39.11740493774414,38.74833679199219,38.57844543457031,38.55461120605469,38.568359375,38.552032470703125,34.7060546875,34.75996398925781,34.778892517089844,33.718467712402344,0.0,0.0,0.0,0.0,0.0,0.0,0.0,0.0,0.0,0.0,0.0,0.0,0.0,0.0,0.0,0.0,0.0,0.0,0.0,0.0,0.0,0.0,0.0,0.0],[0.0,0.0,0.0,0.0,0.0,34.485694885253906,34.755741119384766,34.72393035888672,34.707603454589844,38.58665084838867,38.56731414794922,38.720458984375,38.52601623535156,38.514854431152344,38.50692367553711,38.51761245727539,38.51830291748047,38.52899169921875,38.53968048095703,38.550357818603516,38.57188034057617,39.468162536621094,38.90818405151367,38.537330627441406,38.56117630004883,38.613426208496094,34.737266540527344,34.76015853881836,34.73923110961914,34.798095703125,0.0,0.0,0.0,0.0,0.0,0.0,0.0,0.0,0.0,0.0,0.0,0.0,0.0,0.0,0.0,0.0,0.0,0.0,0.0,0.0,0.0,0.0,0.0,0.0],[0.0,0.0,0.0,0.0,0.0,0.0,34.75069808959961,34.71043395996094,34.70412826538086,34.8433723449707,38.57768630981445,38.530418395996094,38.53215026855469,38.53081512451172,38.50950622558594,38.52959060668945,38.54966735839844,39.669734954833984,39.677284240722656,39.66862487792969,39.479942321777344,39.02519989013672,38.54559326171875,38.55243682861328,38.53605651855469,38.567626953125,38.89111328125,34.73330307006836,34.73263168334961,34.76983642578125,33.81502151489258,0.0,0.0,0.0,0.0,0.0,0.0,0.0,0.0,0.0,0.0,0.0,0.0,0.0,0.0,0.0,0.0,0.0,0.0,0.0,0.0,0.0,0.0,0.0],[0.0,0.0,0.0,0.0,0.0,0.0,18.731143951416016,34.731903076171875,34.707820892333984,34.687217712402344,31.29739761352539,38.55023193359375,38.522216796875,38.521148681640625,38.53312301635742,38.6806640625,39.00117111206055,39.65714645385742,38.52898406982422,39.9456901550293,38.527225494384766,38.5362663269043,38.546661376953125,38.54707336425781,38.538909912109375,38.5577392578125,38.57133865356445,34.96357345581055,34.72296142578125,34.7706184387207,33.10598373413086,0.0,0.0,0.0,0.0,0.0,0.0,0.0,0.0,0.0,0.0,0.0,0.0,0.0,0.0,0.0,0.0,0.0,0.0,0.0,0.0,0.0,0.0,0.0],[0.0,0.0,0.0,0.0,0.0,0.0,0.0,34.76560974121094,34.72835159301758,34.687381744384766,12.927167892456055,38.569854736328125,38.541770935058594,38.56052017211914,38.532325744628906,38.643314361572266,39.47311019897461,39.47024917602539,38.841285705566406,40.04267501831055,38.582557678222656,38.53243637084961,38.55232620239258,38.57221984863281,38.53886413574219,38.536949157714844,38.550743103027344,38.192832946777344,34.72249984741211,34.74043273925781,34.74540710449219,35.541969299316406,0.0,0.0,0.0,0.0,0.0,0.0,0.0,0.0,0.0,0.0,0.0,0.0,0.0,0.0,0.0,0.0,0.0,0.0,0.0,0.0,0.0,0.0],[0.0,0.0,0.0,0.0,0.0,0.0,0.0,24.849367141723633,34.74135208129883,34.72096633911133,34.681278228759766,37.15321350097656,38.555137634277344,38.543941497802734,38.545692443847656,38.86284637451172,39.36526107788086,39.0191650390625,38.579524993896484,38.7598876953125,38.96025466918945,38.57062530517578,38.56100082397461,38.58137512207031,38.571746826171875,38.57001495361328,38.55392837524414,38.53704071044922,35.636661529541016,34.83374786376953,36.72892379760742,36.40583801269531,19.6977481842041,0.0,0.0,0.0,0.0,0.0,0.0,0.0,0.0,0.0,0.0,0.0,0.0,0.0,0.0,0.0,0.0,0.0,0.0,0.0,0.0,0.0],[0.0,0.0,0.0,0.0,0.0,0.0,0.0,0.0,33.59121322631836,34.72102737426758,34.7010498046875,34.652862548828125,38.57086181640625,38.54899215698242,38.551937103271484,38.535560607910156,38.63457107543945,38.5455322265625,38.555572509765625,38.6256103515625,38.57565689086914,38.575706481933594,38.56575012207031,38.585792541503906,39.165828704833984,38.56702423095703,38.558387756347656,38.54034423828125,38.560279846191406,34.94676208496094,35.012813568115234,35.749298095703125,30.411272048950195,0.0,0.0,0.0,0.0,0.0,0.0,0.0,0.0,0.0,0.0,0.0,0.0,0.0,0.0,0.0,0.0,0.0,0.0,0.0,0.0,0.0],[0.0,0.0,0.0,0.0,0.0,0.0,0.0,0.0,0.0,34.731056213378906,34.700904846191406,34.69594955444336,34.99476623535156,38.5676383972168,38.55945587158203,38.52822494506836,38.684749603271484,38.567264556884766,38.557464599609375,38.57766342163086,38.557865142822266,38.56806564331055,38.598262786865234,38.599998474121094,39.66999816894531,38.589996337890625,38.58145523071289,38.56355667114258,38.54483413696289,37.89138412475586,35.43641662597656,36.3930549621582,34.77468490600586,22.956283569335938,0.0,0.0,0.0,0.0,0.0,0.0,0.0,0.0,0.0,0.0,0.0,0.0,0.0,0.0,0.0,0.0,0.0,0.0,0.0,0.0],[0.0,0.0,0.0,0.0,0.0,0.0,0.0,0.0,0.0,35.544559478759766,34.7246208190918,34.69663619995117,34.6884651184082,38.5972900390625,38.54907989501953,38.53790283203125,38.55440139770508,38.59005355834961,38.58210372924805,38.57278060913086,38.583457946777344,38.596195220947266,38.60663986206055,38.62708282470703,39.477516174316406,39.667945861816406,38.600257873535156,38.603759765625,38.56362533569336,38.60052490234375,34.875762939453125,35.418861389160156,36.79927444458008,30.033958435058594,0.0,0.0,0.0,0.0,0.0,0.0,0.0,0.0,0.0,0.0,0.0,0.0,0.0,0.0,0.0,0.0,0.0,0.0,0.0,0.0],[0.0,0.0,0.0,0.0,0.0,0.0,0.0,0.0,0.0,0.0,34.73894119262695,34.73046112060547,34.702171325683594,34.7208366394043,38.57257843017578,38.551212310791016,38.55778503417969,38.573204040527344,38.581871032714844,38.58460235595703,38.60459899902344,38.614593505859375,38.604591369628906,38.62458801269531,38.62694549560547,38.626739501953125,38.61652374267578,38.6077995300293,38.577938079833984,38.571693420410156,38.306488037109375,34.872798919677734,34.89408493041992,36.73975372314453,35.53340530395508,0.0,0.0,0.0,0.0,0.0,0.0,0.0,0.0,0.0,0.0,0.0,0.0,0.0,0.0,0.0,0.0,0.0,0.0,0.0],[0.0,0.0,0.0,0.0,0.0,0.0,0.0,0.0,0.0,0.0,33.25254440307617,34.734249114990234,34.741981506347656,34.7107048034668,38.782386779785156,38.55107879638672,38.5475959777832,38.54638671875,39.48044204711914,39.67784881591797,38.608154296875,38.628456115722656,38.64158248901367,38.66167449951172,38.65176010131836,39.16183853149414,39.55191421508789,38.61027908325195,38.57155227661133,38.567626953125,38.572608947753906,6.409118175506592,35.46943664550781,16.195396423339844,34.96918487548828,0.0,0.0,0.0,0.0,0.0,0.0,0.0,0.0,0.0,0.0,0.0,0.0,0.0,0.0,0.0,0.0,0.0,0.0,0.0],[0.0,0.0,0.0,0.0,0.0,0.0,0.0,0.0,0.0,0.0,0.0,35.14375305175781,34.74537658691406,34.744102478027344,27.77583122253418,38.568321228027344,38.54462814331055,38.54955291748047,38.583709716796875,39.67670440673828,39.290809631347656,38.66132736206055,38.70183563232422,38.932342529296875,38.69284439086914,38.63260269165039,38.63258743286133,39.51253890991211,38.592437744140625,38.59890365600586,38.56278991699219,38.67982864379883,20.98116111755371,35.02484893798828,36.78392791748047,35.5597038269043,0.0,0.0,0.0,0.0,0.0,0.0,0.0,0.0,0.0,0.0,0.0,0.0,0.0,0.0,0.0,0.0,0.0,0.0],[0.0,0.0,0.0,0.0,0.0,0.0,0.0,0.0,0.0,0.0,0.0,35.24085998535156,34.76341247558594,34.725337982177734,23.00665855407715,38.615150451660156,35.53143310546875,38.546539306640625,38.584373474121094,38.92764663696289,38.658775329589844,38.63959884643555,38.680416107177734,39.011497497558594,38.7518424987793,38.652156829833984,38.602447509765625,39.71271514892578,38.781009674072266,38.60969924926758,38.68540954589844,38.650516510009766,36.391212463378906,35.0267219543457,35.04594802856445,34.77223205566406,32.73381042480469,0.0,0.0,0.0,0.0,0.0,0.0,0.0,0.0,0.0,0.0,0.0,0.0,0.0,0.0,0.0,0.0,0.0],[0.0,0.0,0.0,0.0,0.0,0.0,0.0,0.0,0.0,0.0,0.0,0.0,31.826541900634766,35.48525619506836,34.75688171386719,28.16522979736328,38.57561492919922,38.55017852783203,38.59425354003906,38.627723693847656,38.65178680419922,39.00285720825195,38.632225036621094,38.65159225463867,38.62095260620117,38.590309143066406,38.57725524902344,39.69681167602539,39.69639205932617,38.759098052978516,38.56211853027344,38.56916046142578,38.62054443359375,34.83658981323242,36.64641571044922,36.73371124267578,34.28468322753906,0.0,0.0,0.0,0.0,0.0,0.0,0.0,0.0,0.0,0.0,0.0,0.0,0.0,0.0,0.0,0.0,0.0],[0.0,0.0,0.0,0.0,0.0,0.0,0.0,0.0,0.0,0.0,0.0,0.0,0.0,34.76529312133789,34.74702453613281,25.16565704345703,36.601993560791016,38.54704666137695,38.551246643066406,38.59700393676758,38.82265853881836,38.61870574951172,38.59945297241211,39.02018737792969,38.5980339050293,38.56892395019531,38.569820404052734,38.5907096862793,39.91826629638672,38.96940994262695,38.585391998291016,38.572723388671875,38.584129333496094,37.23031234741211,35.0703125,35.13541793823242,36.878536224365234,35.34761047363281,0.0,0.0,0.0,0.0,0.0,0.0,0.0,0.0,0.0,0.0,0.0,0.0,0.0,0.0,0.0,0.0],[0.0,0.0,0.0,0.0,0.0,0.0,0.0,0.0,0.0,0.0,0.0,0.0,0.0,35.539703369140625,34.7609977722168,34.75936508178711,23.155916213989258,38.5836296081543,38.537628173828125,38.57111358642578,38.56632995605469,39.63561248779297,39.68498992919922,38.60627365112305,38.59756088256836,38.57883071899414,38.600074768066406,39.177337646484375,39.91883087158203,39.42029571533203,38.59515380859375,38.57280731201172,38.594364166259766,38.61080551147461,35.098575592041016,35.6196403503418,34.7860107421875,34.875980377197266,0.0,0.0,0.0,0.0,0.0,0.0,0.0,0.0,0.0,0.0,0.0,0.0,0.0,0.0,0.0,0.0],[0.0,0.0,0.0,0.0,0.0,0.0,0.0,0.0,0.0,0.0,0.0,0.0,0.0,0.0,34.781044006347656,34.77300262451172,34.77910614013672,17.573808670043945,38.54771041870117,38.531036376953125,38.53285598754883,38.572303771972656,39.65840148925781,39.19921112060547,38.56999588012695,38.625770568847656,38.746883392333984,39.56800079345703,39.89911651611328,39.770233154296875,39.28136444091797,38.60260772705078,38.58454895019531,38.80411148071289,34.95725631713867,34.704124450683594,34.756591796875,36.83767318725586,35.581016540527344,0.0,0.0,0.0,0.0,0.0,0.0,0.0,0.0,0.0,0.0,0.0,0.0,0.0,0.0,0.0],[0.0,0.0,0.0,0.0,0.0,0.0,0.0,0.0,0.0,0.0,0.0,0.0,0.0,0.0,35.545650482177734,34.763614654541016,34.78976058959961,34.754146575927734,38.34415817260742,38.53785705566406,38.51319122314453,38.53266143798828,39.28666687011719,38.59025955200195,40.025577545166016,39.03681945800781,39.178062438964844,38.61930465698242,38.56055450439453,39.90181350708008,39.923095703125,38.71282958984375,36.8008918762207,38.14025115966797,38.1596565246582,35.15660858154297,36.096126556396484,35.15788269042969,34.88344192504883,0.0,0.0,0.0,0.0,0.0,0.0,0.0,0.0,0.0,0.0,0.0,0.0,0.0,0.0,0.0],[0.0,0.0,0.0,0.0,0.0,0.0,0.0,0.0,0.0,0.0,0.0,0.0,0.0,0.0,0.0,26.48101043701172,34.77924728393555,34.77387619018555,34.74779510498047,38.561153411865234,38.51682662963867,38.51620101928711,38.563289642333984,38.61913299560547,39.899559020996094,39.88999938964844,38.57044219970703,38.540889739990234,38.551353454589844,39.6316032409668,39.3177375793457,35.701175689697266,37.98103713989258,38.946834564208984,38.86195373535156,38.869728088378906,35.0323486328125,36.814308166503906,34.768733978271484,32.88907241821289,0.0,0.0,0.0,0.0,0.0,0.0,0.0,0.0,0.0,0.0,0.0,0.0,0.0,0.0],[0.0,0.0,0.0,0.0,0.0,0.0,0.0,0.0,0.0,0.0,0.0,0.0,0.0,0.0,0.0,33.13612747192383,34.76248550415039,34.767215728759766,34.751461029052734,35.80522537231445,38.54021453857422,38.542293548583984,38.566650390625,39.21196746826172,39.54523849487305,39.895851135253906,38.54646301269531,38.55887985229492,38.53876495361328,34.82868957519531,35.75776672363281,38.41814422607422,38.87045669555664,38.86707305908203,38.8772087097168,38.86506271362305,34.826454162597656,34.84894943237305,34.77490997314453,31.295026779174805,33.21873092651367,0.0,0.0,0.0,0.0,0.0,0.0,0.0,0.0,0.0,0.0,0.0,0.0,0.0],[0.0,0.0,0.0,0.0,0.0,0.0,0.0,0.0,0.0,0.0,0.0,0.0,0.0,0.0,0.0,0.0,35.3634147644043,34.754634857177734,34.74452209472656,34.7591438293457,38.55583190917969,38.535804748535156,38.5501708984375,38.545955657958984,39.88456726074219,39.900291442871094,38.65110778808594,40.39194869995117,36.1304817199707,37.731815338134766,38.87574005126953,38.87760925292969,38.88948059082031,38.87872314453125,38.88923645019531,38.905094146728516,38.898826599121094,34.76133728027344,34.767215728759766,34.80120849609375,34.21507263183594,0.0,0.0,0.0,0.0,0.0,0.0,0.0,0.0,0.0,0.0,0.0,0.0,0.0],[0.0,0.0,0.0,0.0,0.0,0.0,0.0,0.0,0.0,0.0,0.0,0.0,0.0,0.0,0.0,0.0,0.0,34.772037506103516,34.74239730834961,34.76571273803711,34.88239669799805,38.572357177734375,38.567100524902344,38.58763885498047,38.77546310424805,36.67321014404297,38.08988952636719,38.117584228515625,38.879920959472656,38.87173843383789,38.86355972290039,38.86539077758789,38.88724136352539,38.90009689331055,38.92113494873047,38.90989303588867,38.90364074707031,36.64129638671875,34.75658416748047,34.79822540283203,34.809608459472656,32.42238998413086,0.0,0.0,0.0,0.0,0.0,0.0,0.0,0.0,0.0,0.0,0.0,0.0],[0.0,0.0,0.0,0.0,0.0,0.0,0.0,0.0,0.0,0.0,0.0,0.0,0.0,0.0,0.0,0.0,0.0,35.394813537597656,34.748741149902344,34.7515869140625,34.729278564453125,38.69565200805664,38.60969543457031,38.99470520019531,37.52265167236328,37.70049285888672,38.94567108154297,38.836185455322266,38.85670471191406,38.84722137451172,38.84772872924805,38.84822463989258,38.864051818847656,38.88551712036133,38.87269592285156,38.87233352661133,38.859859466552734,38.871978759765625,34.74651336669922,34.767478942871094,34.79542541503906,34.91664505004883,0.0,0.0,0.0,0.0,0.0,0.0,0.0,0.0,0.0,0.0,0.0,0.0],[0.0,0.0,0.0,0.0,0.0,0.0,0.0,0.0,0.0,0.0,0.0,0.0,0.0,0.0,0.0,0.0,0.0,0.0,34.766849517822266,34.763763427734375,34.74214172363281,38.33189010620117,38.68567657470703,38.2612190246582,39.00269317626953,38.84169006347656,38.84217834472656,38.86650085449219,38.848411560058594,38.84032440185547,38.865203857421875,38.87806701660156,38.87091064453125,38.89107894897461,38.881282806396484,38.89522171020508,38.89765167236328,38.899391174316406,37.206787109375,34.79607391357422,34.83070373535156,34.84201431274414,35.632713317871094,0.0,0.0,0.0,0.0,0.0,0.0,0.0,0.0,0.0,0.0,0.0],[0.0,0.0,0.0,0.0,0.0,0.0,0.0,0.0,0.0,0.0,0.0,0.0,0.0,0.0,0.0,0.0,0.0,0.0,35.58526611328125,34.776371002197266,34.74393081665039,34.72322082519531,38.20487976074219,38.85359573364258,38.85234832763672,38.850990295410156,38.85125732421875,38.83988571166992,38.88129806518555,38.874942779541016,38.87775421142578,38.879608154296875,38.8790397644043,38.910423278808594,38.91178894042969,38.922874450683594,38.946998596191406,38.93934631347656,38.954803466796875,35.2040901184082,34.81862258911133,34.8355712890625,32.074405670166016,0.0,0.0,0.0,0.0,0.0,0.0,0.0,0.0,0.0,0.0,0.0],[0.0,0.0,0.0,0.0,0.0,0.0,0.0,0.0,0.0,0.0,0.0,0.0,0.0,0.0,0.0,0.0,0.0,0.0,0.0,34.761573791503906,34.73529815673828,34.7047119140625,34.810890197753906,38.8471794128418,38.845863342285156,38.85439682006836,38.844566345214844,38.85225296020508,38.892333984375,38.87596893310547,38.896297454833984,38.88749694824219,38.898685455322266,38.88987731933594,38.94014358520508,38.94131851196289,38.944583892822266,38.93695068359375,38.952213287353516,38.960304260253906,34.79437255859375,34.81205368041992,34.82218551635742,35.194244384765625,0.0,0.0,0.0,0.0,0.0,0.0,0.0,0.0,0.0,0.0],[0.0,0.0,0.0,0.0,0.0,0.0,0.0,0.0,0.0,0.0,0.0,0.0,0.0,0.0,0.0,0.0,0.0,0.0,0.0,0.0,34.74835205078125,34.71897888183594,34.743995666503906,38.930110931396484,38.85899353027344,38.847679138183594,38.856502532958984,38.84870910644531,38.847164154052734,38.85873031616211,38.86857223510742,38.86841583251953,38.904537200927734,38.905521392822266,38.92650604248047,38.91747283935547,38.93278503417969,38.90663528442383,38.8998908996582,38.90665817260742,34.779788970947266,34.797584533691406,34.8079948425293,34.810611724853516,33.84506607055664,0.0,0.0,0.0,0.0,0.0,0.0,0.0,0.0,0.0],[0.0,0.0,0.0,0.0,0.0,0.0,0.0,0.0,0.0,0.0,0.0,0.0,0.0,0.0,0.0,0.0,0.0,0.0,0.0,0.0,32.93240737915039,34.743080139160156,34.7278938293457,34.71779251098633,38.87174987792969,38.86620330810547,38.856563568115234,38.85513687133789,38.853675842285156,38.87443542480469,38.898719787597656,38.91063690185547,38.91254806518555,38.92445373535156,38.92634582519531,38.91285705566406,38.92322540283203,38.9312744140625,38.924888610839844,38.91924285888672,38.94405746459961,34.79366683959961,34.824588775634766,34.812721252441406,35.45505142211914,0.0,0.0,0.0,0.0,0.0,0.0,0.0,0.0,0.0],[0.0,0.0,0.0,0.0,0.0,0.0,0.0,0.0,0.0,0.0,0.0,0.0,0.0,0.0,0.0,0.0,0.0,0.0,0.0,0.0,0.0,34.775596618652344,34.780452728271484,34.736427307128906,37.88482666015625,38.89306640625,38.86322784423828,38.8614616394043,38.88026809692383,38.8868293762207,38.9007682800293,38.901241302490234,38.92169952392578,38.890567779541016,38.90959548950195,38.90862274169922,38.90766525268555,38.89958953857422,38.920982360839844,38.907711029052734,38.90864181518555,36.37706756591797,34.78712463378906,34.79979705810547,34.811588287353516,30.447715759277344,0.0,0.0,0.0,0.0,0.0,0.0,0.0,0.0],[0.0,0.0,0.0,0.0,0.0,0.0,0.0,0.0,0.0,0.0,0.0,0.0,0.0,0.0,0.0,0.0,0.0,0.0,0.0,0.0,0.0,35.10654067993164,34.7818717956543,34.756591796875,34.764854431152344,38.89295959472656,38.88095474243164,38.940242767333984,38.88957595825195,38.87594223022461,38.918521881103516,38.890716552734375,38.88956069946289,38.898399353027344,38.89725112915039,38.886104583740234,38.902809143066406,38.90465545654297,38.907657623291016,38.910560607910156,38.9251708984375,38.92301940917969,34.9828987121582,34.7757682800293,34.805423736572266,33.28158950805664,0.0,0.0,0.0,0.0,0.0,0.0,0.0,0.0],[0.0,0.0,0.0,0.0,0.0,0.0,0.0,0.0,0.0,0.0,0.0,0.0,0.0,0.0,0.0,0.0,0.0,0.0,0.0,0.0,0.0,0.0,34.82234191894531,34.786251068115234,34.75319290161133,38.81216812133789,38.923404693603516,39.19253921508789,38.911705017089844,38.89396667480469,38.90528869628906,38.904415130615234,38.90312957763672,38.9118537902832,38.91057205200195,38.89688491821289,38.90580368041992,38.909393310546875,38.9149169921875,38.93114471435547,38.93583679199219,34.903770446777344,34.853755950927734,34.82661056518555,34.77207565307617,34.75785446166992,35.54270553588867,0.0,0.0,0.0,0.0,0.0,0.0,0.0],[0.0,0.0,0.0,0.0,0.0,0.0,0.0,0.0,0.0,0.0,0.0,0.0,0.0,0.0,0.0,0.0,0.0,0.0,0.0,0.0,0.0,0.0,33.536598205566406,34.83891677856445,34.80636978149414,34.784324645996094,39.045230865478516,38.93353271484375,39.110530853271484,38.924522399902344,38.91529083251953,38.93238067626953,38.921897888183594,38.92664337158203,38.92188262939453,38.91691207885742,38.924705505371094,38.93251037597656,38.94032287597656,37.4207878112793,34.95557403564453,36.662086486816406,36.76152801513672,35.67084503173828,34.749610900878906,34.74624252319336,34.790313720703125,0.0,0.0,0.0,0.0,0.0,0.0,0.0],[0.0,0.0,0.0,0.0,0.0,0.0,0.0,0.0,0.0,0.0,0.0,0.0,0.0,0.0,0.0,0.0,0.0,0.0,0.0,0.0,0.0,0.0,0.0,35.18450164794922,34.83245086669922,34.81394958496094,38.07387924194336,38.95069885253906,39.35731506347656,39.09102249145508,38.921512603759766,38.93818283081055,38.94483184814453,38.93795394897461,38.95170974731445,38.94855880737305,38.945438385009766,38.143150329589844,35.079402923583984,34.938011169433594,36.812442779541016,36.68941879272461,36.708858489990234,36.786468505859375,34.81486511230469,34.751060485839844,35.14631652832031,33.474517822265625,0.0,0.0,0.0,0.0,0.0,0.0],[0.0,0.0,0.0,0.0,0.0,0.0,0.0,0.0,0.0,0.0,0.0,0.0,0.0,0.0,0.0,0.0,0.0,0.0,0.0,0.0,0.0,0.0,0.0,0.0,34.85027313232422,34.817195892333984,34.80680847167969,37.98337173461914,38.95001983642578,39.66381072998047,38.94441604614258,38.935882568359375,38.94252014160156,38.936309814453125,38.94414138793945,38.98347091674805,35.02996826171875,35.16645812988281,34.712928771972656,36.81938934326172,36.77942657470703,36.6327018737793,35.73647689819336,34.9417839050293,34.989315032958984,35.26557159423828,28.530487060546875,28.499305725097656,28.49738121032715,0.0,0.0,0.0,0.0,0.0],[0.0,0.0,0.0,0.0,0.0,0.0,0.0,0.0,0.0,0.0,0.0,0.0,0.0,0.0,0.0,0.0,0.0,0.0,0.0,0.0,0.0,0.0,0.0,0.0,35.07721710205078,34.7848014831543,34.79461669921875,35.012123107910156,38.9195442199707,38.932472229003906,39.300296783447266,38.92789077758789,38.896507263183594,38.92103576660156,38.549476623535156,34.85715866088867,35.10481262207031,34.68244171142578,34.6900634765625,34.73767852783203,36.52141189575195,35.09656524658203,34.868133544921875,35.503501892089844,28.68010139465332,28.486541748046875,28.490724563598633,28.469226837158203,28.459007263183594,0.0,0.0,0.0,0.0,0.0],[0.0,0.0,0.0,0.0,0.0,0.0,0.0,0.0,0.0,0.0,0.0,0.0,0.0,0.0,0.0,0.0,0.0,0.0,0.0,0.0,0.0,0.0,0.0,0.0,0.0,34.83342361450195,34.823760986328125,34.8292121887207,37.371925354003906,38.951011657714844,38.96072769165039,38.967811584472656,38.658958435058594,36.14186477661133,35.146732330322266,34.82157516479492,34.74641418457031,36.42912292480469,34.89506530761719,34.76640701293945,32.75274658203125,35.54534912109375,28.99711799621582,28.50269317626953,28.49872398376465,28.4744930267334,28.47334098815918,28.461360931396484,28.438873291015625,28.4512939453125,0.0,0.0,0.0,0.0],[0.0,0.0,0.0,0.0,0.0,0.0,0.0,0.0,0.0,0.0,0.0,0.0,0.0,0.0,0.0,0.0,0.0,0.0,0.0,0.0,0.0,0.0,0.0,0.0,0.0,34.472618103027344,34.802337646484375,34.781593322753906,34.79230499267578,38.94585418701172,37.882972717285156,35.45003890991211,34.93709945678711,34.941314697265625,35.047401428222656,36.703407287597656,36.56938171386719,36.397499084472656,34.392372131347656,34.91010665893555,32.523414611816406,30.23274040222168,28.478796005249023,28.470096588134766,28.454782485961914,28.440614700317383,28.43415641784668,28.452823638916016,28.440467834472656,28.652725219726562,0.0,0.0,0.0,0.0],[0.0,0.0,0.0,0.0,0.0,0.0,0.0,0.0,0.0,0.0,0.0,0.0,0.0,0.0,0.0,0.0,0.0,0.0,0.0,0.0,0.0,0.0,0.0,0.0,0.0,0.0,34.8497200012207,34.841495513916016,34.827171325683594,37.076534271240234,34.80658721923828,35.26280212402344,35.23907470703125,36.62186050415039,36.75657653808594,35.271209716796875,34.90281677246094,34.792240142822266,35.53205871582031,28.528919219970703,28.487815856933594,28.504440307617188,28.440031051635742,28.455486297607422,28.42909812927246,28.4250431060791,28.448143005371094,28.43682098388672,28.60375213623047,29.17715072631836,0.0,0.0,0.0,0.0],[0.0,0.0,0.0,0.0,0.0,0.0,0.0,0.0,0.0,0.0,0.0,0.0,0.0,0.0,0.0,0.0,0.0,0.0,0.0,0.0,0.0,0.0,0.0,0.0,0.0,0.0,33.216339111328125,34.84706497192383,34.82903289794922,34.812339782714844,34.79257583618164,34.768951416015625,36.42531967163086,34.788047790527344,34.78936767578125,34.920894622802734,35.33573913574219,32.41877365112305,28.509044647216797,28.46474838256836,28.460689544677734,28.446929931640625,28.583425521850586,28.427898406982422,28.43000030517578,28.415727615356445,28.588254928588867,28.425962448120117,21.532482147216797,16.12311553955078,0.0,0.0,0.0,0.0],[0.0,0.0,0.0,0.0,0.0,0.0,0.0,0.0,0.0,0.0,0.0,0.0,0.0,0.0,0.0,0.0,0.0,0.0,0.0,0.0,0.0,0.0,0.0,0.0,0.0,0.0,0.0,34.72727966308594,34.799861907958984,34.79367446899414,34.774417877197266,34.751258850097656,34.758060455322266,34.82820510864258,35.12424087524414,29.719459533691406,28.504541397094727,28.49687957763672,28.48128318786621,28.43523597717285,28.432720184326172,28.430377960205078,28.418153762817383,28.41008186340332,28.55019187927246,28.425966262817383,23.467058181762695,16.092939376831055,16.078922271728516,16.098690032958984,16.118003845214844,0.0,0.0,0.0],[0.0,0.0,0.0,0.0,0.0,0.0,0.0,0.0,0.0,0.0,0.0,0.0,0.0,0.0,0.0,0.0,0.0,0.0,0.0,0.0,0.0,0.0,0.0,0.0,0.0,0.0,0.0,30.80057144165039,34.807674407958984,34.781471252441406,34.762027740478516,34.751197814941406,35.01213455200195,34.542354583740234,28.502483367919922,28.487594604492188,28.472549438476562,28.47463607788086,28.447696685791016,28.413105010986328,28.425500869750977,28.41225814819336,28.389080047607422,28.39588737487793,24.394145965576172,16.080148696899414,16.06995391845703,16.059249877929688,16.064987182617188,16.058408737182617,16.07789421081543,9.750000953674316,0.0,0.0],[0.0,0.0,0.0,0.0,0.0,0.0,0.0,0.0,0.0,0.0,0.0,0.0,0.0,0.0,0.0,0.0,0.0,0.0,0.0,0.0,0.0,0.0,0.0,0.0,0.0,0.0,0.0,0.0,35.018272399902344,34.768798828125,34.88289260864258,34.53938674926758,28.521984100341797,28.505382537841797,28.490577697753906,28.465137481689453,28.518604278564453,28.44899559020996,28.44491195678711,28.39899253845215,28.415752410888672,28.392803192138672,29.045467376708984,20.35212516784668,16.0717716217041,16.054826736450195,16.05373764038086,16.063270568847656,16.058408737182617,16.04680633544922,16.048118591308594,16.079998016357422,0.0,0.0],[0.0,0.0,0.0,0.0,0.0,0.0,0.0,0.0,0.0,0.0,0.0,0.0,0.0,0.0,0.0,0.0,0.0,0.0,0.0,0.0,0.0,0.0,0.0,0.0,0.0,0.0,0.0,0.0,0.0,33.22624206542969,28.650915145874023,28.511642456054688,28.496700286865234,28.478330612182617,28.4616756439209,28.454687118530273,28.43743896484375,28.480993270874023,28.39828872680664,28.389989852905273,28.702905654907227,16.259519577026367,16.066364288330078,16.069355010986328,16.058460235595703,16.04940414428711,16.047229766845703,16.037551879882812,16.01278305053711,16.03097152709961,16.040000915527344,16.060001373291016,16.09000015258789,0.0],[0.0,0.0,0.0,0.0,0.0,0.0,0.0,0.0,0.0,0.0,0.0,0.0,0.0,0.0,0.0,0.0,0.0,0.0,0.0,0.0,0.0,0.0,0.0,0.0,0.0,0.0,0.0,0.0,0.0,28.532089233398438,28.52021026611328,28.501102447509766,28.486007690429688,28.47732925415039,28.460342407226562,28.443056106567383,28.391590118408203,28.389379501342773,28.36674690246582,21.198436737060547,16.091352462768555,16.06783103942871,16.071868896484375,16.061676025390625,16.041080474853516,16.016071319580078,16.01858901977539,16.00895881652832,16.01369857788086,16.012226104736328,16.020000457763672,16.020000457763672,16.059999465942383,0.0],[0.0,0.0,0.0,0.0,0.0,0.0,0.0,0.0,0.0,0.0,0.0,0.0,0.0,0.0,0.0,0.0,0.0,0.0,0.0,0.0,0.0,0.0,0.0,0.0,0.0,0.0,0.0,0.0,0.0,0.0,28.5147647857666,28.489341735839844,28.493507385253906,28.474050521850586,28.439834594726562,28.422924041748047,28.50737953186035,26.10469627380371,16.59169578552246,16.103050231933594,16.075712203979492,16.061620712280273,16.064960479736328,16.034337997436523,16.013425827026367,15.988100051879883,15.977531433105469,15.982940673828125,15.990415573120117,15.997640609741211,16.020000457763672,16.010000228881836,14.270000457763672,16.920000076293945],[0.0,0.0,0.0,0.0,0.0,0.0,0.0,0.0,0.0,0.0,0.0,0.0,0.0,0.0,0.0,0.0,0.0,0.0,0.0,0.0,0.0,0.0,0.0,0.0,0.0,0.0,0.0,0.0,0.0,0.0,28.50602912902832,28.4797420501709,28.46027946472168,28.465084075927734,28.56813621520996,28.814828872680664,16.174978256225586,16.151962280273438,16.09880828857422,16.090057373046875,16.074356079101562,16.058320999145508,16.051172256469727,16.050325393676758,16.02923583984375,16.0001277923584,15.963529586791992,15.96757698059082,15.969747543334961,15.975472450256348,16.0,14.379999160766602,0.0,0.0],[0.0,0.0,0.0,0.0,0.0,0.0,0.0,0.0,0.0,0.0,0.0,0.0,0.0,0.0,0.0,0.0,0.0,0.0,0.0,0.0,0.0,0.0,0.0,0.0,0.0,0.0,0.0,0.0,0.0,0.0,0.0,28.477886199951172,28.672683715820312,28.668315887451172,19.017494201660156,16.16733169555664,16.12782859802246,16.104862213134766,16.091663360595703,16.073131561279297,16.067495346069336,16.054794311523438,16.024274826049805,16.033294677734375,16.00240707397461,15.993751525878906,15.994179725646973,15.982568740844727,15.964405059814453,9.690000534057617,0.0,0.0,0.0,0.0],[0.0,0.0,0.0,0.0,0.0,0.0,0.0,0.0,0.0,0.0,0.0,0.0,0.0,0.0,0.0,0.0,0.0,0.0,0.0,0.0,0.0,0.0,0.0,0.0,0.0,0.0,0.0,0.0,0.0,0.0,0.0,28.700664520263672,27.596895217895508,16.197586059570312,16.197040557861328,16.156721115112305,16.117177963256836,16.084001541137695,16.07071876525879,16.052452087402344,16.036985397338867,16.030961990356445,16.021217346191406,16.022624969482422,16.0213623046875,16.012901306152344,15.994028091430664,15.922720909118652,4.175959587097168,0.0,0.0,0.0,0.0,0.0],[0.0,0.0,0.0,0.0,0.0,0.0,0.0,0.0,0.0,0.0,0.0,0.0,0.0,0.0,0.0,0.0,0.0,0.0,0.0,0.0,0.0,0.0,0.0,0.0,0.0,0.0,0.0,0.0,0.0,0.0,0.0,0.0,0.0,16.209741592407227,16.170860290527344,16.15041160583496,16.130205154418945,16.086475372314453,16.07273292541504,16.044933319091797,16.0296688079834,16.01363754272461,16.023883819580078,16.035436630249023,16.022842407226562,15.997491836547852,3.746969699859619,0.0,0.0,0.0,0.0,0.0,0.0,0.0],[0.0,0.0,0.0,0.0,0.0,0.0,0.0,0.0,0.0,0.0,0.0,0.0,0.0,0.0,0.0,0.0,0.0,0.0,0.0,0.0,0.0,0.0,0.0,0.0,0.0,0.0,0.0,0.0,0.0,0.0,0.0,0.0,0.0,0.0,16.179492950439453,16.13871955871582,16.118328094482422,16.084640502929688,16.068614959716797,16.052114486694336,16.036483764648438,16.020000457763672,16.000381469726562,16.028343200683594,15.996116638183594,0.0,0.0,0.0,0.0,0.0,0.0,0.0,0.0,0.0],[0.0,0.0,0.0,0.0,0.0,0.0,0.0,0.0,0.0,0.0,0.0,0.0,0.0,0.0,0.0,0.0,0.0,0.0,0.0,0.0,0.0,0.0,0.0,0.0,0.0,0.0,0.0,0.0,0.0,0.0,0.0,0.0,0.0,0.0,16.18000030517578,16.15999984741211,16.1200008392334,16.100000381469727,16.059999465942383,16.044815063476562,13.714069366455078,15.99859619140625,15.999826431274414,0.0,0.0,0.0,0.0,0.0,0.0,0.0,0.0,0.0,0.0,0.0],[0.0,0.0,0.0,0.0,0.0,0.0,0.0,0.0,0.0,0.0,0.0,0.0,0.0,0.0,0.0,0.0,0.0,0.0,0.0,0.0,0.0,0.0,0.0,0.0,0.0,0.0,0.0,0.0,0.0,0.0,0.0,0.0,0.0,0.0,0.0,16.170000076293945,16.1299991607666,16.09000015258789,16.06999969482422,16.059999465942383,16.01999855041504,9.279999732971191,0.0,0.0,0.0,0.0,0.0,0.0,0.0,0.0,0.0,0.0,0.0,0.0],[0.0,0.0,0.0,0.0,0.0,0.0,0.0,0.0,0.0,0.0,0.0,0.0,0.0,0.0,0.0,0.0,0.0,0.0,0.0,0.0,0.0,0.0,0.0,0.0,0.0,0.0,0.0,0.0,0.0,0.0,0.0,0.0,0.0,0.0,0.0,16.149999618530273,16.14000129699707,16.1200008392334,16.110000610351562,11.209999084472656,0.0,0.0,0.0,0.0,0.0,0.0,0.0,0.0,0.0,0.0,0.0,0.0,0.0,0.0],[0.0,0.0,0.0,0.0,0.0,0.0,0.0,0.0,0.0,0.0,0.0,0.0,0.0,0.0,0.0,0.0,0.0,0.0,0.0,0.0,0.0,0.0,0.0,0.0,0.0,0.0,0.0,0.0,0.0,0.0,0.0,0.0,0.0,0.0,0.0,0.0,16.15999984741211,14.440000534057617,0.0,0.0,0.0,0.0,0.0,0.0,0.0,0.0,0.0,0.0,0.0,0.0,0.0,0.0,0.0,0.0],[0.0,0.0,0.0,0.0,0.0,0.0,0.0,0.0,0.0,0.0,0.0,0.0,0.0,0.0,0.0,0.0,0.0,0.0,0.0,0.0,0.0,0.0,0.0,0.0,0.0,0.0,0.0,0.0,0.0,0.0,0.0,0.0,0.0,0.0,0.0,0.0,0.0,0.0,0.0,0.0,0.0,0.0,0.0,0.0,0.0,0.0,0.0,0.0,0.0,0.0,0.0,0.0,0.0,0.0]]}],                        {\"margin\":{\"b\":10,\"l\":30,\"r\":30,\"t\":10},\"scene\":{\"xaxis\":{\"title\":{\"text\":\"X AXIS TITLE\"}},\"yaxis\":{\"title\":{\"text\":\"Y AXIS TITLE\"}},\"zaxis\":{\"title\":{\"text\":\"Z AXIS TITLE\"}}},\"template\":{\"data\":{\"bar\":[{\"error_x\":{\"color\":\"#2a3f5f\"},\"error_y\":{\"color\":\"#2a3f5f\"},\"marker\":{\"line\":{\"color\":\"#E5ECF6\",\"width\":0.5},\"pattern\":{\"fillmode\":\"overlay\",\"size\":10,\"solidity\":0.2}},\"type\":\"bar\"}],\"barpolar\":[{\"marker\":{\"line\":{\"color\":\"#E5ECF6\",\"width\":0.5},\"pattern\":{\"fillmode\":\"overlay\",\"size\":10,\"solidity\":0.2}},\"type\":\"barpolar\"}],\"carpet\":[{\"aaxis\":{\"endlinecolor\":\"#2a3f5f\",\"gridcolor\":\"white\",\"linecolor\":\"white\",\"minorgridcolor\":\"white\",\"startlinecolor\":\"#2a3f5f\"},\"baxis\":{\"endlinecolor\":\"#2a3f5f\",\"gridcolor\":\"white\",\"linecolor\":\"white\",\"minorgridcolor\":\"white\",\"startlinecolor\":\"#2a3f5f\"},\"type\":\"carpet\"}],\"choropleth\":[{\"colorbar\":{\"outlinewidth\":0,\"ticks\":\"\"},\"type\":\"choropleth\"}],\"contour\":[{\"colorbar\":{\"outlinewidth\":0,\"ticks\":\"\"},\"colorscale\":[[0.0,\"#0d0887\"],[0.1111111111111111,\"#46039f\"],[0.2222222222222222,\"#7201a8\"],[0.3333333333333333,\"#9c179e\"],[0.4444444444444444,\"#bd3786\"],[0.5555555555555556,\"#d8576b\"],[0.6666666666666666,\"#ed7953\"],[0.7777777777777778,\"#fb9f3a\"],[0.8888888888888888,\"#fdca26\"],[1.0,\"#f0f921\"]],\"type\":\"contour\"}],\"contourcarpet\":[{\"colorbar\":{\"outlinewidth\":0,\"ticks\":\"\"},\"type\":\"contourcarpet\"}],\"heatmap\":[{\"colorbar\":{\"outlinewidth\":0,\"ticks\":\"\"},\"colorscale\":[[0.0,\"#0d0887\"],[0.1111111111111111,\"#46039f\"],[0.2222222222222222,\"#7201a8\"],[0.3333333333333333,\"#9c179e\"],[0.4444444444444444,\"#bd3786\"],[0.5555555555555556,\"#d8576b\"],[0.6666666666666666,\"#ed7953\"],[0.7777777777777778,\"#fb9f3a\"],[0.8888888888888888,\"#fdca26\"],[1.0,\"#f0f921\"]],\"type\":\"heatmap\"}],\"heatmapgl\":[{\"colorbar\":{\"outlinewidth\":0,\"ticks\":\"\"},\"colorscale\":[[0.0,\"#0d0887\"],[0.1111111111111111,\"#46039f\"],[0.2222222222222222,\"#7201a8\"],[0.3333333333333333,\"#9c179e\"],[0.4444444444444444,\"#bd3786\"],[0.5555555555555556,\"#d8576b\"],[0.6666666666666666,\"#ed7953\"],[0.7777777777777778,\"#fb9f3a\"],[0.8888888888888888,\"#fdca26\"],[1.0,\"#f0f921\"]],\"type\":\"heatmapgl\"}],\"histogram\":[{\"marker\":{\"pattern\":{\"fillmode\":\"overlay\",\"size\":10,\"solidity\":0.2}},\"type\":\"histogram\"}],\"histogram2d\":[{\"colorbar\":{\"outlinewidth\":0,\"ticks\":\"\"},\"colorscale\":[[0.0,\"#0d0887\"],[0.1111111111111111,\"#46039f\"],[0.2222222222222222,\"#7201a8\"],[0.3333333333333333,\"#9c179e\"],[0.4444444444444444,\"#bd3786\"],[0.5555555555555556,\"#d8576b\"],[0.6666666666666666,\"#ed7953\"],[0.7777777777777778,\"#fb9f3a\"],[0.8888888888888888,\"#fdca26\"],[1.0,\"#f0f921\"]],\"type\":\"histogram2d\"}],\"histogram2dcontour\":[{\"colorbar\":{\"outlinewidth\":0,\"ticks\":\"\"},\"colorscale\":[[0.0,\"#0d0887\"],[0.1111111111111111,\"#46039f\"],[0.2222222222222222,\"#7201a8\"],[0.3333333333333333,\"#9c179e\"],[0.4444444444444444,\"#bd3786\"],[0.5555555555555556,\"#d8576b\"],[0.6666666666666666,\"#ed7953\"],[0.7777777777777778,\"#fb9f3a\"],[0.8888888888888888,\"#fdca26\"],[1.0,\"#f0f921\"]],\"type\":\"histogram2dcontour\"}],\"mesh3d\":[{\"colorbar\":{\"outlinewidth\":0,\"ticks\":\"\"},\"type\":\"mesh3d\"}],\"parcoords\":[{\"line\":{\"colorbar\":{\"outlinewidth\":0,\"ticks\":\"\"}},\"type\":\"parcoords\"}],\"pie\":[{\"automargin\":true,\"type\":\"pie\"}],\"scatter\":[{\"marker\":{\"colorbar\":{\"outlinewidth\":0,\"ticks\":\"\"}},\"type\":\"scatter\"}],\"scatter3d\":[{\"line\":{\"colorbar\":{\"outlinewidth\":0,\"ticks\":\"\"}},\"marker\":{\"colorbar\":{\"outlinewidth\":0,\"ticks\":\"\"}},\"type\":\"scatter3d\"}],\"scattercarpet\":[{\"marker\":{\"colorbar\":{\"outlinewidth\":0,\"ticks\":\"\"}},\"type\":\"scattercarpet\"}],\"scattergeo\":[{\"marker\":{\"colorbar\":{\"outlinewidth\":0,\"ticks\":\"\"}},\"type\":\"scattergeo\"}],\"scattergl\":[{\"marker\":{\"colorbar\":{\"outlinewidth\":0,\"ticks\":\"\"}},\"type\":\"scattergl\"}],\"scattermapbox\":[{\"marker\":{\"colorbar\":{\"outlinewidth\":0,\"ticks\":\"\"}},\"type\":\"scattermapbox\"}],\"scatterpolar\":[{\"marker\":{\"colorbar\":{\"outlinewidth\":0,\"ticks\":\"\"}},\"type\":\"scatterpolar\"}],\"scatterpolargl\":[{\"marker\":{\"colorbar\":{\"outlinewidth\":0,\"ticks\":\"\"}},\"type\":\"scatterpolargl\"}],\"scatterternary\":[{\"marker\":{\"colorbar\":{\"outlinewidth\":0,\"ticks\":\"\"}},\"type\":\"scatterternary\"}],\"surface\":[{\"colorbar\":{\"outlinewidth\":0,\"ticks\":\"\"},\"colorscale\":[[0.0,\"#0d0887\"],[0.1111111111111111,\"#46039f\"],[0.2222222222222222,\"#7201a8\"],[0.3333333333333333,\"#9c179e\"],[0.4444444444444444,\"#bd3786\"],[0.5555555555555556,\"#d8576b\"],[0.6666666666666666,\"#ed7953\"],[0.7777777777777778,\"#fb9f3a\"],[0.8888888888888888,\"#fdca26\"],[1.0,\"#f0f921\"]],\"type\":\"surface\"}],\"table\":[{\"cells\":{\"fill\":{\"color\":\"#EBF0F8\"},\"line\":{\"color\":\"white\"}},\"header\":{\"fill\":{\"color\":\"#C8D4E3\"},\"line\":{\"color\":\"white\"}},\"type\":\"table\"}]},\"layout\":{\"annotationdefaults\":{\"arrowcolor\":\"#2a3f5f\",\"arrowhead\":0,\"arrowwidth\":1},\"autotypenumbers\":\"strict\",\"coloraxis\":{\"colorbar\":{\"outlinewidth\":0,\"ticks\":\"\"}},\"colorscale\":{\"diverging\":[[0,\"#8e0152\"],[0.1,\"#c51b7d\"],[0.2,\"#de77ae\"],[0.3,\"#f1b6da\"],[0.4,\"#fde0ef\"],[0.5,\"#f7f7f7\"],[0.6,\"#e6f5d0\"],[0.7,\"#b8e186\"],[0.8,\"#7fbc41\"],[0.9,\"#4d9221\"],[1,\"#276419\"]],\"sequential\":[[0.0,\"#0d0887\"],[0.1111111111111111,\"#46039f\"],[0.2222222222222222,\"#7201a8\"],[0.3333333333333333,\"#9c179e\"],[0.4444444444444444,\"#bd3786\"],[0.5555555555555556,\"#d8576b\"],[0.6666666666666666,\"#ed7953\"],[0.7777777777777778,\"#fb9f3a\"],[0.8888888888888888,\"#fdca26\"],[1.0,\"#f0f921\"]],\"sequentialminus\":[[0.0,\"#0d0887\"],[0.1111111111111111,\"#46039f\"],[0.2222222222222222,\"#7201a8\"],[0.3333333333333333,\"#9c179e\"],[0.4444444444444444,\"#bd3786\"],[0.5555555555555556,\"#d8576b\"],[0.6666666666666666,\"#ed7953\"],[0.7777777777777778,\"#fb9f3a\"],[0.8888888888888888,\"#fdca26\"],[1.0,\"#f0f921\"]]},\"colorway\":[\"#636efa\",\"#EF553B\",\"#00cc96\",\"#ab63fa\",\"#FFA15A\",\"#19d3f3\",\"#FF6692\",\"#B6E880\",\"#FF97FF\",\"#FECB52\"],\"font\":{\"color\":\"#2a3f5f\"},\"geo\":{\"bgcolor\":\"white\",\"lakecolor\":\"white\",\"landcolor\":\"#E5ECF6\",\"showlakes\":true,\"showland\":true,\"subunitcolor\":\"white\"},\"hoverlabel\":{\"align\":\"left\"},\"hovermode\":\"closest\",\"mapbox\":{\"style\":\"light\"},\"paper_bgcolor\":\"white\",\"plot_bgcolor\":\"#E5ECF6\",\"polar\":{\"angularaxis\":{\"gridcolor\":\"white\",\"linecolor\":\"white\",\"ticks\":\"\"},\"bgcolor\":\"#E5ECF6\",\"radialaxis\":{\"gridcolor\":\"white\",\"linecolor\":\"white\",\"ticks\":\"\"}},\"scene\":{\"xaxis\":{\"backgroundcolor\":\"#E5ECF6\",\"gridcolor\":\"white\",\"gridwidth\":2,\"linecolor\":\"white\",\"showbackground\":true,\"ticks\":\"\",\"zerolinecolor\":\"white\"},\"yaxis\":{\"backgroundcolor\":\"#E5ECF6\",\"gridcolor\":\"white\",\"gridwidth\":2,\"linecolor\":\"white\",\"showbackground\":true,\"ticks\":\"\",\"zerolinecolor\":\"white\"},\"zaxis\":{\"backgroundcolor\":\"#E5ECF6\",\"gridcolor\":\"white\",\"gridwidth\":2,\"linecolor\":\"white\",\"showbackground\":true,\"ticks\":\"\",\"zerolinecolor\":\"white\"}},\"shapedefaults\":{\"line\":{\"color\":\"#2a3f5f\"}},\"ternary\":{\"aaxis\":{\"gridcolor\":\"white\",\"linecolor\":\"white\",\"ticks\":\"\"},\"baxis\":{\"gridcolor\":\"white\",\"linecolor\":\"white\",\"ticks\":\"\"},\"bgcolor\":\"#E5ECF6\",\"caxis\":{\"gridcolor\":\"white\",\"linecolor\":\"white\",\"ticks\":\"\"}},\"title\":{\"x\":0.05},\"xaxis\":{\"automargin\":true,\"gridcolor\":\"white\",\"linecolor\":\"white\",\"ticks\":\"\",\"title\":{\"standoff\":15},\"zerolinecolor\":\"white\",\"zerolinewidth\":2},\"yaxis\":{\"automargin\":true,\"gridcolor\":\"white\",\"linecolor\":\"white\",\"ticks\":\"\",\"title\":{\"standoff\":15},\"zerolinecolor\":\"white\",\"zerolinewidth\":2}}},\"width\":700},                        {\"responsive\": true}                    ).then(function(){\n",
       "                            \n",
       "var gd = document.getElementById('e83f62ce-84e4-483d-bdae-1ee6d6c3937f');\n",
       "var x = new MutationObserver(function (mutations, observer) {{\n",
       "        var display = window.getComputedStyle(gd).display;\n",
       "        if (!display || display === 'none') {{\n",
       "            console.log([gd, 'removed!']);\n",
       "            Plotly.purge(gd);\n",
       "            observer.disconnect();\n",
       "        }}\n",
       "}});\n",
       "\n",
       "// Listen for the removal of the full notebook cells\n",
       "var notebookContainer = gd.closest('#notebook-container');\n",
       "if (notebookContainer) {{\n",
       "    x.observe(notebookContainer, {childList: true});\n",
       "}}\n",
       "\n",
       "// Listen for the clearing of the current output cell\n",
       "var outputEl = gd.closest('.output');\n",
       "if (outputEl) {{\n",
       "    x.observe(outputEl, {childList: true});\n",
       "}}\n",
       "\n",
       "                        })                };                });            </script>        </div>"
      ]
     },
     "metadata": {},
     "output_type": "display_data"
    }
   ],
   "source": [
    "fig = go.Figure(data=go.Surface (z= CHM, opacity=0.8, colorscale='agsunset'))\n",
    "                  \n",
    "\n",
    "fig.update_layout(scene = dict(\n",
    "                    xaxis_title='X AXIS TITLE',\n",
    "                    yaxis_title='Y AXIS TITLE',\n",
    "                    zaxis_title='Z AXIS TITLE'),\n",
    "                    width=700,\n",
    "                    margin=dict(r=30, b=10, l=30, t=10))\n",
    "\n",
    "fig.show()\n"
   ]
  },
  {
   "cell_type": "code",
   "execution_count": null,
   "id": "52b568cb",
   "metadata": {},
   "outputs": [],
   "source": [
    " colors = ['aggrnyl', 'agsunset', 'algae', 'amp', 'armyrose', 'balance',\n",
    "             'blackbody', 'bluered', 'blues', 'blugrn', 'bluyl', 'brbg',\n",
    "             'brwnyl', 'bugn', 'bupu', 'burg', 'burgyl', 'cividis', 'curl',\n",
    "             'darkmint', 'deep', 'delta', 'dense', 'earth', 'edge', 'electric',\n",
    "             'emrld', 'fall', 'geyser', 'gnbu', 'gray', 'greens', 'greys',\n",
    "             'haline', 'hot', 'hsv', 'ice', 'icefire', 'inferno', 'jet',\n",
    "             'magenta', 'magma', 'matter', 'mint', 'mrybm', 'mygbm', 'oranges',\n",
    "             'orrd', 'oryel', 'oxy', 'peach', 'phase', 'picnic', 'pinkyl',\n",
    "             'piyg', 'plasma', 'plotly3', 'portland', 'prgn', 'pubu', 'pubugn',\n",
    "             'puor', 'purd', 'purp', 'purples', 'purpor', 'rainbow', 'rdbu',\n",
    "             'rdgy', 'rdpu', 'rdylbu', 'rdylgn', 'redor', 'reds', 'solar',\n",
    "             'spectral', 'speed', 'sunset', 'sunsetdark', 'teal', 'tealgrn',\n",
    "             'tealrose', 'tempo', 'temps', 'thermal', 'tropic', 'turbid',\n",
    "             'turbo', 'twilight', 'viridis', 'ylgn', 'ylgnbu', 'ylorbr',\n",
    "             'ylorrd']"
   ]
  },
  {
   "cell_type": "code",
   "execution_count": 54,
   "id": "b541d366",
   "metadata": {},
   "outputs": [
    {
     "data": {
      "text/plain": [
       "40.39195"
      ]
     },
     "execution_count": 54,
     "metadata": {},
     "output_type": "execute_result"
    }
   ],
   "source": [
    "CHM.max()"
   ]
  },
  {
   "cell_type": "code",
   "execution_count": null,
   "id": "bc758fe3",
   "metadata": {},
   "outputs": [],
   "source": []
  }
 ],
 "metadata": {
  "kernelspec": {
   "display_name": "Python 3",
   "language": "python",
   "name": "python3"
  },
  "language_info": {
   "codemirror_mode": {
    "name": "ipython",
    "version": 3
   },
   "file_extension": ".py",
   "mimetype": "text/x-python",
   "name": "python",
   "nbconvert_exporter": "python",
   "pygments_lexer": "ipython3",
   "version": "3.8.8"
  }
 },
 "nbformat": 4,
 "nbformat_minor": 5
}
